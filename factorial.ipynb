{
 "cells": [
  {
   "cell_type": "code",
   "execution_count": 4,
   "id": "4f9dbe90",
   "metadata": {},
   "outputs": [
    {
     "name": "stdout",
     "output_type": "stream",
     "text": [
      "enter number12\n",
      "479001600\n"
     ]
    }
   ],
   "source": [
    "#factorial\n",
    "n=int(input(\"enter number\"))\n",
    "i=1\n",
    "f=1\n",
    "while i<=n:\n",
    "    f=f*i\n",
    "    i=i+1\n",
    "    \n",
    "print(f)\n"
   ]
  },
  {
   "cell_type": "code",
   "execution_count": 3,
   "id": "27633dc6",
   "metadata": {},
   "outputs": [
    {
     "name": "stdout",
     "output_type": "stream",
     "text": [
      "enter the number6\n",
      "6 * 1 - 6\n",
      "6 * 2 - 12\n",
      "6 * 3 - 18\n",
      "6 * 4 - 24\n",
      "6 * 5 - 30\n",
      "6 * 6 - 36\n",
      "6 * 7 - 42\n",
      "6 * 8 - 48\n",
      "6 * 9 - 54\n",
      "6 * 10 - 60\n"
     ]
    }
   ],
   "source": [
    "#factorial of 6\n",
    "n=int(input(\"enter the number\"))\n",
    "i=1\n",
    "while i<=10:\n",
    "    print(n,\"*\",i,\"-\",n*i)\n",
    "    i=i+1"
   ]
  },
  {
   "cell_type": "code",
   "execution_count": 2,
   "id": "f5515da6",
   "metadata": {},
   "outputs": [
    {
     "name": "stdout",
     "output_type": "stream",
     "text": [
      "enetr the number25\n",
      "1 4 9 16 25 36 49 64 81 100 121 144 169 196 225 256 289 324 361 400 441 484 529 576 625 "
     ]
    }
   ],
   "source": [
    "#series of square\n",
    "n=int(input(\"enetr the number\"))\n",
    "i=1\n",
    "while i<=n:\n",
    "    print(i*i,end=\" \")\n",
    "    i=i+1"
   ]
  },
  {
   "cell_type": "code",
   "execution_count": 9,
   "id": "e9d7f112",
   "metadata": {},
   "outputs": [
    {
     "name": "stdout",
     "output_type": "stream",
     "text": [
      "enter the number10\n",
      "01"
     ]
    }
   ],
   "source": [
    "#reverse series\n",
    "n=int(input(\"enter the number\"))\n",
    "r=0\n",
    "while n>0:\n",
    "    r=n%10\n",
    "    print(r,end=\"\")\n",
    "    n=n//10\n",
    "    \n",
    "    "
   ]
  },
  {
   "cell_type": "code",
   "execution_count": 11,
   "id": "8906e609",
   "metadata": {},
   "outputs": [
    {
     "name": "stdout",
     "output_type": "stream",
     "text": [
      "enter no of terms u want in fibonacci series15\n",
      "0\n",
      "1\n",
      "1\n",
      "2\n",
      "3\n",
      "5\n",
      "8\n",
      "13\n",
      "21\n",
      "34\n",
      "55\n",
      "89\n",
      "144\n",
      "233\n",
      "377\n"
     ]
    }
   ],
   "source": [
    "n=int(input(\"enter no of terms u want in fibonacci series\"))\n",
    "f1=0\n",
    "f2=1\n",
    "print(f1)\n",
    "print(f2)\n",
    "term=3\n",
    "while term<=n:\n",
    "    f3=f1+f2\n",
    "    print(f3)\n",
    "    f1=f2\n",
    "    f2=f3\n",
    "    term=term+1\n"
   ]
  },
  {
   "cell_type": "code",
   "execution_count": 4,
   "id": "0d11cde8",
   "metadata": {},
   "outputs": [
    {
     "name": "stdout",
     "output_type": "stream",
     "text": [
      "Enter the Number: \n",
      "121\n",
      "\n",
      "It is a P Number\n"
     ]
    }
   ],
   "source": [
    "#palindrome Number \n",
    "print(\"Enter the Number: \")\n",
    "num=int(input())\n",
    "rev=0\n",
    "temp=num\n",
    "while temp>0:\n",
    "    rem=temp%10\n",
    "    rev=rem+(rev*10)\n",
    "    temp=int(temp/10)\n",
    "if rev==num:\n",
    "    print(\"\\nIt is a P Number\")\n",
    "else:\n",
    "    print(\"\\nIt is not a P Number\")"
   ]
  },
  {
   "cell_type": "code",
   "execution_count": 6,
   "id": "95be02b5",
   "metadata": {},
   "outputs": [
    {
     "name": "stdout",
     "output_type": "stream",
     "text": [
      "palindrome\n"
     ]
    }
   ],
   "source": [
    "n=121\n",
    "num=n\n",
    "rv=0\n",
    "\n",
    "while n>0:\n",
    "    r=n%10\n",
    "    rv=rv*10+r\n",
    "    n=n//10\n",
    "\n",
    "\n",
    "if rv==num:\n",
    "    print(\"palindrome\")\n",
    "else:\n",
    "    print(\"not palindrome\")\n",
    "\n"
   ]
  },
  {
   "cell_type": "code",
   "execution_count": 7,
   "id": "0ffea71f",
   "metadata": {},
   "outputs": [
    {
     "name": "stdout",
     "output_type": "stream",
     "text": [
      "enter number125\n",
      "not armstrong\n"
     ]
    }
   ],
   "source": [
    "#armstrong\n",
    "n=int(input(\"enter number\"))\n",
    "num=n\n",
    "sum=0\n",
    "\n",
    "while n>0:\n",
    "    r=n%10\n",
    "    sum=sum+r**3\n",
    "    n=n//10\n",
    "\n",
    "\n",
    "if sum==num:\n",
    "    print(\"Armstrong\")\n",
    "else:\n",
    "    print(\"not armstrong\")\n"
   ]
  },
  {
   "cell_type": "code",
   "execution_count": 8,
   "id": "7867103d",
   "metadata": {},
   "outputs": [
    {
     "name": "stdout",
     "output_type": "stream",
     "text": [
      "2 "
     ]
    }
   ],
   "source": [
    "#only even number (armstrong)\n",
    "n=125\n",
    "while n>0:\n",
    "    r=n%10\n",
    "    if r%2==0:\n",
    "        print(r,end=\" \")\n",
    "    n=n//10\n"
   ]
  },
  {
   "cell_type": "code",
   "execution_count": 11,
   "id": "cd782b21",
   "metadata": {},
   "outputs": [
    {
     "name": "stdout",
     "output_type": "stream",
     "text": [
      "8\n"
     ]
    }
   ],
   "source": [
    "#sum (Armstrong)\n",
    "n=125\n",
    "sum=0\n",
    "while n>0:\n",
    "    r=n%10\n",
    "    sum=sum+r\n",
    "    n=n//10\n",
    "    \n",
    "print(sum)\n"
   ]
  },
  {
   "cell_type": "markdown",
   "id": "245abf74",
   "metadata": {},
   "source": [
    "# STRING\n",
    "#anything written in '',\"\",''' ''',\"\"\"\"\"\" is string\n",
    "#used to manage text, character data etc\n"
   ]
  },
  {
   "cell_type": "code",
   "execution_count": 12,
   "id": "04d6a2b4",
   "metadata": {},
   "outputs": [
    {
     "data": {
      "text/plain": [
       "True"
      ]
     },
     "execution_count": 12,
     "metadata": {},
     "output_type": "execute_result"
    }
   ],
   "source": [
    "name = 'amruta'\n",
    "name2 = \"amruta\"\n",
    "name\n",
    "name == name2"
   ]
  },
  {
   "cell_type": "code",
   "execution_count": 13,
   "id": "11a951d7",
   "metadata": {},
   "outputs": [
    {
     "data": {
      "text/plain": [
       "str"
      ]
     },
     "execution_count": 13,
     "metadata": {},
     "output_type": "execute_result"
    }
   ],
   "source": [
    "n=\"123456789\"\n",
    "type(n)\n",
    "roll_no = \"IT1002\"\n",
    "type(roll_no)\n"
   ]
  },
  {
   "cell_type": "code",
   "execution_count": 15,
   "id": "5c7d68ba",
   "metadata": {},
   "outputs": [],
   "source": [
    "#in string index starts with 0 to n-1\n",
    "#0-n-1 indexing called as forward indexing\n",
    "#when you want to access last element you can perform backward indexing (negative indexing)\n",
    "#negative indexing starts with -1\n",
    "\n"
   ]
  },
  {
   "cell_type": "code",
   "execution_count": 18,
   "id": "e5e21b1a",
   "metadata": {},
   "outputs": [
    {
     "data": {
      "text/plain": [
       "'t'"
      ]
     },
     "execution_count": 18,
     "metadata": {},
     "output_type": "execute_result"
    }
   ],
   "source": [
    "name =\"amruta\"\n",
    "name[0]\n",
    "#space is character\n",
    "name[1] = a\n",
    "name[4]=t\n",
    "name[-1] = a\n",
    "name[-2]=t\n",
    "\n"
   ]
  },
  {
   "cell_type": "code",
   "execution_count": 11,
   "id": "b876c7c9",
   "metadata": {},
   "outputs": [
    {
     "ename": "NameError",
     "evalue": "name 'name' is not defined",
     "output_type": "error",
     "traceback": [
      "\u001b[1;31m---------------------------------------------------------------------------\u001b[0m",
      "\u001b[1;31mNameError\u001b[0m                                 Traceback (most recent call last)",
      "Input \u001b[1;32mIn [11]\u001b[0m, in \u001b[0;36m<cell line: 4>\u001b[1;34m()\u001b[0m\n\u001b[0;32m      1\u001b[0m \u001b[38;5;66;03m#slicing\u001b[39;00m\n\u001b[0;32m      2\u001b[0m \u001b[38;5;66;03m#start:end(3 is not inclusive) 0-1-2\u001b[39;00m\n\u001b[1;32m----> 4\u001b[0m \u001b[43mname\u001b[49m [\u001b[38;5;241m0\u001b[39m:\u001b[38;5;241m3\u001b[39m] \n\u001b[0;32m      6\u001b[0m name [\u001b[38;5;241m1\u001b[39m:\u001b[38;5;241m2\u001b[39m]\n",
      "\u001b[1;31mNameError\u001b[0m: name 'name' is not defined"
     ]
    }
   ],
   "source": [
    "#slicing\n",
    "#start:end(3 is not inclusive) 0-1-2\n",
    "\n",
    "name [0:3] \n",
    "\n",
    "name [1:2]\n"
   ]
  },
  {
   "cell_type": "code",
   "execution_count": 6,
   "id": "2eecd80e",
   "metadata": {},
   "outputs": [
    {
     "data": {
      "text/plain": [
       "65"
      ]
     },
     "execution_count": 6,
     "metadata": {},
     "output_type": "execute_result"
    }
   ],
   "source": [
    "ord('A')\n"
   ]
  },
  {
   "cell_type": "code",
   "execution_count": 7,
   "id": "c800708a",
   "metadata": {},
   "outputs": [
    {
     "data": {
      "text/plain": [
       "30"
      ]
     },
     "execution_count": 7,
     "metadata": {},
     "output_type": "execute_result"
    }
   ],
   "source": [
    "data = \"this is string , lets learn it\"\n",
    "len(data)\n"
   ]
  },
  {
   "cell_type": "code",
   "execution_count": 8,
   "id": "a6cfcda6",
   "metadata": {},
   "outputs": [
    {
     "data": {
      "text/plain": [
       "'this is string , lets learn it'"
      ]
     },
     "execution_count": 8,
     "metadata": {},
     "output_type": "execute_result"
    }
   ],
   "source": [
    "data.lower()\n"
   ]
  },
  {
   "cell_type": "code",
   "execution_count": 9,
   "id": "4535dee6",
   "metadata": {},
   "outputs": [
    {
     "data": {
      "text/plain": [
       "'THIS IS STRING , LETS LEARN IT'"
      ]
     },
     "execution_count": 9,
     "metadata": {},
     "output_type": "execute_result"
    }
   ],
   "source": [
    "data.upper()\n"
   ]
  },
  {
   "cell_type": "code",
   "execution_count": 12,
   "id": "d9aa72b6",
   "metadata": {},
   "outputs": [
    {
     "data": {
      "text/plain": [
       "6"
      ]
     },
     "execution_count": 12,
     "metadata": {},
     "output_type": "execute_result"
    }
   ],
   "source": [
    "data= \"hi mam\"\n",
    "len(data)"
   ]
  },
  {
   "cell_type": "code",
   "execution_count": 13,
   "id": "3e3d7a46",
   "metadata": {},
   "outputs": [
    {
     "data": {
      "text/plain": [
       "'HI MAM'"
      ]
     },
     "execution_count": 13,
     "metadata": {},
     "output_type": "execute_result"
    }
   ],
   "source": [
    "data.upper()"
   ]
  },
  {
   "cell_type": "code",
   "execution_count": 15,
   "id": "df6f593f",
   "metadata": {},
   "outputs": [
    {
     "data": {
      "text/plain": [
       "'j'"
      ]
     },
     "execution_count": 15,
     "metadata": {},
     "output_type": "execute_result"
    }
   ],
   "source": [
    "name =\"jones\"\n",
    "name[0]"
   ]
  },
  {
   "cell_type": "code",
   "execution_count": 16,
   "id": "03044fda",
   "metadata": {},
   "outputs": [
    {
     "data": {
      "text/plain": [
       "'e'"
      ]
     },
     "execution_count": 16,
     "metadata": {},
     "output_type": "execute_result"
    }
   ],
   "source": [
    "name[-2]"
   ]
  },
  {
   "cell_type": "code",
   "execution_count": 17,
   "id": "22478eea",
   "metadata": {},
   "outputs": [
    {
     "data": {
      "text/plain": [
       "''"
      ]
     },
     "execution_count": 17,
     "metadata": {},
     "output_type": "execute_result"
    }
   ],
   "source": [
    "name[2:-3]"
   ]
  },
  {
   "cell_type": "code",
   "execution_count": 18,
   "id": "305bd64a",
   "metadata": {},
   "outputs": [
    {
     "name": "stdout",
     "output_type": "stream",
     "text": [
      "str1 + str2 =  Hello World!\n"
     ]
    }
   ],
   "source": [
    "# Python String Operations\n",
    "str1 = 'Hello'\n",
    "str2 =' World!'\n",
    "str3=str1 + str2\n",
    "# using +\n",
    "#concatenation\n",
    "\n",
    "print('str1 + str2 = ', str3)\n"
   ]
  },
  {
   "cell_type": "code",
   "execution_count": 19,
   "id": "67a53ba4",
   "metadata": {},
   "outputs": [
    {
     "name": "stdout",
     "output_type": "stream",
     "text": [
      "str1 * 3 = HelloHelloHelloHelloHello\n"
     ]
    }
   ],
   "source": [
    "# using *\n",
    "#repeatition\n",
    "print('str1 * 3 =', str1 * 5)\n"
   ]
  },
  {
   "cell_type": "code",
   "execution_count": 20,
   "id": "d8b05568",
   "metadata": {},
   "outputs": [
    {
     "name": "stdout",
     "output_type": "stream",
     "text": [
      "H\n",
      "e\n",
      "l\n",
      "l\n",
      "o\n",
      " \n",
      "W\n",
      "o\n",
      "r\n",
      "l\n",
      "d\n",
      "!\n"
     ]
    }
   ],
   "source": [
    "for i in str3:\n",
    "    print(i)\n"
   ]
  },
  {
   "cell_type": "code",
   "execution_count": 21,
   "id": "b28472b0",
   "metadata": {},
   "outputs": [
    {
     "name": "stdout",
     "output_type": "stream",
     "text": [
      "present\n"
     ]
    }
   ],
   "source": [
    "if 'Hello' in str1:\n",
    "    print(\"present\")\n",
    "else:\n",
    "    print(\"not present\")\n"
   ]
  },
  {
   "cell_type": "code",
   "execution_count": 22,
   "id": "70a049a1",
   "metadata": {},
   "outputs": [
    {
     "name": "stdout",
     "output_type": "stream",
     "text": [
      "not present\n"
     ]
    }
   ],
   "source": [
    "if 'hello' not in str1:\n",
    "    print(\"not present\")\n",
    "else:\n",
    "    print(\"present\")\n"
   ]
  },
  {
   "cell_type": "code",
   "execution_count": 23,
   "id": "45ef5963",
   "metadata": {},
   "outputs": [
    {
     "data": {
      "text/plain": [
       "'Hello world'"
      ]
     },
     "execution_count": 23,
     "metadata": {},
     "output_type": "execute_result"
    }
   ],
   "source": [
    "str.capitalize(\"hello world\")\n"
   ]
  },
  {
   "cell_type": "code",
   "execution_count": 24,
   "id": "bad8b51d",
   "metadata": {},
   "outputs": [
    {
     "data": {
      "text/plain": [
       "2"
      ]
     },
     "execution_count": 24,
     "metadata": {},
     "output_type": "execute_result"
    }
   ],
   "source": [
    "str1.find(\"l\")\n"
   ]
  },
  {
   "cell_type": "code",
   "execution_count": 25,
   "id": "ba6fbbea",
   "metadata": {},
   "outputs": [
    {
     "data": {
      "text/plain": [
       "'Yello'"
      ]
     },
     "execution_count": 25,
     "metadata": {},
     "output_type": "execute_result"
    }
   ],
   "source": [
    "str1.replace(\"H\",\"Y\")\n"
   ]
  },
  {
   "cell_type": "code",
   "execution_count": 26,
   "id": "4f8f6001",
   "metadata": {},
   "outputs": [
    {
     "data": {
      "text/plain": [
       "['this', 'is', 'string', ',', 'lets', 'learn', 'it']"
      ]
     },
     "execution_count": 26,
     "metadata": {},
     "output_type": "execute_result"
    }
   ],
   "source": [
    "data = \"this is string , lets learn it\"\n",
    "data.split(\" \")\n"
   ]
  },
  {
   "cell_type": "code",
   "execution_count": 27,
   "id": "c8d488a8",
   "metadata": {},
   "outputs": [
    {
     "name": "stdout",
     "output_type": "stream",
     "text": [
      "t\n",
      "h\n",
      "i\n",
      "s\n",
      " \n",
      "i\n",
      "s\n",
      " \n",
      "s\n",
      "t\n",
      "r\n",
      "i\n",
      "n\n",
      "g\n",
      " \n",
      ",\n",
      " \n",
      "l\n",
      "e\n",
      "t\n",
      "s\n",
      " \n",
      "l\n",
      "e\n",
      "a\n",
      "r\n",
      "n\n",
      " \n",
      "i\n",
      "t\n"
     ]
    }
   ],
   "source": [
    "for d in data:\n",
    "    print(d)\n"
   ]
  },
  {
   "cell_type": "code",
   "execution_count": 28,
   "id": "7ee6ee45",
   "metadata": {},
   "outputs": [
    {
     "name": "stdout",
     "output_type": "stream",
     "text": [
      "30\n"
     ]
    }
   ],
   "source": [
    "l=0\n",
    "for d in data:\n",
    "    l=l+1\n",
    "    \n",
    "print(l)\n"
   ]
  },
  {
   "cell_type": "code",
   "execution_count": 29,
   "id": "f6081444",
   "metadata": {},
   "outputs": [
    {
     "name": "stdout",
     "output_type": "stream",
     "text": [
      "30\n"
     ]
    }
   ],
   "source": [
    "l=0\n",
    "for d in data:\n",
    "    l=l+1\n",
    "    \n",
    "print(l)\n"
   ]
  },
  {
   "cell_type": "code",
   "execution_count": 30,
   "id": "6c8228f4",
   "metadata": {},
   "outputs": [
    {
     "data": {
      "text/plain": [
       "30"
      ]
     },
     "execution_count": 30,
     "metadata": {},
     "output_type": "execute_result"
    }
   ],
   "source": [
    "len(data) #no of characters present in string\n"
   ]
  },
  {
   "cell_type": "code",
   "execution_count": 31,
   "id": "20907cee",
   "metadata": {},
   "outputs": [
    {
     "data": {
      "text/plain": [
       "['Hi',\n",
       " 'this',\n",
       " 'is',\n",
       " 'jones',\n",
       " 'from',\n",
       " 'trichy',\n",
       " 'i',\n",
       " 'have',\n",
       " 'complete',\n",
       " 'mechanical',\n",
       " 'engineering',\n",
       " 'and',\n",
       " 'waorking',\n",
       " 'as',\n",
       " 'recuriter',\n",
       " 'in',\n",
       " 'one',\n",
       " 'of',\n",
       " 'the',\n",
       " 'famous',\n",
       " 'company,im',\n",
       " 'earning',\n",
       " 'as',\n",
       " 'much',\n",
       " 'as',\n",
       " 'im',\n",
       " 'satisfied',\n",
       " 'and',\n",
       " 'also',\n",
       " 'im',\n",
       " 'persuing',\n",
       " 'data',\n",
       " 'analyst',\n",
       " 'from',\n",
       " 'edubridge',\n",
       " 'to',\n",
       " 'get',\n",
       " 'a',\n",
       " 'knowledge',\n",
       " 'about',\n",
       " 'data',\n",
       " 'analyst']"
      ]
     },
     "execution_count": 31,
     "metadata": {},
     "output_type": "execute_result"
    }
   ],
   "source": [
    "data= \"\"\"Hi this is jones from trichy i have complete mechanical engineering and waorking as recuriter in one of the famous company,im earning as much as im satisfied and also im persuing data analyst from edubridge to get a knowledge about data analyst\"\"\"\n",
    "data.split(\" \")"
   ]
  },
  {
   "cell_type": "code",
   "execution_count": 32,
   "id": "8f42b51b",
   "metadata": {},
   "outputs": [
    {
     "name": "stdout",
     "output_type": "stream",
     "text": [
      "H\n",
      "i\n",
      " \n",
      "t\n",
      "h\n",
      "i\n",
      "s\n",
      " \n",
      "i\n",
      "s\n",
      " \n",
      "j\n",
      "o\n",
      "n\n",
      "e\n",
      "s\n",
      " \n",
      "f\n",
      "r\n",
      "o\n",
      "m\n",
      " \n",
      "t\n",
      "r\n",
      "i\n",
      "c\n",
      "h\n",
      "y\n",
      " \n",
      "i\n",
      " \n",
      "h\n",
      "a\n",
      "v\n",
      "e\n",
      " \n",
      "c\n",
      "o\n",
      "m\n",
      "p\n",
      "l\n",
      "e\n",
      "t\n",
      "e\n",
      " \n",
      "m\n",
      "e\n",
      "c\n",
      "h\n",
      "a\n",
      "n\n",
      "i\n",
      "c\n",
      "a\n",
      "l\n",
      " \n",
      "e\n",
      "n\n",
      "g\n",
      "i\n",
      "n\n",
      "e\n",
      "e\n",
      "r\n",
      "i\n",
      "n\n",
      "g\n",
      " \n",
      "a\n",
      "n\n",
      "d\n",
      " \n",
      "w\n",
      "a\n",
      "o\n",
      "r\n",
      "k\n",
      "i\n",
      "n\n",
      "g\n",
      " \n",
      "a\n",
      "s\n",
      " \n",
      "r\n",
      "e\n",
      "c\n",
      "u\n",
      "r\n",
      "i\n",
      "t\n",
      "e\n",
      "r\n",
      " \n",
      "i\n",
      "n\n",
      " \n",
      "o\n",
      "n\n",
      "e\n",
      " \n",
      "o\n",
      "f\n",
      " \n",
      "t\n",
      "h\n",
      "e\n",
      " \n",
      "f\n",
      "a\n",
      "m\n",
      "o\n",
      "u\n",
      "s\n",
      " \n",
      "c\n",
      "o\n",
      "m\n",
      "p\n",
      "a\n",
      "n\n",
      "y\n",
      ",\n",
      "i\n",
      "m\n",
      " \n",
      "e\n",
      "a\n",
      "r\n",
      "n\n",
      "i\n",
      "n\n",
      "g\n",
      " \n",
      "a\n",
      "s\n",
      " \n",
      "m\n",
      "u\n",
      "c\n",
      "h\n",
      " \n",
      "a\n",
      "s\n",
      " \n",
      "i\n",
      "m\n",
      " \n",
      "s\n",
      "a\n",
      "t\n",
      "i\n",
      "s\n",
      "f\n",
      "i\n",
      "e\n",
      "d\n",
      " \n",
      "a\n",
      "n\n",
      "d\n",
      " \n",
      "a\n",
      "l\n",
      "s\n",
      "o\n",
      " \n",
      "i\n",
      "m\n",
      " \n",
      "p\n",
      "e\n",
      "r\n",
      "s\n",
      "u\n",
      "i\n",
      "n\n",
      "g\n",
      " \n",
      "d\n",
      "a\n",
      "t\n",
      "a\n",
      " \n",
      "a\n",
      "n\n",
      "a\n",
      "l\n",
      "y\n",
      "s\n",
      "t\n",
      " \n",
      "f\n",
      "r\n",
      "o\n",
      "m\n",
      " \n",
      "e\n",
      "d\n",
      "u\n",
      "b\n",
      "r\n",
      "i\n",
      "d\n",
      "g\n",
      "e\n",
      " \n",
      "t\n",
      "o\n",
      " \n",
      "g\n",
      "e\n",
      "t\n",
      " \n",
      "a\n",
      " \n",
      "k\n",
      "n\n",
      "o\n",
      "w\n",
      "l\n",
      "e\n",
      "d\n",
      "g\n",
      "e\n",
      " \n",
      "a\n",
      "b\n",
      "o\n",
      "u\n",
      "t\n",
      " \n",
      "d\n",
      "a\n",
      "t\n",
      "a\n",
      " \n",
      "a\n",
      "n\n",
      "a\n",
      "l\n",
      "y\n",
      "s\n",
      "t\n"
     ]
    }
   ],
   "source": [
    "for d in data:\n",
    "    print(d)\n",
    "    "
   ]
  },
  {
   "cell_type": "code",
   "execution_count": 33,
   "id": "2650c2f8",
   "metadata": {},
   "outputs": [
    {
     "name": "stdout",
     "output_type": "stream",
     "text": [
      "244\n"
     ]
    }
   ],
   "source": [
    "l=0\n",
    "for d in data:\n",
    "    l=l+1\n",
    "    \n",
    "print(l)"
   ]
  },
  {
   "cell_type": "code",
   "execution_count": 34,
   "id": "e6288e5a",
   "metadata": {},
   "outputs": [
    {
     "data": {
      "text/plain": [
       "244"
      ]
     },
     "execution_count": 34,
     "metadata": {},
     "output_type": "execute_result"
    }
   ],
   "source": [
    "len(data)"
   ]
  },
  {
   "cell_type": "code",
   "execution_count": 38,
   "id": "593117e8",
   "metadata": {},
   "outputs": [
    {
     "data": {
      "text/plain": [
       "'ichy i have complete mechanical engineering and waorking as recuriter in one of the famous company,im earning as much as im satisfied and also im persuing data analyst from edubridge to g'"
      ]
     },
     "execution_count": 38,
     "metadata": {},
     "output_type": "execute_result"
    }
   ],
   "source": [
    "data[24:-33]"
   ]
  },
  {
   "cell_type": "code",
   "execution_count": 39,
   "id": "bb458987",
   "metadata": {},
   "outputs": [
    {
     "name": "stdout",
     "output_type": "stream",
     "text": [
      "['this is one line.', 'this is second line.', 'This is third line.']\n"
     ]
    }
   ],
   "source": [
    "newstr='''this is one line.\n",
    "this is second line.\n",
    "This is third line.'''\n",
    "\n",
    "lines=newstr.split('\\n')\n",
    "print(lines)\n"
   ]
  },
  {
   "cell_type": "code",
   "execution_count": 40,
   "id": "1c481de2",
   "metadata": {},
   "outputs": [
    {
     "name": "stdout",
     "output_type": "stream",
     "text": [
      "3\n"
     ]
    }
   ],
   "source": [
    "count=0\n",
    "for i in lines:\n",
    "    count=count+1\n",
    "    \n",
    "print(count)\n"
   ]
  },
  {
   "cell_type": "code",
   "execution_count": 41,
   "id": "4d65b6a7",
   "metadata": {},
   "outputs": [
    {
     "data": {
      "text/plain": [
       "'This Is One Line.\\nThis Is Second Line.\\nThis Is Third Line.'"
      ]
     },
     "execution_count": 41,
     "metadata": {},
     "output_type": "execute_result"
    }
   ],
   "source": [
    "newstr.title()\n"
   ]
  },
  {
   "cell_type": "code",
   "execution_count": 42,
   "id": "9e65fb21",
   "metadata": {},
   "outputs": [
    {
     "data": {
      "text/plain": [
       "'This is one line.\\nthis is second line.\\nthis is third line.'"
      ]
     },
     "execution_count": 42,
     "metadata": {},
     "output_type": "execute_result"
    }
   ],
   "source": [
    "newstr.capitalize()\n"
   ]
  },
  {
   "cell_type": "code",
   "execution_count": 43,
   "id": "c181eb1b",
   "metadata": {},
   "outputs": [
    {
     "data": {
      "text/plain": [
       "'THIS IS ONE LINE.\\nTHIS IS SECOND LINE.\\nTHIS IS THIRD LINE.'"
      ]
     },
     "execution_count": 43,
     "metadata": {},
     "output_type": "execute_result"
    }
   ],
   "source": [
    "newstr.upper()\n"
   ]
  },
  {
   "cell_type": "code",
   "execution_count": 44,
   "id": "49aa7e91",
   "metadata": {},
   "outputs": [
    {
     "data": {
      "text/plain": [
       "'this is one line.\\nthis is second line.\\nthis is third line.'"
      ]
     },
     "execution_count": 44,
     "metadata": {},
     "output_type": "execute_result"
    }
   ],
   "source": [
    "newstr.lower()\n"
   ]
  },
  {
   "cell_type": "code",
   "execution_count": 45,
   "id": "edc363c7",
   "metadata": {},
   "outputs": [
    {
     "name": "stdout",
     "output_type": "stream",
     "text": [
      "This is one line.\n",
      "This is second line.\n",
      "This is Third line.\n"
     ]
    }
   ],
   "source": [
    "new2=newstr.replace(\"t\",\"T\")\n",
    "print(new2)\n"
   ]
  },
  {
   "cell_type": "code",
   "execution_count": 46,
   "id": "cce23044",
   "metadata": {},
   "outputs": [
    {
     "data": {
      "text/plain": [
       "'Ihis is one line.\\nIhis is second line.\\nIhis is Ihird line.'"
      ]
     },
     "execution_count": 46,
     "metadata": {},
     "output_type": "execute_result"
    }
   ],
   "source": [
    "new2.replace('T','I')\n"
   ]
  },
  {
   "cell_type": "code",
   "execution_count": 47,
   "id": "b91560aa",
   "metadata": {},
   "outputs": [
    {
     "data": {
      "text/plain": [
       "829"
      ]
     },
     "execution_count": 47,
     "metadata": {},
     "output_type": "execute_result"
    }
   ],
   "source": [
    "data= \"\"\"In computer programming, a string is traditionally a sequence of characters, either as a literal constant or as some kind of variable. The latter may allow its elements to be mutated and the length changed, or it may be fixed (after creation). A string is generally considered as a data type and is often implemented as an array data structure of bytes (or words) that stores a sequence of elements, typically characters, using some character encoding. String may also denote more general arrays or other sequence (or list) data types and structures.\n",
    "Depending on the programming language and precise data type used, a variable declared to be a string may either cause storage in memory to be statically allocated for a predetermined maximum length or employ dynamic allocation to allow it to hold a variable number of elements.\n",
    "\"\"\"\n",
    "len(data)"
   ]
  },
  {
   "cell_type": "code",
   "execution_count": 51,
   "id": "497e78f6",
   "metadata": {},
   "outputs": [
    {
     "data": {
      "text/plain": [
       "'In computer programming, a STRING is traditionally a sequence of characters, either as a literal constant or as some kind of variable. The latter may allow its elements to be mutated and the length changed, or it may be fixed (after creation). A STRING is generally considered as a data type and is often implemented as an array data structure of bytes (or words) that stores a sequence of elements, typically characters, using some character encoding. String may also denote more general arrays or other sequence (or list) data types and structures.\\nDepending on the programming language and precise data type used, a variable declared to be a STRING may either cause storage in memory to be statically allocated for a predetermined maximum length or employ dynamic allocation to allow it to hold a variable number of elements.\\n'"
      ]
     },
     "execution_count": 51,
     "metadata": {},
     "output_type": "execute_result"
    }
   ],
   "source": [
    "data= \"\"\"In computer programming, a string is traditionally a sequence of characters, either as a literal constant or as some kind of variable. The latter may allow its elements to be mutated and the length changed, or it may be fixed (after creation). A string is generally considered as a data type and is often implemented as an array data structure of bytes (or words) that stores a sequence of elements, typically characters, using some character encoding. String may also denote more general arrays or other sequence (or list) data types and structures.\n",
    "Depending on the programming language and precise data type used, a variable declared to be a string may either cause storage in memory to be statically allocated for a predetermined maximum length or employ dynamic allocation to allow it to hold a variable number of elements.\n",
    "\"\"\"\n",
    "data.replace(\"string\",\"STRING\")"
   ]
  },
  {
   "cell_type": "code",
   "execution_count": 52,
   "id": "6c177211",
   "metadata": {},
   "outputs": [
    {
     "data": {
      "text/plain": [
       "['In',\n",
       " 'computer',\n",
       " 'programming,',\n",
       " 'a',\n",
       " 'string',\n",
       " 'is',\n",
       " 'traditionally',\n",
       " 'a',\n",
       " 'sequence',\n",
       " 'of',\n",
       " 'characters,',\n",
       " 'either',\n",
       " 'as',\n",
       " 'a',\n",
       " 'literal',\n",
       " 'constant',\n",
       " 'or',\n",
       " 'as',\n",
       " 'some',\n",
       " 'kind',\n",
       " 'of',\n",
       " 'variable.',\n",
       " 'The',\n",
       " 'latter',\n",
       " 'may',\n",
       " 'allow',\n",
       " 'its',\n",
       " 'elements',\n",
       " 'to',\n",
       " 'be',\n",
       " 'mutated',\n",
       " 'and',\n",
       " 'the',\n",
       " 'length',\n",
       " 'changed,',\n",
       " 'or',\n",
       " 'it',\n",
       " 'may',\n",
       " 'be',\n",
       " 'fixed',\n",
       " '(after',\n",
       " 'creation).',\n",
       " 'A',\n",
       " 'string',\n",
       " 'is',\n",
       " 'generally',\n",
       " 'considered',\n",
       " 'as',\n",
       " 'a',\n",
       " 'data',\n",
       " 'type',\n",
       " 'and',\n",
       " 'is',\n",
       " 'often',\n",
       " 'implemented',\n",
       " 'as',\n",
       " 'an',\n",
       " 'array',\n",
       " 'data',\n",
       " 'structure',\n",
       " 'of',\n",
       " 'bytes',\n",
       " '(or',\n",
       " 'words)',\n",
       " 'that',\n",
       " 'stores',\n",
       " 'a',\n",
       " 'sequence',\n",
       " 'of',\n",
       " 'elements,',\n",
       " 'typically',\n",
       " 'characters,',\n",
       " 'using',\n",
       " 'some',\n",
       " 'character',\n",
       " 'encoding.',\n",
       " 'String',\n",
       " 'may',\n",
       " 'also',\n",
       " 'denote',\n",
       " 'more',\n",
       " 'general',\n",
       " 'arrays',\n",
       " 'or',\n",
       " 'other',\n",
       " 'sequence',\n",
       " '(or',\n",
       " 'list)',\n",
       " 'data',\n",
       " 'types',\n",
       " 'and',\n",
       " 'structures.',\n",
       " 'Depending',\n",
       " 'on',\n",
       " 'the',\n",
       " 'programming',\n",
       " 'language',\n",
       " 'and',\n",
       " 'precise',\n",
       " 'data',\n",
       " 'type',\n",
       " 'used,',\n",
       " 'a',\n",
       " 'variable',\n",
       " 'declared',\n",
       " 'to',\n",
       " 'be',\n",
       " 'a',\n",
       " 'string',\n",
       " 'may',\n",
       " 'either',\n",
       " 'cause',\n",
       " 'storage',\n",
       " 'in',\n",
       " 'memory',\n",
       " 'to',\n",
       " 'be',\n",
       " 'statically',\n",
       " 'allocated',\n",
       " 'for',\n",
       " 'a',\n",
       " 'predetermined',\n",
       " 'maximum',\n",
       " 'length',\n",
       " 'or',\n",
       " 'employ',\n",
       " 'dynamic',\n",
       " 'allocation',\n",
       " 'to',\n",
       " 'allow',\n",
       " 'it',\n",
       " 'to',\n",
       " 'hold',\n",
       " 'a',\n",
       " 'variable',\n",
       " 'number',\n",
       " 'of',\n",
       " 'elements.']"
      ]
     },
     "execution_count": 52,
     "metadata": {},
     "output_type": "execute_result"
    }
   ],
   "source": [
    "data= \"\"\"In computer programming, a string is traditionally a sequence of characters, either as a literal constant or as some kind of variable. The latter may allow its elements to be mutated and the length changed, or it may be fixed (after creation). A string is generally considered as a data type and is often implemented as an array data structure of bytes (or words) that stores a sequence of elements, typically characters, using some character encoding. String may also denote more general arrays or other sequence (or list) data types and structures.\n",
    "Depending on the programming language and precise data type used, a variable declared to be a string may either cause storage in memory to be statically allocated for a predetermined maximum length or employ dynamic allocation to allow it to hold a variable number of elements.\n",
    "\"\"\"\n",
    "data. split()"
   ]
  },
  {
   "cell_type": "code",
   "execution_count": 53,
   "id": "ebc59881",
   "metadata": {},
   "outputs": [
    {
     "data": {
      "text/plain": [
       "'In computer programming, a string in python is traditionally a sequence of characters, either as a literal constant or as some kind of variable. The latter may allow its elements to be mutated and the length changed, or it may be fixed (after creation). A string in python is generally considered as a data type and is often implemented as an array data structure of bytes (or words) that stores a sequence of elements, typically characters, using some character encoding. String may also denote more general arrays or other sequence (or list) data types and structures.\\nDepending on the programming language and precise data type used, a variable declared to be a string in python may either cause storage in memory to be statically allocated for a predetermined maximum length or employ dynamic allocation to allow it to hold a variable number of elements.\\n'"
      ]
     },
     "execution_count": 53,
     "metadata": {},
     "output_type": "execute_result"
    }
   ],
   "source": [
    "data= \"\"\"In computer programming, a string is traditionally a sequence of characters, either as a literal constant or as some kind of variable. The latter may allow its elements to be mutated and the length changed, or it may be fixed (after creation). A string is generally considered as a data type and is often implemented as an array data structure of bytes (or words) that stores a sequence of elements, typically characters, using some character encoding. String may also denote more general arrays or other sequence (or list) data types and structures.\n",
    "Depending on the programming language and precise data type used, a variable declared to be a string may either cause storage in memory to be statically allocated for a predetermined maximum length or employ dynamic allocation to allow it to hold a variable number of elements.\n",
    "\"\"\"\n",
    "data.replace(\"string\",\"string in python\")"
   ]
  },
  {
   "cell_type": "code",
   "execution_count": 54,
   "id": "54dee17d",
   "metadata": {},
   "outputs": [
    {
     "data": {
      "text/plain": [
       "'In computer programming, a ptring ip traditionally a pequence of characterp, either ap a literal conptant or ap pome kind of variable. The latter may allow itp elementp to be mutated and the length changed, or it may be fixed (after creation). A ptring ip generally conpidered ap a data type and ip often implemented ap an array data ptructure of bytep (or wordp) that ptorep a pequence of elementp, typically characterp, uping pome character encoding. String may alpo denote more general arrayp or other pequence (or lipt) data typep and ptructurep.\\nDepending on the programming language and precipe data type uped, a variable declared to be a ptring may either caupe ptorage in memory to be ptatically allocated for a predetermined maximum length or employ dynamic allocation to allow it to hold a variable number of elementp.\\n'"
      ]
     },
     "execution_count": 54,
     "metadata": {},
     "output_type": "execute_result"
    }
   ],
   "source": [
    "data= \"\"\"In computer programming, a string is traditionally a sequence of characters, either as a literal constant or as some kind of variable. The latter may allow its elements to be mutated and the length changed, or it may be fixed (after creation). A string is generally considered as a data type and is often implemented as an array data structure of bytes (or words) that stores a sequence of elements, typically characters, using some character encoding. String may also denote more general arrays or other sequence (or list) data types and structures.\n",
    "Depending on the programming language and precise data type used, a variable declared to be a string may either cause storage in memory to be statically allocated for a predetermined maximum length or employ dynamic allocation to allow it to hold a variable number of elements.\n",
    "\"\"\"\n",
    "data.replace(\"s\",\"p\")"
   ]
  },
  {
   "cell_type": "code",
   "execution_count": 10,
   "id": "b2a6262d",
   "metadata": {},
   "outputs": [
    {
     "name": "stdout",
     "output_type": "stream",
     "text": [
      "Kindly Enter Your Username And Password\n",
      "Enter Your Username: shreya\n",
      "Enter Your Password: dsfgb\n",
      "Access Denied. Sorry, Try again.\n",
      "Enter Your Username: shreya\n",
      "Enter Your Password: Shreya@25\n",
      "Access Granted!\n"
     ]
    }
   ],
   "source": [
    "#username and password\n",
    "print(\"Kindly Enter Your Username And Password\")\n",
    "count = 0\n",
    "while count<3:\n",
    "    username = input(\"Enter Your Username: \")\n",
    "    password = input(\"Enter Your Password: \")\n",
    "    if username=='shreya' and password=='Shreya@25':\n",
    "        print(\"Access Granted!\")\n",
    "        break\n",
    "    else:\n",
    "        print(\"Access Denied. Sorry, Try again.\")\n",
    "    count = count+1\n"
   ]
  },
  {
   "cell_type": "code",
   "execution_count": 11,
   "id": "29559bb2",
   "metadata": {},
   "outputs": [],
   "source": [
    "empty = [] #creation of empty list\n"
   ]
  },
  {
   "cell_type": "code",
   "execution_count": 12,
   "id": "db34c724",
   "metadata": {},
   "outputs": [],
   "source": [
    "num_list = [1,2,3,4,5] #numeric data\n",
    "char_list = [\"abc\",\"xyz\",\"pqr\",\"ijk\"] #character/string data\n",
    "com_list=[\"abc\",123,6.99,True] #hybrid/mixed data\n"
   ]
  },
  {
   "cell_type": "code",
   "execution_count": 13,
   "id": "7c27145e",
   "metadata": {},
   "outputs": [
    {
     "name": "stdout",
     "output_type": "stream",
     "text": [
      "[1, 2, 3, 4, 5]\n",
      "['abc', 'xyz', 'pqr', 'ijk']\n",
      "['abc', 123, 6.99, True]\n"
     ]
    }
   ],
   "source": [
    "print(num_list)\n",
    "print(char_list)\n",
    "print(com_list)\n"
   ]
  },
  {
   "cell_type": "code",
   "execution_count": 14,
   "id": "fb1fba3e",
   "metadata": {},
   "outputs": [
    {
     "data": {
      "text/plain": [
       "[123, 6.99]"
      ]
     },
     "execution_count": 14,
     "metadata": {},
     "output_type": "execute_result"
    }
   ],
   "source": [
    "com_list [1:3] #start 1: end 2(end value not inclusive)\n"
   ]
  },
  {
   "cell_type": "code",
   "execution_count": 15,
   "id": "649e3d0b",
   "metadata": {},
   "outputs": [
    {
     "data": {
      "text/plain": [
       "['abc', 123, 6.99, True]"
      ]
     },
     "execution_count": 15,
     "metadata": {},
     "output_type": "execute_result"
    }
   ],
   "source": [
    "com_list [:]"
   ]
  },
  {
   "cell_type": "code",
   "execution_count": 16,
   "id": "d0d6d65b",
   "metadata": {},
   "outputs": [
    {
     "data": {
      "text/plain": [
       "[123, 6.99, True]"
      ]
     },
     "execution_count": 16,
     "metadata": {},
     "output_type": "execute_result"
    }
   ],
   "source": [
    "com_list [1:]"
   ]
  },
  {
   "cell_type": "code",
   "execution_count": 17,
   "id": "47cc3282",
   "metadata": {},
   "outputs": [
    {
     "data": {
      "text/plain": [
       "['pqr', 'ijk']"
      ]
     },
     "execution_count": 17,
     "metadata": {},
     "output_type": "execute_result"
    }
   ],
   "source": [
    "char_list [2:4]"
   ]
  },
  {
   "cell_type": "code",
   "execution_count": 18,
   "id": "03b52a12",
   "metadata": {},
   "outputs": [
    {
     "data": {
      "text/plain": [
       "4"
      ]
     },
     "execution_count": 18,
     "metadata": {},
     "output_type": "execute_result"
    }
   ],
   "source": [
    "len(com_list)"
   ]
  },
  {
   "cell_type": "code",
   "execution_count": 19,
   "id": "b8e454ee",
   "metadata": {},
   "outputs": [],
   "source": [
    "items = ['idily','dosa','pongal','briyani','barbeque']\n"
   ]
  },
  {
   "cell_type": "code",
   "execution_count": 3,
   "id": "6120b446",
   "metadata": {},
   "outputs": [],
   "source": [
    "items = ['idily','dosa','pongal','briyani','barbeque']\n",
    "\n",
    "items[2]='vadai'"
   ]
  },
  {
   "cell_type": "code",
   "execution_count": 46,
   "id": "f352397b",
   "metadata": {},
   "outputs": [],
   "source": [
    "items = ['idily','dosa','pongal','briyani','barbeque']\n",
    "items.append(\"pizza\")\n"
   ]
  },
  {
   "cell_type": "code",
   "execution_count": 7,
   "id": "d169238a",
   "metadata": {},
   "outputs": [
    {
     "data": {
      "text/plain": [
       "['barbeque']"
      ]
     },
     "execution_count": 7,
     "metadata": {},
     "output_type": "execute_result"
    }
   ],
   "source": [
    "items = ['idily','dosa','pongal','briyani','barbeque']\n",
    "items [-1:]"
   ]
  },
  {
   "cell_type": "code",
   "execution_count": 11,
   "id": "b4a62618",
   "metadata": {},
   "outputs": [],
   "source": [
    "char_list = [\"abc\",\"xyz\",\"pqr\",\"ijk\"]\n",
    "\n"
   ]
  },
  {
   "cell_type": "code",
   "execution_count": 14,
   "id": "48da3fbb",
   "metadata": {},
   "outputs": [
    {
     "data": {
      "text/plain": [
       "['pqr', 'xyz']"
      ]
     },
     "execution_count": 14,
     "metadata": {},
     "output_type": "execute_result"
    }
   ],
   "source": [
    "char_list = [\"abc\",\"xyz\",\"pqr\",\"ijk\"]\n",
    "char_list[2:0:-1]\n"
   ]
  },
  {
   "cell_type": "code",
   "execution_count": 16,
   "id": "52124e30",
   "metadata": {},
   "outputs": [
    {
     "data": {
      "text/plain": [
       "['ijk', 'pqr', 'xyz', 'abc']"
      ]
     },
     "execution_count": 16,
     "metadata": {},
     "output_type": "execute_result"
    }
   ],
   "source": [
    "char_list[::-1]#reverse a string"
   ]
  },
  {
   "cell_type": "code",
   "execution_count": 18,
   "id": "8687d8b3",
   "metadata": {},
   "outputs": [
    {
     "data": {
      "text/plain": [
       "['idily',\n",
       " 'dosa',\n",
       " 'pongal',\n",
       " 'briyani',\n",
       " 'barbeque',\n",
       " ['veg nudgets', 'french fries'],\n",
       " ['veg nudgets', 'french fries']]"
      ]
     },
     "execution_count": 18,
     "metadata": {},
     "output_type": "execute_result"
    }
   ],
   "source": [
    "new_items=[\"veg nudgets\",\"french fries\"]\n",
    "items.append(new_items)\n",
    "items"
   ]
  },
  {
   "cell_type": "code",
   "execution_count": 19,
   "id": "a61bc110",
   "metadata": {},
   "outputs": [
    {
     "data": {
      "text/plain": [
       "['veg nudgets', 'french fries', 'idali sambar', 'dosa']"
      ]
     },
     "execution_count": 19,
     "metadata": {},
     "output_type": "execute_result"
    }
   ],
   "source": [
    "list3=new_items + [\"idali sambar\",\"dosa\"] #concatenation\n",
    "list3\n"
   ]
  },
  {
   "cell_type": "code",
   "execution_count": 20,
   "id": "cedbf6dc",
   "metadata": {},
   "outputs": [],
   "source": [
    "#index\n",
    "#append single\n",
    "#append directly list\n",
    "#append list variable\n",
    "#concatenation +\n"
   ]
  },
  {
   "cell_type": "code",
   "execution_count": 24,
   "id": "9daf72da",
   "metadata": {},
   "outputs": [
    {
     "name": "stdout",
     "output_type": "stream",
     "text": [
      "['apple', 'orange', 'grapes', ['carrot', 'potato', 'cabbage']]\n"
     ]
    }
   ],
   "source": [
    "items1=[\"apple\",\"orange\",\"grapes\"]\n",
    "items2=[\"carrot\",\"potato\",\"cabbage\"]\n",
    "items1.append(items2)\n",
    "print(items1)"
   ]
  },
  {
   "cell_type": "code",
   "execution_count": 30,
   "id": "e21fdd81",
   "metadata": {},
   "outputs": [
    {
     "data": {
      "text/plain": [
       "['apple', 'orange']"
      ]
     },
     "execution_count": 30,
     "metadata": {},
     "output_type": "execute_result"
    }
   ],
   "source": [
    "items1=[\"apple\",\"orange\",\"grapes\"]\n",
    "items1.remove(\"grapes\")\n",
    "items1"
   ]
  },
  {
   "cell_type": "code",
   "execution_count": 37,
   "id": "9819a6f0",
   "metadata": {},
   "outputs": [
    {
     "ename": "IndexError",
     "evalue": "pop from empty list",
     "output_type": "error",
     "traceback": [
      "\u001b[1;31m---------------------------------------------------------------------------\u001b[0m",
      "\u001b[1;31mIndexError\u001b[0m                                Traceback (most recent call last)",
      "Input \u001b[1;32mIn [37]\u001b[0m, in \u001b[0;36m<cell line: 1>\u001b[1;34m()\u001b[0m\n\u001b[1;32m----> 1\u001b[0m \u001b[43mitems1\u001b[49m\u001b[38;5;241;43m.\u001b[39;49m\u001b[43mpop\u001b[49m\u001b[43m(\u001b[49m\u001b[38;5;241;43m0\u001b[39;49m\u001b[43m)\u001b[49m\n\u001b[0;32m      2\u001b[0m items1\n",
      "\u001b[1;31mIndexError\u001b[0m: pop from empty list"
     ]
    }
   ],
   "source": [
    "items1.pop(0)\n",
    "items1"
   ]
  },
  {
   "cell_type": "code",
   "execution_count": 39,
   "id": "8608a2b8",
   "metadata": {},
   "outputs": [
    {
     "data": {
      "text/plain": [
       "7"
      ]
     },
     "execution_count": 39,
     "metadata": {},
     "output_type": "execute_result"
    }
   ],
   "source": [
    "length=len(items)\n",
    "length\n"
   ]
  },
  {
   "cell_type": "code",
   "execution_count": 41,
   "id": "5d9fcbf7",
   "metadata": {},
   "outputs": [
    {
     "ename": "NameError",
     "evalue": "name 'i' is not defined",
     "output_type": "error",
     "traceback": [
      "\u001b[1;31m---------------------------------------------------------------------------\u001b[0m",
      "\u001b[1;31mNameError\u001b[0m                                 Traceback (most recent call last)",
      "Input \u001b[1;32mIn [41]\u001b[0m, in \u001b[0;36m<cell line: 1>\u001b[1;34m()\u001b[0m\n\u001b[1;32m----> 1\u001b[0m \u001b[38;5;28mprint\u001b[39m(\u001b[43mi\u001b[49m)\n",
      "\u001b[1;31mNameError\u001b[0m: name 'i' is not defined"
     ]
    }
   ],
   "source": [
    "print(i)"
   ]
  },
  {
   "cell_type": "code",
   "execution_count": 42,
   "id": "f97331b8",
   "metadata": {},
   "outputs": [],
   "source": [
    "firstnames=[\"anisley\",\"ben\",\"chani\",\"depak\"]\n",
    "preferedsize=[\"small\",\"large\",\"medium\"]"
   ]
  },
  {
   "cell_type": "code",
   "execution_count": 45,
   "id": "69c1966c",
   "metadata": {},
   "outputs": [
    {
     "data": {
      "text/plain": [
       "['small', 'large', 'medium', 'medium']"
      ]
     },
     "execution_count": 45,
     "metadata": {},
     "output_type": "execute_result"
    }
   ],
   "source": [
    "#1-add depak size\n",
    "preferedsize=[\"small\",\"large\",\"medium\"]\n",
    "preferedsize.append(\"medium\")\n",
    "preferedsize"
   ]
  },
  {
   "cell_type": "code",
   "execution_count": 1,
   "id": "1e9000d5",
   "metadata": {},
   "outputs": [
    {
     "name": "stdout",
     "output_type": "stream",
     "text": [
      "['anisley', 'ben', 'chani', 'depak', ['small', 'large', 'medium']]\n"
     ]
    }
   ],
   "source": [
    "firstnames=[\"anisley\",\"ben\",\"chani\",\"depak\"]\n",
    "preferedsize=[\"small\",\"large\",\"medium\"]\n",
    "firstnames.append(preferedsize)\n",
    "print(firstnames)"
   ]
  },
  {
   "cell_type": "code",
   "execution_count": 2,
   "id": "8b6b4709",
   "metadata": {},
   "outputs": [
    {
     "name": "stdout",
     "output_type": "stream",
     "text": [
      "['Ainsley', 'small', 'True', 'Ben', 'Large', 'False', 'chani', 'Medium', 'true', 'depak', 'medium', 'False']\n"
     ]
    }
   ],
   "source": [
    "customer_data1= [\"Ainsley\",\"small\",\"True\"]\n",
    "customer_data2= [\"Ben\",\"Large\",\"False\"]\n",
    "customer_data3=[\"chani\",\"Medium\",\"true\"]\n",
    "customer_data4= [\"depak\",\"medium\",\"False\"]\n",
    "customer_data= (customer_data1+customer_data2+customer_data3+customer_data4)\n",
    "print(customer_data)\n"
   ]
  },
  {
   "cell_type": "code",
   "execution_count": 3,
   "id": "9c9ad74f",
   "metadata": {},
   "outputs": [
    {
     "data": {
      "text/plain": [
       "['Ben', 'False']"
      ]
     },
     "execution_count": 3,
     "metadata": {},
     "output_type": "execute_result"
    }
   ],
   "source": [
    "customer_data2.remove(\"Large\")\n",
    "customer_data2\n"
   ]
  },
  {
   "cell_type": "code",
   "execution_count": 4,
   "id": "ce385a9d",
   "metadata": {},
   "outputs": [
    {
     "name": "stdout",
     "output_type": "stream",
     "text": [
      "['Ainsley', 'small', 'True', 'Ben', 'Large', 'False', 'chani', 'Medium', 'true', 'depak', 'medium', 'False', 'Amit', 'Large', 'True', 'Karim', 'X-Large', 'False']\n"
     ]
    }
   ],
   "source": [
    "customer_data_final= print(customer_data + ([\"Amit\",\"Large\",\"True\"]) + ([\"Karim\",\"X-Large\",\"False\"]))\n",
    "customer_data_final\n"
   ]
  },
  {
   "cell_type": "code",
   "execution_count": 5,
   "id": "986d19e9",
   "metadata": {},
   "outputs": [
    {
     "name": "stdout",
     "output_type": "stream",
     "text": [
      "['Kerala', 'Tamilnadu', 'Uttarakhand', 'Maharshtra', 'Delhi']\n"
     ]
    }
   ],
   "source": [
    "store_line = [\"Kerala\", \"Tamilnadu\", \"Maharshtra\", \"Delhi\"]\n",
    "store_line.insert(2, \"Uttarakhand\")#location, value\n",
    "print(store_line)\n"
   ]
  },
  {
   "cell_type": "code",
   "execution_count": 6,
   "id": "eecaf715",
   "metadata": {},
   "outputs": [
    {
     "name": "stdout",
     "output_type": "stream",
     "text": [
      "[1, 3, 5, 7, 9]\n"
     ]
    }
   ],
   "source": [
    "#creating consecutive list using range()\n",
    "#range(start,last index,step)\n",
    "#range(0,10,2) 0 2 4 6 8 \n",
    "my_range = range(1,10,2)#last value is not inclusive\n",
    "print(list(my_range))\n"
   ]
  },
  {
   "cell_type": "code",
   "execution_count": 7,
   "id": "abd6842f",
   "metadata": {},
   "outputs": [
    {
     "name": "stdout",
     "output_type": "stream",
     "text": [
      "[2, 8, 14]\n"
     ]
    }
   ],
   "source": [
    "my_range=range(2,15,6)\n",
    "print(list(my_range))"
   ]
  },
  {
   "cell_type": "code",
   "execution_count": 8,
   "id": "1503d5de",
   "metadata": {},
   "outputs": [
    {
     "name": "stdout",
     "output_type": "stream",
     "text": [
      "[20, 18, 16, 14, 12, 10, 8, 6, 4, 2]\n"
     ]
    }
   ],
   "source": [
    "my_range=range(20,1,-2)\n",
    "print(list(my_range))"
   ]
  },
  {
   "cell_type": "code",
   "execution_count": 9,
   "id": "2ce9081a",
   "metadata": {},
   "outputs": [
    {
     "data": {
      "text/plain": [
       "[1, 4, 9, 16, 25]"
      ]
     },
     "execution_count": 9,
     "metadata": {},
     "output_type": "execute_result"
    }
   ],
   "source": [
    "num=[1,2,3,4,5]\n",
    "\n",
    "new_list=[]\n",
    "\n",
    "for i in num:\n",
    "    new_list.append(i**2)\n",
    "    \n",
    "new_list\n"
   ]
  },
  {
   "cell_type": "code",
   "execution_count": 10,
   "id": "a5f2c86c",
   "metadata": {},
   "outputs": [
    {
     "data": {
      "text/plain": [
       "[8, 64, 216, 512]"
      ]
     },
     "execution_count": 10,
     "metadata": {},
     "output_type": "execute_result"
    }
   ],
   "source": [
    "num=[2,4,6,8]\n",
    "new_list=[]\n",
    "\n",
    "for i in num:\n",
    "    new_list.append(i**3)\n",
    "    \n",
    "new_list\n"
   ]
  },
  {
   "cell_type": "code",
   "execution_count": 11,
   "id": "445c8c86",
   "metadata": {},
   "outputs": [
    {
     "data": {
      "text/plain": [
       "1"
      ]
     },
     "execution_count": 11,
     "metadata": {},
     "output_type": "execute_result"
    }
   ],
   "source": [
    "new_list.count(216)\n"
   ]
  },
  {
   "cell_type": "code",
   "execution_count": 12,
   "id": "ce0b9e43",
   "metadata": {},
   "outputs": [
    {
     "name": "stdout",
     "output_type": "stream",
     "text": [
      "6\n",
      "7\n",
      "10\n",
      "5\n",
      "8\n",
      "length of list 5\n"
     ]
    }
   ],
   "source": [
    "name=[\"trichy\",\"chennai\",\"coimbatore\",\"erode\",\"thanjore\"]\n",
    "for i in name:\n",
    "    print(len(i))#string, each element of list, no of characters present in each item of list\n",
    "    \n",
    "print(\"length of list\",len(name)) #total number of element present in list\n"
   ]
  },
  {
   "cell_type": "code",
   "execution_count": 14,
   "id": "606d93af",
   "metadata": {},
   "outputs": [
    {
     "name": "stdout",
     "output_type": "stream",
     "text": [
      "trichy\n",
      "chennai\n",
      "coimbatore\n",
      "erode\n",
      "thanjore\n",
      "length of list 5\n"
     ]
    }
   ],
   "source": [
    "i=0\n",
    "while i<len(name):\n",
    "    print(name[i])\n",
    "    i=i+1\n",
    "print(\"length of list\",len(name))"
   ]
  },
  {
   "cell_type": "code",
   "execution_count": 15,
   "id": "dfa7d265",
   "metadata": {},
   "outputs": [],
   "source": [
    "#calculate cube of each element of list l1=[2,4,6,8,10]\n",
    "#store length of each element in list2 for each member of given list. country=[\"India\",\"United states America\",\"England\",\"Dubai\",\"Russia\",\"China\",\"Srilanka\"]\n",
    "#calculate sum of all numbers present in list. l=[10,20,26,56,89,67]\n",
    "# list of salaries -> salary=[10000,20000,22000,34000,45000,49000] add 15% bonus to salaries less than 25k and store in another list called bonus_salary"
   ]
  },
  {
   "cell_type": "code",
   "execution_count": 16,
   "id": "a17f2db0",
   "metadata": {},
   "outputs": [
    {
     "data": {
      "text/plain": [
       "[8, 64, 216, 512, 1000]"
      ]
     },
     "execution_count": 16,
     "metadata": {},
     "output_type": "execute_result"
    }
   ],
   "source": [
    "#calculate cube of each element of list l1=[2,4,6,8,10]\n",
    "num=[2,4,6,8,10]\n",
    "new_list=[]\n",
    "\n",
    "for i in num:\n",
    "    new_list.append(i**3)\n",
    "    \n",
    "new_list\n"
   ]
  },
  {
   "cell_type": "code",
   "execution_count": 17,
   "id": "52d17172",
   "metadata": {},
   "outputs": [
    {
     "name": "stdout",
     "output_type": "stream",
     "text": [
      "5\n",
      "21\n",
      "7\n",
      "5\n",
      "6\n",
      "5\n",
      "8\n",
      "length of list 7\n"
     ]
    }
   ],
   "source": [
    "#store length of each element in list2 for each member of given list. country=[\"India\",\"United states America\",\"England\",\"Dubai\",\"Russia\",\"China\",\"Srilanka\"]\n",
    "country=[\"India\",\"United states America\",\"England\",\"Dubai\",\"Russia\",\"China\",\"Srilanka\"]\n",
    "for i in country:\n",
    "    print(len(i))\n",
    "print(\"length of list\",len(country))\n",
    "    "
   ]
  },
  {
   "cell_type": "code",
   "execution_count": 20,
   "id": "de5fd34b",
   "metadata": {},
   "outputs": [
    {
     "name": "stdout",
     "output_type": "stream",
     "text": [
      "268\n"
     ]
    }
   ],
   "source": [
    "#calculate sum of all numbers present in list. l=[10,20,26,56,89,67]\n",
    "l=[10,20,26,56,89,67]\n",
    "i=0\n",
    "sum=0\n",
    "while i<len(l):\n",
    "    sum=sum+l[i]\n",
    "    i=i+1\n",
    "    \n",
    "print(sum)\n"
   ]
  },
  {
   "cell_type": "code",
   "execution_count": 21,
   "id": "4a3260f1",
   "metadata": {},
   "outputs": [
    {
     "name": "stdout",
     "output_type": "stream",
     "text": [
      "[11500.0, 23000.0, 25300.0]\n"
     ]
    }
   ],
   "source": [
    "# list of salaries -> salary=[10000,20000,22000,34000,45000,49000] add 15% bonus to salaries less than 25k and store in another list called bonus_salary\n",
    "salary=[10000,20000,22000,34000,45000,49000]\n",
    "i=0\n",
    "newsal=0\n",
    "bonus=[]\n",
    "\n",
    "while i< len(salary):\n",
    "    if salary[i] < 25000:\n",
    "        newsal=salary[i]+(salary[i]*0.15)\n",
    "        bonus.append(newsal)\n",
    "    i=i+1\n",
    "        \n",
    "print(bonus)\n"
   ]
  },
  {
   "cell_type": "code",
   "execution_count": 4,
   "id": "483d69f5",
   "metadata": {},
   "outputs": [
    {
     "name": "stdout",
     "output_type": "stream",
     "text": [
      "21\n",
      "32\n",
      "45\n",
      "22\n",
      "34\n"
     ]
    }
   ],
   "source": [
    "#Your computer is the doorman at a voting booth in a country where the voting age is 21.Loop through the ages list.\n",
    "#If an entry is less than 21, skip it and move to the next entry. Otherwise, print() the age.\n",
    "ages=[21,32,45,18,19,20,22,34,16]\n",
    "for i in ages:\n",
    "    if i<21:\n",
    "        continue\n",
    "    else:\n",
    "        print(i)\n"
   ]
  },
  {
   "cell_type": "code",
   "execution_count": null,
   "id": "8c72dcd3",
   "metadata": {},
   "outputs": [],
   "source": [
    "List of list\n",
    "#lol"
   ]
  },
  {
   "cell_type": "code",
   "execution_count": 6,
   "id": "3f5af497",
   "metadata": {},
   "outputs": [
    {
     "name": "stdout",
     "output_type": "stream",
     "text": [
      "[['Jones', 'Naveen'], ['ajith', 'Aaron'], ['Tasneem', 'Riji']]\n"
     ]
    }
   ],
   "source": [
    "lol=[[\"Jones\",\"Naveen\"],[\"ajith\",\"Aaron\"],[\"Tasneem\",\"Riji\"]]\n",
    "print(lol)\n"
   ]
  },
  {
   "cell_type": "code",
   "execution_count": 8,
   "id": "724ba8bd",
   "metadata": {},
   "outputs": [
    {
     "data": {
      "text/plain": [
       "['Jones', 'Naveen']"
      ]
     },
     "execution_count": 8,
     "metadata": {},
     "output_type": "execute_result"
    }
   ],
   "source": [
    "lol[0]"
   ]
  },
  {
   "cell_type": "code",
   "execution_count": 10,
   "id": "780a4f96",
   "metadata": {},
   "outputs": [
    {
     "data": {
      "text/plain": [
       "['Tasneem', 'Riji']"
      ]
     },
     "execution_count": 10,
     "metadata": {},
     "output_type": "execute_result"
    }
   ],
   "source": [
    "lol[2]"
   ]
  },
  {
   "cell_type": "code",
   "execution_count": 12,
   "id": "400fa213",
   "metadata": {},
   "outputs": [
    {
     "data": {
      "text/plain": [
       "'Tasneem'"
      ]
     },
     "execution_count": 12,
     "metadata": {},
     "output_type": "execute_result"
    }
   ],
   "source": [
    "lol[2][0]\n"
   ]
  },
  {
   "cell_type": "code",
   "execution_count": 13,
   "id": "0f58d9e5",
   "metadata": {},
   "outputs": [
    {
     "name": "stdout",
     "output_type": "stream",
     "text": [
      "Jones\n",
      "Naveen\n",
      "ajith\n",
      "Aaron\n",
      "Tasneem\n",
      "Riji\n"
     ]
    }
   ],
   "source": [
    "for sublist in lol:\n",
    "    for name in sublist:\n",
    "        print(name)\n"
   ]
  },
  {
   "cell_type": "code",
   "execution_count": 14,
   "id": "b0451ed4",
   "metadata": {},
   "outputs": [
    {
     "ename": "IndentationError",
     "evalue": "expected an indented block (2355816441.py, line 5)",
     "output_type": "error",
     "traceback": [
      "\u001b[1;36m  Input \u001b[1;32mIn [14]\u001b[1;36m\u001b[0m\n\u001b[1;33m    print(\"present\")\u001b[0m\n\u001b[1;37m    ^\u001b[0m\n\u001b[1;31mIndentationError\u001b[0m\u001b[1;31m:\u001b[0m expected an indented block\n"
     ]
    }
   ],
   "source": [
    "items_on_sale = [\"blue shirt\", \"jeans\",\"striped socks\", \"knit dress\", \"red headband\"]\n",
    "key = \"jeans\"\n",
    "for i in items_on_sale:\n",
    "    if key==i:\n",
    "    print(\"present\")\n",
    "    break\n",
    "    else:\n",
    "    print(\"not present\")\n"
   ]
  },
  {
   "cell_type": "code",
   "execution_count": 15,
   "id": "dc4f8da6",
   "metadata": {},
   "outputs": [
    {
     "name": "stdout",
     "output_type": "stream",
     "text": [
      "present\n"
     ]
    }
   ],
   "source": [
    "items_on_sale = [\"blue shirt\", \"jeans\",\"striped socks\", \"knit dress\", \"red headband\"]\n",
    "key = \"blue shirt\"\n",
    "flag=0\n",
    "\n",
    "for i in items_on_sale:\n",
    "    if key==i:\n",
    "        flag=1\n",
    "        \n",
    "        \n",
    "if flag==1:\n",
    "    print(\"present\")\n",
    "else:\n",
    "    print(\"not present\")\n"
   ]
  },
  {
   "cell_type": "code",
   "execution_count": 16,
   "id": "1a3744c5",
   "metadata": {},
   "outputs": [],
   "source": [
    "#list of covid patients for second wave in a one day at different cities is given \n",
    "#add new element for city hyderabad with number of patient 20000\n",
    "#updated count for mumbai is 42000 , update that in ur list\n",
    "#insert new entry for nagpur with number of patients 5000 in given list\n",
    "#calculate total numbers of patients in given list\n",
    "\n",
    "new_variant=[['pune',20000],['mumbai',36000],['lukhnaw',15000],['banglore',12000],['cochin',25000]]\n"
   ]
  },
  {
   "cell_type": "code",
   "execution_count": 19,
   "id": "05086535",
   "metadata": {},
   "outputs": [
    {
     "data": {
      "text/plain": [
       "[['pune', 20000],\n",
       " ['mumbai', 36000],\n",
       " ['lukhnaw', 15000],\n",
       " ['banglore', 12000],\n",
       " ['cochin', 25000],\n",
       " ['hyderabad', 20000]]"
      ]
     },
     "execution_count": 19,
     "metadata": {},
     "output_type": "execute_result"
    }
   ],
   "source": [
    "#add new element for city hyderabad with number of patient 20000\n",
    "new_variant=[['pune',20000],['mumbai',36000],['lukhnaw',15000],['banglore',12000],['cochin',25000]]\n",
    "new_variant.append(['hyderabad',20000])\n",
    "new_variant"
   ]
  },
  {
   "cell_type": "code",
   "execution_count": 23,
   "id": "e4d72426",
   "metadata": {},
   "outputs": [
    {
     "ename": "AttributeError",
     "evalue": "'list' object has no attribute 'replace'",
     "output_type": "error",
     "traceback": [
      "\u001b[1;31m---------------------------------------------------------------------------\u001b[0m",
      "\u001b[1;31mAttributeError\u001b[0m                            Traceback (most recent call last)",
      "Input \u001b[1;32mIn [23]\u001b[0m, in \u001b[0;36m<cell line: 3>\u001b[1;34m()\u001b[0m\n\u001b[0;32m      1\u001b[0m \u001b[38;5;66;03m#updated count for mumbai is 42000 , update that in ur list\u001b[39;00m\n\u001b[0;32m      2\u001b[0m new_variant\u001b[38;5;241m=\u001b[39m[[\u001b[38;5;124m'\u001b[39m\u001b[38;5;124mpune\u001b[39m\u001b[38;5;124m'\u001b[39m,\u001b[38;5;241m20000\u001b[39m],[\u001b[38;5;124m'\u001b[39m\u001b[38;5;124mmumbai\u001b[39m\u001b[38;5;124m'\u001b[39m,\u001b[38;5;241m36000\u001b[39m],[\u001b[38;5;124m'\u001b[39m\u001b[38;5;124mlukhnaw\u001b[39m\u001b[38;5;124m'\u001b[39m,\u001b[38;5;241m15000\u001b[39m],[\u001b[38;5;124m'\u001b[39m\u001b[38;5;124mbanglore\u001b[39m\u001b[38;5;124m'\u001b[39m,\u001b[38;5;241m12000\u001b[39m],[\u001b[38;5;124m'\u001b[39m\u001b[38;5;124mcochin\u001b[39m\u001b[38;5;124m'\u001b[39m,\u001b[38;5;241m25000\u001b[39m]]\n\u001b[1;32m----> 3\u001b[0m replaced_new_variant \u001b[38;5;241m=\u001b[39m \u001b[43mnew_variant\u001b[49m\u001b[38;5;241;43m.\u001b[39;49m\u001b[43mreplace\u001b[49m(\u001b[38;5;124m'\u001b[39m\u001b[38;5;124m36000\u001b[39m\u001b[38;5;124m'\u001b[39m, \u001b[38;5;124m'\u001b[39m\u001b[38;5;124m42000\u001b[39m\u001b[38;5;124m'\u001b[39m)\n\u001b[0;32m      4\u001b[0m \u001b[38;5;28mprint\u001b[39m(replaced_text)\n",
      "\u001b[1;31mAttributeError\u001b[0m: 'list' object has no attribute 'replace'"
     ]
    }
   ],
   "source": [
    "#updated count for mumbai is 42000 , update that in ur list\n",
    "new_variant=[['pune',20000],['mumbai',36000],['lukhnaw',15000],['banglore',12000],['cochin',25000]]\n",
    "replaced_new_variant = new_variant.replace('36000', '42000')\n",
    "print(replaced_text)"
   ]
  },
  {
   "cell_type": "code",
   "execution_count": 21,
   "id": "bcd0c90b",
   "metadata": {},
   "outputs": [
    {
     "data": {
      "text/plain": [
       "[['pune', 20000],\n",
       " ['mumbai', 36000],\n",
       " ['lukhnaw', 15000],\n",
       " ['banglore', 12000],\n",
       " ['cochin', 25000],\n",
       " ['nagpur', 5000]]"
      ]
     },
     "execution_count": 21,
     "metadata": {},
     "output_type": "execute_result"
    }
   ],
   "source": [
    "#insert new entry for nagpur with number of patients 5000 in given list\n",
    "new_variant=[['pune',20000],['mumbai',36000],['lukhnaw',15000],['banglore',12000],['cochin',25000]]\n",
    "new_variant.append(['nagpur',5000])\n",
    "new_variant"
   ]
  },
  {
   "cell_type": "code",
   "execution_count": 29,
   "id": "b30414d3",
   "metadata": {},
   "outputs": [
    {
     "name": "stdout",
     "output_type": "stream",
     "text": [
      "77000\n"
     ]
    }
   ],
   "source": [
    "#calculate total numbers of patients in given list\n",
    "new_variant=[['pune', 20000],['lukhnaw', 15000],['banglore', 12000],['cochin', 25000],['nagpur', 5000]]\n",
    "sum=new_variant[0][1]+new_variant[1][1]+new_variant[2][1]+new_variant[3][1]+new_variant[4][1]\n",
    "print(sum)"
   ]
  },
  {
   "cell_type": "code",
   "execution_count": 3,
   "id": "0a1b81b9",
   "metadata": {},
   "outputs": [
    {
     "name": "stdout",
     "output_type": "stream",
     "text": [
      "77000\n"
     ]
    }
   ],
   "source": [
    "new_variant=[['pune', 20000],['lukhnaw', 15000],['banglore', 12000],['cochin', 25000],['nagpur', 5000]]\n",
    "i=0\n",
    "total=0\n",
    "while i<len(new_variant):\n",
    "    total=total+new_variant[i][1]\n",
    "    i+=1\n",
    "print(total)"
   ]
  },
  {
   "cell_type": "code",
   "execution_count": 4,
   "id": "bc82719c",
   "metadata": {},
   "outputs": [],
   "source": [
    "list3=[[1,\"akshay\",76],[2,\"deepam\",56],[3,\"anjali\",89],[4,\"narayani\",88],[5,\"vyom\",90],[6,\"Hrudaya\",82]]\n",
    "#[[roll,name,marks]]\n",
    "\n",
    "#vyom\n",
    "#index to access hrudays marks\n",
    "#index to get roll number of anjali\n",
    "#total marks\n"
   ]
  },
  {
   "cell_type": "code",
   "execution_count": 6,
   "id": "ce056e34",
   "metadata": {},
   "outputs": [
    {
     "data": {
      "text/plain": [
       "[5, 'vyom', 90]"
      ]
     },
     "execution_count": 6,
     "metadata": {},
     "output_type": "execute_result"
    }
   ],
   "source": [
    "#vyom\n",
    "list3=[[1,\"akshay\",76],[2,\"deepam\",56],[3,\"anjali\",89],[4,\"narayani\",88],[5,\"vyom\",90],[6,\"Hrudaya\",82]]\n",
    "list3[4]"
   ]
  },
  {
   "cell_type": "code",
   "execution_count": 13,
   "id": "e597f751",
   "metadata": {},
   "outputs": [
    {
     "data": {
      "text/plain": [
       "82"
      ]
     },
     "execution_count": 13,
     "metadata": {},
     "output_type": "execute_result"
    }
   ],
   "source": [
    "list3=[[1,\"akshay\",76],[2,\"deepam\",56],[3,\"anjali\",89],[4,\"narayani\",88],[5,\"vyom\",90],[6,\"Hrudaya\",82]]\n",
    "list3[5][2]"
   ]
  },
  {
   "cell_type": "code",
   "execution_count": 33,
   "id": "94616295",
   "metadata": {},
   "outputs": [
    {
     "data": {
      "text/plain": [
       "3"
      ]
     },
     "execution_count": 33,
     "metadata": {},
     "output_type": "execute_result"
    }
   ],
   "source": [
    "#index to get roll number of anjali\n",
    "list3[2][0]"
   ]
  },
  {
   "cell_type": "code",
   "execution_count": 32,
   "id": "1d8af818",
   "metadata": {},
   "outputs": [
    {
     "name": "stdout",
     "output_type": "stream",
     "text": [
      "481\n"
     ]
    }
   ],
   "source": [
    "#total marks\n",
    "list3=[[1,\"akshay\",76],[2,\"deepam\",56],[3,\"anjali\",89],[4,\"narayani\",88],[5,\"vyom\",90],[6,\"Hrudaya\",82]]\n",
    "sum=list3[0][2]+list3[1][2]+list3[2][2]+list3[3][2]+list3[4][2]+list3[5][2]\n",
    "print(sum)"
   ]
  },
  {
   "cell_type": "code",
   "execution_count": 1,
   "id": "8352be91",
   "metadata": {},
   "outputs": [
    {
     "name": "stdout",
     "output_type": "stream",
     "text": [
      "range(0, 10)\n",
      "<class 'range'>\n"
     ]
    }
   ],
   "source": [
    "#loop \n",
    "#repeat\n",
    "\n",
    "i=range(10)\n",
    "print(i)\n",
    "print(type(i))\n"
   ]
  },
  {
   "cell_type": "markdown",
   "id": "bdc806e8",
   "metadata": {},
   "source": [
    "# LOOPING"
   ]
  },
  {
   "cell_type": "code",
   "execution_count": 15,
   "id": "49525080",
   "metadata": {},
   "outputs": [
    {
     "name": "stdout",
     "output_type": "stream",
     "text": [
      "1 2 3 4 5 6 7 8 9 10 11 12 13 14 15 16 17 18 19 20 "
     ]
    }
   ],
   "source": [
    "for i in range(1,21):\n",
    "    print(i,end=\" \")"
   ]
  },
  {
   "cell_type": "code",
   "execution_count": 16,
   "id": "a47ad451",
   "metadata": {},
   "outputs": [
    {
     "name": "stdout",
     "output_type": "stream",
     "text": [
      "0\n",
      "3\n",
      "6\n",
      "9\n"
     ]
    }
   ],
   "source": [
    "#odd Numbers\n",
    "for i in range(0,12,3):\n",
    "    print(i)\n"
   ]
  },
  {
   "cell_type": "code",
   "execution_count": 18,
   "id": "20748c7e",
   "metadata": {},
   "outputs": [
    {
     "name": "stdout",
     "output_type": "stream",
     "text": [
      "2 4 6 8 10 12 14 "
     ]
    }
   ],
   "source": [
    "#even numbers\n",
    "for i in range(1,16):\n",
    "    if i%2==0:\n",
    "        print(i,end=\" \")\n"
   ]
  },
  {
   "cell_type": "code",
   "execution_count": 5,
   "id": "dacc095b",
   "metadata": {},
   "outputs": [
    {
     "name": "stdout",
     "output_type": "stream",
     "text": [
      "55\n"
     ]
    }
   ],
   "source": [
    "sum=0\n",
    "for i in range(1,11):\n",
    "    sum=sum+i\n",
    "print(sum)\n"
   ]
  },
  {
   "cell_type": "code",
   "execution_count": 6,
   "id": "e04168b4",
   "metadata": {},
   "outputs": [
    {
     "name": "stdout",
     "output_type": "stream",
     "text": [
      "7 14 21 28 35 42 49 56 63 70 "
     ]
    }
   ],
   "source": [
    "for i in range(7,71,7):\n",
    "    print(i,end=\" \")\n"
   ]
  },
  {
   "cell_type": "code",
   "execution_count": 7,
   "id": "9d56e958",
   "metadata": {},
   "outputs": [
    {
     "name": "stdout",
     "output_type": "stream",
     "text": [
      "20 18 16 14 12 10 8 6 4 2 "
     ]
    }
   ],
   "source": [
    "for i in range(20,1,-2):\n",
    "    print(i,end=\" \")\n"
   ]
  },
  {
   "cell_type": "code",
   "execution_count": 8,
   "id": "ae85c20b",
   "metadata": {},
   "outputs": [
    {
     "data": {
      "text/plain": [
       "'t'"
      ]
     },
     "execution_count": 8,
     "metadata": {},
     "output_type": "execute_result"
    }
   ],
   "source": [
    "str_new=\"this is my fav sentence\"\n",
    "str_new[0]\n"
   ]
  },
  {
   "cell_type": "code",
   "execution_count": 9,
   "id": "816d26a7",
   "metadata": {},
   "outputs": [
    {
     "data": {
      "text/plain": [
       "'h'"
      ]
     },
     "execution_count": 9,
     "metadata": {},
     "output_type": "execute_result"
    }
   ],
   "source": [
    "str_new[1]\n"
   ]
  },
  {
   "cell_type": "code",
   "execution_count": 10,
   "id": "a067fb5b",
   "metadata": {},
   "outputs": [
    {
     "data": {
      "text/plain": [
       "'i'"
      ]
     },
     "execution_count": 10,
     "metadata": {},
     "output_type": "execute_result"
    }
   ],
   "source": [
    "str_new[2]\n"
   ]
  },
  {
   "cell_type": "code",
   "execution_count": 11,
   "id": "9e52d1a1",
   "metadata": {},
   "outputs": [
    {
     "data": {
      "text/plain": [
       "23"
      ]
     },
     "execution_count": 11,
     "metadata": {},
     "output_type": "execute_result"
    }
   ],
   "source": [
    "len(str_new)\n"
   ]
  },
  {
   "cell_type": "code",
   "execution_count": 12,
   "id": "9e96b634",
   "metadata": {},
   "outputs": [
    {
     "name": "stdout",
     "output_type": "stream",
     "text": [
      "t h i s   i s   m y   f a v   s e n t e n c e "
     ]
    }
   ],
   "source": [
    "for i in str_new:\n",
    "    print(i,end=\" \")\n"
   ]
  },
  {
   "cell_type": "code",
   "execution_count": 13,
   "id": "b20b42db",
   "metadata": {},
   "outputs": [
    {
     "name": "stdout",
     "output_type": "stream",
     "text": [
      "t\n",
      "i\n",
      " \n",
      "s\n",
      "m\n",
      " \n",
      "a\n",
      " \n",
      "e\n",
      "t\n",
      "n\n",
      "e\n"
     ]
    }
   ],
   "source": [
    "for i in range(len(str_new)):\n",
    "    if i%2==0:\n",
    "        print(str_new[i])\n"
   ]
  },
  {
   "cell_type": "code",
   "execution_count": 19,
   "id": "b86cc7ef",
   "metadata": {},
   "outputs": [],
   "source": [
    "l2=[[\"shivam\",\"sonali\"],[\"sayali\",\"ashwini\",\"ajith\"],[\"riji\",\"tasneema\",\"hepsy\"],[\"Jones\",\"faizan\",\"yashwanth\",\"usman\"]]\n",
    "\n"
   ]
  },
  {
   "cell_type": "code",
   "execution_count": 20,
   "id": "808ad126",
   "metadata": {},
   "outputs": [
    {
     "data": {
      "text/plain": [
       "4"
      ]
     },
     "execution_count": 20,
     "metadata": {},
     "output_type": "execute_result"
    }
   ],
   "source": [
    "len(l2)\n"
   ]
  },
  {
   "cell_type": "code",
   "execution_count": 21,
   "id": "6fa5f74c",
   "metadata": {},
   "outputs": [
    {
     "data": {
      "text/plain": [
       "[['shivam', 'sonali', 'Kaviya'],\n",
       " ['sayali', 'ashwini', 'ajith'],\n",
       " ['riji', 'tasneema', 'hepsy'],\n",
       " ['Jones', 'faizan', 'yashwanth', 'usman']]"
      ]
     },
     "execution_count": 21,
     "metadata": {},
     "output_type": "execute_result"
    }
   ],
   "source": [
    "l2[0].extend([\"Kaviya\"])\n",
    "l2\n"
   ]
  },
  {
   "cell_type": "code",
   "execution_count": 22,
   "id": "f60902a1",
   "metadata": {},
   "outputs": [
    {
     "data": {
      "text/plain": [
       "[['shivam', 'sonali', 'Kaviya', 'kaviya'],\n",
       " ['sayali', 'ashwini', 'ajith'],\n",
       " ['riji', 'tasneema', 'hepsy'],\n",
       " ['Jones', 'faizan', 'yashwanth', 'usman']]"
      ]
     },
     "execution_count": 22,
     "metadata": {},
     "output_type": "execute_result"
    }
   ],
   "source": [
    "l2[0].append(\"kaviya\")\n",
    "l2\n"
   ]
  },
  {
   "cell_type": "code",
   "execution_count": 23,
   "id": "620f3cc0",
   "metadata": {},
   "outputs": [
    {
     "data": {
      "text/plain": [
       "[['shivam', 'sonali', 'Kaviya', 'kaviya'],\n",
       " ['sayali', 'ashwini', 'ajith', ['aarthy', 'anas']],\n",
       " ['riji', 'tasneema', 'hepsy'],\n",
       " ['Jones', 'faizan', 'yashwanth', 'usman']]"
      ]
     },
     "execution_count": 23,
     "metadata": {},
     "output_type": "execute_result"
    }
   ],
   "source": [
    "l2[1].append([\"aarthy\",\"anas\"])\n",
    "l2\n"
   ]
  },
  {
   "cell_type": "code",
   "execution_count": 24,
   "id": "1d909388",
   "metadata": {},
   "outputs": [
    {
     "data": {
      "text/plain": [
       "[['shivam', 'sonali', 'Kaviya', 'kaviya'],\n",
       " ['sayali', 'ashwini', 'ajith', ['aarthy', 'anas']],\n",
       " ['riji', 'tasneema', 'hepsy', 'avinash', 'naveen'],\n",
       " ['Jones', 'faizan', 'yashwanth', 'usman']]"
      ]
     },
     "execution_count": 24,
     "metadata": {},
     "output_type": "execute_result"
    }
   ],
   "source": [
    "l2[2].extend([\"avinash\",\"naveen\"])\n",
    "l2\n"
   ]
  },
  {
   "cell_type": "code",
   "execution_count": 25,
   "id": "eff83aab",
   "metadata": {},
   "outputs": [
    {
     "data": {
      "text/plain": [
       "['sayali', 'ashwini', 'ajith', ['aarthy', 'anas']]"
      ]
     },
     "execution_count": 25,
     "metadata": {},
     "output_type": "execute_result"
    }
   ],
   "source": [
    "l2[1]\n"
   ]
  },
  {
   "cell_type": "code",
   "execution_count": 26,
   "id": "e8a404d1",
   "metadata": {},
   "outputs": [
    {
     "data": {
      "text/plain": [
       "'Jones'"
      ]
     },
     "execution_count": 26,
     "metadata": {},
     "output_type": "execute_result"
    }
   ],
   "source": [
    "l2[3][0]\n"
   ]
  },
  {
   "cell_type": "code",
   "execution_count": 27,
   "id": "fabca93d",
   "metadata": {},
   "outputs": [
    {
     "data": {
      "text/plain": [
       "'aarthy'"
      ]
     },
     "execution_count": 27,
     "metadata": {},
     "output_type": "execute_result"
    }
   ],
   "source": [
    "l2[1][3][0]\n"
   ]
  },
  {
   "cell_type": "code",
   "execution_count": 28,
   "id": "ec05d441",
   "metadata": {},
   "outputs": [],
   "source": [
    "l2[1][3].insert(1,\"Aaron\")\n"
   ]
  },
  {
   "cell_type": "code",
   "execution_count": 29,
   "id": "0d09d909",
   "metadata": {},
   "outputs": [
    {
     "data": {
      "text/plain": [
       "[['shivam', 'sonali', 'Kaviya', 'kaviya'],\n",
       " ['sayali', 'ashwini', 'ajith', ['aarthy', 'Aaron', 'anas']],\n",
       " ['riji', 'tasneema', 'hepsy', 'avinash', 'naveen'],\n",
       " ['Jones', 'faizan', 'yashwanth', 'usman']]"
      ]
     },
     "execution_count": 29,
     "metadata": {},
     "output_type": "execute_result"
    }
   ],
   "source": [
    "l2\n"
   ]
  },
  {
   "cell_type": "code",
   "execution_count": 1,
   "id": "5768b8bd",
   "metadata": {},
   "outputs": [
    {
     "name": "stdout",
     "output_type": "stream",
     "text": [
      "[1, 4, 9, 16, 25, 36]\n"
     ]
    }
   ],
   "source": [
    "l=[1,2,3,4,5,6]\n",
    "l2=[]\n",
    "for i in l:\n",
    "    l2.append(i**2)\n",
    "    \n",
    "print(l2)\n"
   ]
  },
  {
   "cell_type": "code",
   "execution_count": 2,
   "id": "b45d47b0",
   "metadata": {},
   "outputs": [
    {
     "name": "stdout",
     "output_type": "stream",
     "text": [
      "[1, 4, 9, 16, 25, 36]\n"
     ]
    }
   ],
   "source": [
    "l=[1,2,3,4,5,6]\n",
    "l3 = [i**2 for i in l]\n",
    "print(l3)\n"
   ]
  },
  {
   "cell_type": "code",
   "execution_count": 3,
   "id": "b9ac84e9",
   "metadata": {},
   "outputs": [
    {
     "data": {
      "text/plain": [
       "[1, 9, 25, 49, 81, 121, 169, 225]"
      ]
     },
     "execution_count": 3,
     "metadata": {},
     "output_type": "execute_result"
    }
   ],
   "source": [
    "l4=[1,2,3,4,5,6,7,8,9,10,11,12,13,14,15]\n",
    "l5 = [i**2 for i in l4 if i%2!=0]\n",
    "l5\n"
   ]
  },
  {
   "cell_type": "code",
   "execution_count": 4,
   "id": "b328d223",
   "metadata": {},
   "outputs": [],
   "source": [
    "#list comprehension\n",
    "#[<expression> <for loop><conditon>]\n"
   ]
  },
  {
   "cell_type": "code",
   "execution_count": 7,
   "id": "6ebb238b",
   "metadata": {},
   "outputs": [
    {
     "data": {
      "text/plain": [
       "[10000]"
      ]
     },
     "execution_count": 7,
     "metadata": {},
     "output_type": "execute_result"
    }
   ],
   "source": [
    "salary = [5000,10000,12000,13000,17000,20000,25000,45000]\n",
    "bonus_sal=[i+5000 for i in salary if i<10000]\n",
    "bonus_sal\n"
   ]
  },
  {
   "cell_type": "code",
   "execution_count": 28,
   "id": "39b5fead",
   "metadata": {},
   "outputs": [
    {
     "name": "stdout",
     "output_type": "stream",
     "text": [
      "['APPLE', 'BANANA', 'CHERRY', 'KIWI', 'MANGO']\n"
     ]
    }
   ],
   "source": [
    "#CAPITAL LETTER\n",
    "fruits=[\"apple\", \"banana\", \"cherry\", \"kiwi\", \"mango\"]\n",
    "cap_fruits=[i.upper() for i in fruits]\n",
    "print(cap_fruits)"
   ]
  },
  {
   "cell_type": "code",
   "execution_count": 30,
   "id": "de894cc2",
   "metadata": {},
   "outputs": [
    {
     "name": "stdout",
     "output_type": "stream",
     "text": [
      "[5, 6, 6, 4, 5]\n"
     ]
    }
   ],
   "source": [
    "#length\n",
    "fruits=[\"apple\", \"banana\", \"cherry\", \"kiwi\", \"mango\"]\n",
    "cap_fruits=[len(i) for i in fruits]\n",
    "print(cap_fruits)"
   ]
  },
  {
   "cell_type": "code",
   "execution_count": 37,
   "id": "e351fe23",
   "metadata": {},
   "outputs": [
    {
     "name": "stdout",
     "output_type": "stream",
     "text": [
      "['orange', 'xyz', 'orange', 'orange', 'orange']\n"
     ]
    }
   ],
   "source": [
    "#[<True expression> if<condition> else <false> <for loop> ]\n",
    "\n",
    "newlist4 = [\"xyz\" if x == \"banana\" else \"orange\" for x in fruits]\n",
    "print(newlist4)\n"
   ]
  },
  {
   "cell_type": "code",
   "execution_count": 39,
   "id": "6d9158d4",
   "metadata": {},
   "outputs": [
    {
     "ename": "SyntaxError",
     "evalue": "invalid syntax (138669457.py, line 2)",
     "output_type": "error",
     "traceback": [
      "\u001b[1;36m  Input \u001b[1;32mIn [39]\u001b[1;36m\u001b[0m\n\u001b[1;33m    newlist4 = [if x==0 else x%%0 for x in numbers]\u001b[0m\n\u001b[1;37m                ^\u001b[0m\n\u001b[1;31mSyntaxError\u001b[0m\u001b[1;31m:\u001b[0m invalid syntax\n"
     ]
    }
   ],
   "source": [
    "numbers = [2, -1, 79, 33, -45]\n",
    "newlist4 = [if x==0 else x%%0 for x in numbers]\n",
    "print(newlist4)\n"
   ]
  },
  {
   "cell_type": "markdown",
   "id": "900a845d",
   "metadata": {},
   "source": [
    "# DICTIONARY"
   ]
  },
  {
   "cell_type": "code",
   "execution_count": 40,
   "id": "1e8b0413",
   "metadata": {},
   "outputs": [],
   "source": [
    "#\" \": strings\n",
    "#[]:list\n",
    "#{ }: dictionary\n"
   ]
  },
  {
   "cell_type": "code",
   "execution_count": 42,
   "id": "8c1773d8",
   "metadata": {},
   "outputs": [],
   "source": [
    "dict1 = {}\n"
   ]
  },
  {
   "cell_type": "code",
   "execution_count": 43,
   "id": "7070525d",
   "metadata": {},
   "outputs": [
    {
     "data": {
      "text/plain": [
       "dict"
      ]
     },
     "execution_count": 43,
     "metadata": {},
     "output_type": "execute_result"
    }
   ],
   "source": [
    "type(dict1)\n"
   ]
  },
  {
   "cell_type": "code",
   "execution_count": 44,
   "id": "9a3d82ab",
   "metadata": {},
   "outputs": [
    {
     "name": "stdout",
     "output_type": "stream",
     "text": [
      "{1: 'apple', 2: 'banana', 3: 'cherry', 4: 'Dates', 5: 'pineapple'}\n"
     ]
    }
   ],
   "source": [
    "#{key:value}\n",
    "\n",
    "dict2 ={1:\"apple\",2:\"banana\",3:\"cherry\",4:\"Dates\",5:\"pineapple\"}\n",
    "print(dict2)\n"
   ]
  },
  {
   "cell_type": "code",
   "execution_count": 45,
   "id": "292b8f1c",
   "metadata": {},
   "outputs": [
    {
     "data": {
      "text/plain": [
       "'apple'"
      ]
     },
     "execution_count": 45,
     "metadata": {},
     "output_type": "execute_result"
    }
   ],
   "source": [
    "dict2[1]\n"
   ]
  },
  {
   "cell_type": "code",
   "execution_count": 46,
   "id": "ead1953d",
   "metadata": {},
   "outputs": [
    {
     "data": {
      "text/plain": [
       "'pineapple'"
      ]
     },
     "execution_count": 46,
     "metadata": {},
     "output_type": "execute_result"
    }
   ],
   "source": [
    "dict2[5]\n"
   ]
  },
  {
   "cell_type": "code",
   "execution_count": 47,
   "id": "7b017e8a",
   "metadata": {},
   "outputs": [
    {
     "data": {
      "text/plain": [
       "dict_keys([1, 2, 3, 4, 5])"
      ]
     },
     "execution_count": 47,
     "metadata": {},
     "output_type": "execute_result"
    }
   ],
   "source": [
    "dict2.keys()\n"
   ]
  },
  {
   "cell_type": "code",
   "execution_count": 48,
   "id": "0ee74922",
   "metadata": {},
   "outputs": [
    {
     "data": {
      "text/plain": [
       "dict_values(['apple', 'banana', 'cherry', 'Dates', 'pineapple'])"
      ]
     },
     "execution_count": 48,
     "metadata": {},
     "output_type": "execute_result"
    }
   ],
   "source": [
    "dict2.values()\n"
   ]
  },
  {
   "cell_type": "code",
   "execution_count": 49,
   "id": "e5a55483",
   "metadata": {},
   "outputs": [
    {
     "data": {
      "text/plain": [
       "dict_items([(1, 'apple'), (2, 'banana'), (3, 'cherry'), (4, 'Dates'), (5, 'pineapple')])"
      ]
     },
     "execution_count": 49,
     "metadata": {},
     "output_type": "execute_result"
    }
   ],
   "source": [
    "dict2.items()\n"
   ]
  },
  {
   "cell_type": "code",
   "execution_count": 50,
   "id": "4baceb20",
   "metadata": {},
   "outputs": [
    {
     "data": {
      "text/plain": [
       "{1: 'Delhi', 'two': 100, 3: True, 'four': [1, 2, 3, 4]}"
      ]
     },
     "execution_count": 50,
     "metadata": {},
     "output_type": "execute_result"
    }
   ],
   "source": [
    "dict3={\n",
    "    1:\"Delhi\",\n",
    "    'two':100,\n",
    "    3: True,\n",
    "    \"four\":[1,2,3,4]\n",
    "}\n",
    "dict3\n"
   ]
  },
  {
   "cell_type": "code",
   "execution_count": 51,
   "id": "dba59d45",
   "metadata": {},
   "outputs": [
    {
     "data": {
      "text/plain": [
       "[1, 2, 3, 4]"
      ]
     },
     "execution_count": 51,
     "metadata": {},
     "output_type": "execute_result"
    }
   ],
   "source": [
    "dict3[\"four\"]\n"
   ]
  },
  {
   "cell_type": "code",
   "execution_count": 52,
   "id": "7cbf33cf",
   "metadata": {},
   "outputs": [
    {
     "data": {
      "text/plain": [
       "True"
      ]
     },
     "execution_count": 52,
     "metadata": {},
     "output_type": "execute_result"
    }
   ],
   "source": [
    "dict3[3]\n"
   ]
  },
  {
   "cell_type": "code",
   "execution_count": 53,
   "id": "13ec5798",
   "metadata": {},
   "outputs": [],
   "source": [
    "#dictionary[\"key\"]=value\n"
   ]
  },
  {
   "cell_type": "code",
   "execution_count": 55,
   "id": "a73e5929",
   "metadata": {},
   "outputs": [
    {
     "data": {
      "text/plain": [
       "[1, 2, 3, 4]"
      ]
     },
     "execution_count": 55,
     "metadata": {},
     "output_type": "execute_result"
    }
   ],
   "source": [
    "dict3[\"four\"]"
   ]
  },
  {
   "cell_type": "code",
   "execution_count": 56,
   "id": "e653e9bb",
   "metadata": {},
   "outputs": [
    {
     "name": "stdout",
     "output_type": "stream",
     "text": [
      "{1: 'rectangle', 2: 'triangle', 3: 'circle'}\n"
     ]
    }
   ],
   "source": [
    "shapes={1:\"rectangle\",2:\"triangle\",3:\"circle\"}\n",
    "print(shapes)\n"
   ]
  },
  {
   "cell_type": "code",
   "execution_count": 57,
   "id": "76a67f6d",
   "metadata": {},
   "outputs": [
    {
     "name": "stdout",
     "output_type": "stream",
     "text": [
      "{1: 'rectangle', 2: 'triangle', 3: 'circle', 4: 'hexagon', 5: 'polygon'}\n"
     ]
    }
   ],
   "source": [
    "#adding values []\n",
    "#dict[new_key]= value\n",
    "shapes[4]=\"hexagon\"\n",
    "shapes[5]=\"polygon\"\n",
    "\n",
    "print(shapes)\n"
   ]
  },
  {
   "cell_type": "code",
   "execution_count": 58,
   "id": "ac5faf00",
   "metadata": {},
   "outputs": [
    {
     "name": "stdout",
     "output_type": "stream",
     "text": [
      "{1: 'rectangle', 2: 'triangle', 3: 'circle', 4: 'hexagon', 5: 'polygon'}\n",
      "{1: 'rectangle', 2: 'triangle', 3: 'circle', 4: 'hexagon', 5: 'polygon'}\n"
     ]
    }
   ],
   "source": [
    "#adding values []\n",
    "#dict[new_key]= value\n",
    "shapes[4]=\"hexagon\"\n",
    "shapes[5]=\"polygon\"\n",
    "\n",
    "print(shapes)\n",
    "print(shapes)\n"
   ]
  },
  {
   "cell_type": "code",
   "execution_count": 59,
   "id": "7ecad9f5",
   "metadata": {},
   "outputs": [
    {
     "name": "stdout",
     "output_type": "stream",
     "text": [
      "{1: 'rectangle', 2: 'triangle', 3: 'circle', 4: 'hexagon', 5: 'polygon', 6: 'right angle triangle', 7: 'rhombus'}\n"
     ]
    }
   ],
   "source": [
    "#adding multiple values to dictionary\n",
    "shape2 = {6:\"right angle triangle\",7:\"rhombus\"}\n",
    "shapes.update(shape2)\n",
    "print(shapes)\n"
   ]
  },
  {
   "cell_type": "code",
   "execution_count": 60,
   "id": "77df08ee",
   "metadata": {},
   "outputs": [
    {
     "name": "stdout",
     "output_type": "stream",
     "text": [
      "right angle triangle\n"
     ]
    }
   ],
   "source": [
    "#get command\n",
    "#accesing particular element\n",
    "print(shape2.get(6))\n"
   ]
  },
  {
   "cell_type": "code",
   "execution_count": 61,
   "id": "8a0988b1",
   "metadata": {},
   "outputs": [
    {
     "data": {
      "text/plain": [
       "7"
      ]
     },
     "execution_count": 61,
     "metadata": {},
     "output_type": "execute_result"
    }
   ],
   "source": [
    "len(shapes)#length of dictionary\n"
   ]
  },
  {
   "cell_type": "code",
   "execution_count": 62,
   "id": "cc61331d",
   "metadata": {},
   "outputs": [
    {
     "name": "stdout",
     "output_type": "stream",
     "text": [
      "None\n"
     ]
    }
   ],
   "source": [
    "print(shapes.get(8))\n"
   ]
  },
  {
   "cell_type": "code",
   "execution_count": 63,
   "id": "1ca1861b",
   "metadata": {},
   "outputs": [
    {
     "name": "stdout",
     "output_type": "stream",
     "text": [
      "polygon\n"
     ]
    }
   ],
   "source": [
    "print(shapes.get(5,\"key not present\"))\n"
   ]
  },
  {
   "cell_type": "code",
   "execution_count": 64,
   "id": "84046d49",
   "metadata": {},
   "outputs": [
    {
     "name": "stdout",
     "output_type": "stream",
     "text": [
      "key not present\n"
     ]
    }
   ],
   "source": [
    "print(shapes.get(10,\"key not present\"))\n"
   ]
  },
  {
   "cell_type": "code",
   "execution_count": 65,
   "id": "7fb914d8",
   "metadata": {},
   "outputs": [
    {
     "ename": "KeyError",
     "evalue": "8",
     "output_type": "error",
     "traceback": [
      "\u001b[1;31m---------------------------------------------------------------------------\u001b[0m",
      "\u001b[1;31mKeyError\u001b[0m                                  Traceback (most recent call last)",
      "Input \u001b[1;32mIn [65]\u001b[0m, in \u001b[0;36m<cell line: 1>\u001b[1;34m()\u001b[0m\n\u001b[1;32m----> 1\u001b[0m \u001b[43mshapes\u001b[49m\u001b[43m[\u001b[49m\u001b[38;5;241;43m8\u001b[39;49m\u001b[43m]\u001b[49m\n",
      "\u001b[1;31mKeyError\u001b[0m: 8"
     ]
    }
   ],
   "source": [
    "shapes[8]\n"
   ]
  },
  {
   "cell_type": "code",
   "execution_count": 67,
   "id": "21f1c243",
   "metadata": {},
   "outputs": [
    {
     "name": "stdout",
     "output_type": "stream",
     "text": [
      "hello world\n"
     ]
    }
   ],
   "source": [
    "print(shapes.get(8,\"hello world\"))"
   ]
  },
  {
   "cell_type": "code",
   "execution_count": 68,
   "id": "c56ea7d0",
   "metadata": {},
   "outputs": [
    {
     "data": {
      "text/plain": [
       "{1: 'rectangle',\n",
       " 2: 'triangle',\n",
       " 3: 'circle',\n",
       " 4: 'hexagon',\n",
       " 5: 'polygon',\n",
       " 7: 'rhombus'}"
      ]
     },
     "execution_count": 68,
     "metadata": {},
     "output_type": "execute_result"
    }
   ],
   "source": [
    "#by using pop it ommits\n",
    "shapes.pop(6)\n",
    "shapes\n"
   ]
  },
  {
   "cell_type": "code",
   "execution_count": 69,
   "id": "01d2a7d1",
   "metadata": {},
   "outputs": [
    {
     "data": {
      "text/plain": [
       "{1: 'rectangle', 3: 'circle', 4: 'hexagon', 5: 'polygon', 7: 'rhombus'}"
      ]
     },
     "execution_count": 69,
     "metadata": {},
     "output_type": "execute_result"
    }
   ],
   "source": [
    "shapes.pop(2)\n",
    "shapes"
   ]
  },
  {
   "cell_type": "code",
   "execution_count": 77,
   "id": "9942b456",
   "metadata": {},
   "outputs": [
    {
     "ename": "KeyError",
     "evalue": "3",
     "output_type": "error",
     "traceback": [
      "\u001b[1;31m---------------------------------------------------------------------------\u001b[0m",
      "\u001b[1;31mKeyError\u001b[0m                                  Traceback (most recent call last)",
      "Input \u001b[1;32mIn [77]\u001b[0m, in \u001b[0;36m<cell line: 1>\u001b[1;34m()\u001b[0m\n\u001b[1;32m----> 1\u001b[0m \u001b[43mshapes\u001b[49m\u001b[38;5;241;43m.\u001b[39;49m\u001b[43mpop\u001b[49m\u001b[43m(\u001b[49m\u001b[38;5;241;43m3\u001b[39;49m\u001b[43m)\u001b[49m\n\u001b[0;32m      2\u001b[0m shapes\n",
      "\u001b[1;31mKeyError\u001b[0m: 3"
     ]
    }
   ],
   "source": [
    "shapes.pop(3)\n",
    "shapes"
   ]
  },
  {
   "cell_type": "code",
   "execution_count": 78,
   "id": "cc6c83cb",
   "metadata": {},
   "outputs": [
    {
     "name": "stdout",
     "output_type": "stream",
     "text": [
      "1\n",
      "4\n",
      "7\n"
     ]
    }
   ],
   "source": [
    "for i in shapes:\n",
    "    print(i)\n"
   ]
  },
  {
   "cell_type": "code",
   "execution_count": 79,
   "id": "d328204c",
   "metadata": {},
   "outputs": [
    {
     "name": "stdout",
     "output_type": "stream",
     "text": [
      "rectangle\n",
      "hexagon\n",
      "rhombus\n"
     ]
    }
   ],
   "source": [
    "for i in shapes:\n",
    "    print(shapes[i])\n"
   ]
  },
  {
   "cell_type": "code",
   "execution_count": 80,
   "id": "89e2aca4",
   "metadata": {},
   "outputs": [
    {
     "name": "stdout",
     "output_type": "stream",
     "text": [
      "rectangle\n",
      "hexagon\n",
      "rhombus\n"
     ]
    }
   ],
   "source": [
    "for i in shapes.values():\n",
    "    print(i)\n"
   ]
  },
  {
   "cell_type": "code",
   "execution_count": 81,
   "id": "f323b427",
   "metadata": {},
   "outputs": [
    {
     "ename": "KeyError",
     "evalue": "2",
     "output_type": "error",
     "traceback": [
      "\u001b[1;31m---------------------------------------------------------------------------\u001b[0m",
      "\u001b[1;31mKeyError\u001b[0m                                  Traceback (most recent call last)",
      "Input \u001b[1;32mIn [81]\u001b[0m, in \u001b[0;36m<cell line: 1>\u001b[1;34m()\u001b[0m\n\u001b[1;32m----> 1\u001b[0m \u001b[38;5;28;01mdel\u001b[39;00m shapes[\u001b[38;5;241m2\u001b[39m]\n\u001b[0;32m      2\u001b[0m shapes\n",
      "\u001b[1;31mKeyError\u001b[0m: 2"
     ]
    }
   ],
   "source": [
    "del shapes[2]\n",
    "shapes\n"
   ]
  },
  {
   "cell_type": "code",
   "execution_count": 82,
   "id": "74b458c7",
   "metadata": {},
   "outputs": [
    {
     "name": "stdout",
     "output_type": "stream",
     "text": [
      "RECTANGLE\n",
      "HEXAGON\n",
      "RHOMBUS\n"
     ]
    }
   ],
   "source": [
    "for i in shapes.values():\n",
    "    print(i.upper())\n"
   ]
  },
  {
   "cell_type": "code",
   "execution_count": 83,
   "id": "d861d676",
   "metadata": {},
   "outputs": [
    {
     "name": "stdout",
     "output_type": "stream",
     "text": [
      "9\n",
      "7\n",
      "7\n"
     ]
    }
   ],
   "source": [
    "for i in shapes.values():\n",
    "    print(len(i))\n"
   ]
  },
  {
   "cell_type": "code",
   "execution_count": 84,
   "id": "e9685130",
   "metadata": {},
   "outputs": [
    {
     "name": "stdout",
     "output_type": "stream",
     "text": [
      "hexagon\n"
     ]
    }
   ],
   "source": [
    "for i in shapes.keys():\n",
    "    if i%2==0:\n",
    "        print(shapes[i])\n"
   ]
  },
  {
   "cell_type": "code",
   "execution_count": 85,
   "id": "376a3919",
   "metadata": {},
   "outputs": [],
   "source": [
    "#dictionary[key]=value\n"
   ]
  },
  {
   "cell_type": "code",
   "execution_count": 95,
   "id": "1ca192a3",
   "metadata": {},
   "outputs": [
    {
     "ename": "SyntaxError",
     "evalue": "invalid syntax (2515713666.py, line 3)",
     "output_type": "error",
     "traceback": [
      "\u001b[1;36m  Input \u001b[1;32mIn [95]\u001b[1;36m\u001b[0m\n\u001b[1;33m    if i=200==0\u001b[0m\n\u001b[1;37m        ^\u001b[0m\n\u001b[1;31mSyntaxError\u001b[0m\u001b[1;31m:\u001b[0m invalid syntax\n"
     ]
    }
   ],
   "source": [
    "sample_dict = {'a': 100, 'b': 200, 'c': 300}\n",
    "i=0\n",
    "if i=200==0\n",
    "print(yes)\n",
    "else\n",
    "\n",
    "break"
   ]
  },
  {
   "cell_type": "code",
   "execution_count": 91,
   "id": "509fc462",
   "metadata": {},
   "outputs": [],
   "source": [
    "sample_dict = {\n",
    "  \"name\": \"Kelly\",\n",
    "  \"age\":25,\n",
    "  \"salary\": 8000,\n",
    "  \"city\": \"New york\"\n",
    "}\n"
   ]
  },
  {
   "cell_type": "code",
   "execution_count": 97,
   "id": "2b1f1cf3",
   "metadata": {},
   "outputs": [
    {
     "name": "stdout",
     "output_type": "stream",
     "text": [
      "3697\n"
     ]
    }
   ],
   "source": [
    "dict_new={1:100,2:345,3:678,4:789,5:786,6:999}\n",
    "values = dict_new.values()\n",
    "total_value = sum(values)\n",
    "print(total_value)"
   ]
  },
  {
   "cell_type": "code",
   "execution_count": 1,
   "id": "e13818e2",
   "metadata": {},
   "outputs": [
    {
     "data": {
      "text/plain": [
       "{1: 'rectangle',\n",
       " 2: 'triangle',\n",
       " 3: 'circle',\n",
       " 4: 'hexagon',\n",
       " 5: 'polygon',\n",
       " 6: 'right angle triangle',\n",
       " 7: 'rhombus'}"
      ]
     },
     "execution_count": 1,
     "metadata": {},
     "output_type": "execute_result"
    }
   ],
   "source": [
    "shape3={1: 'rectangle', 2: 'triangle', 3: 'circle', 4: 'hexagon', 5: 'polygon', 6: 'right angle triangle', 7: 'rhombus'}\n",
    "shape3\n"
   ]
  },
  {
   "cell_type": "code",
   "execution_count": 2,
   "id": "f49443e3",
   "metadata": {},
   "outputs": [
    {
     "name": "stdout",
     "output_type": "stream",
     "text": [
      "1 rectangle\n",
      "2 triangle\n",
      "3 circle\n",
      "4 hexagon\n",
      "5 polygon\n",
      "6 right angle triangle\n",
      "7 rhombus\n",
      "<class 'int'>\n",
      "<class 'str'>\n"
     ]
    }
   ],
   "source": [
    "for k,v in shape3.items():\n",
    "    print(k,v)\n",
    "    \n",
    "    \n",
    "print(type(k))\n",
    "print(type(v))\n"
   ]
  },
  {
   "cell_type": "code",
   "execution_count": 3,
   "id": "c47a11b0",
   "metadata": {},
   "outputs": [
    {
     "data": {
      "text/plain": [
       "{1: 'rectangle',\n",
       " 2: 'triangle',\n",
       " 3: 'circle',\n",
       " 4: 'hexagon',\n",
       " 5: 'polygon',\n",
       " 6: 'right angle triangle',\n",
       " 7: 'rhombus'}"
      ]
     },
     "execution_count": 3,
     "metadata": {},
     "output_type": "execute_result"
    }
   ],
   "source": [
    "#Dictionary comprehension\n",
    "#newdict={expression (k:v) for k,v in dict.items()}\n",
    "compdict={k:v for k,v in shape3.items()}\n",
    "compdict\n"
   ]
  },
  {
   "cell_type": "code",
   "execution_count": 4,
   "id": "03be2a60",
   "metadata": {},
   "outputs": [
    {
     "data": {
      "text/plain": [
       "{1: 'RECTANGLE',\n",
       " 2: 'TRIANGLE',\n",
       " 3: 'CIRCLE',\n",
       " 4: 'HEXAGON',\n",
       " 5: 'POLYGON',\n",
       " 6: 'RIGHT ANGLE TRIANGLE',\n",
       " 7: 'RHOMBUS'}"
      ]
     },
     "execution_count": 4,
     "metadata": {},
     "output_type": "execute_result"
    }
   ],
   "source": [
    "compdict={k:v.upper() for k,v in shape3.items()}\n",
    "compdict\n"
   ]
  },
  {
   "cell_type": "code",
   "execution_count": 5,
   "id": "917c60df",
   "metadata": {},
   "outputs": [
    {
     "data": {
      "text/plain": [
       "[0, 1, 2, 3, 4, 5, 6, 7, 8, 9, 10]"
      ]
     },
     "execution_count": 5,
     "metadata": {},
     "output_type": "execute_result"
    }
   ],
   "source": [
    "#Expected output :{0: 0, 2: 4, 4: 16, 6: 36, 8: 64, 10: 100}\n",
    "#keys are even numbers\n",
    "#values are square of keys\n",
    "\n",
    "numbers=[0,1,2,3,4,5,6,7,8,9,10]\n",
    "numbers\n"
   ]
  },
  {
   "cell_type": "code",
   "execution_count": 6,
   "id": "7a4c355d",
   "metadata": {},
   "outputs": [
    {
     "name": "stdout",
     "output_type": "stream",
     "text": [
      "{0: 0, 2: 4, 4: 16, 6: 36, 8: 64, 10: 100}\n"
     ]
    }
   ],
   "source": [
    "#dict[key]=value\n",
    "exp_dict={}\n",
    "for i in numbers:\n",
    "    if i%2==0:\n",
    "        exp_dict[i]=i**2\n",
    "    i=i+1\n",
    "    \n",
    "print(exp_dict)\n"
   ]
  },
  {
   "cell_type": "code",
   "execution_count": 7,
   "id": "fd6e0a02",
   "metadata": {},
   "outputs": [
    {
     "data": {
      "text/plain": [
       "{0: 0, 2: 4, 4: 16, 6: 36, 8: 64, 10: 100}"
      ]
     },
     "execution_count": 7,
     "metadata": {},
     "output_type": "execute_result"
    }
   ],
   "source": [
    "#{key:value for k in list <condition>}\n",
    "new_dic={k:k**2 for k in numbers if k%2==0}\n",
    "new_dic\n"
   ]
  },
  {
   "cell_type": "code",
   "execution_count": 19,
   "id": "ffc4ea37",
   "metadata": {},
   "outputs": [
    {
     "data": {
      "text/plain": [
       "4"
      ]
     },
     "execution_count": 19,
     "metadata": {},
     "output_type": "execute_result"
    }
   ],
   "source": [
    "a=[\"book\",\"data science\",\"data analytics\",\"dictionary\"]\n",
    "len(a)"
   ]
  },
  {
   "cell_type": "code",
   "execution_count": 22,
   "id": "01bd8210",
   "metadata": {
    "scrolled": true
   },
   "outputs": [
    {
     "data": {
      "text/plain": [
       "{'book': 4, 'data science': 12, 'data analytics': 14, 'dictionary': 10}"
      ]
     },
     "execution_count": 22,
     "metadata": {},
     "output_type": "execute_result"
    }
   ],
   "source": [
    "a=[\"book\",\"data science\",\"data analytics\",\"dictionary\"]\n",
    "a_new={k:len(k) for k in a}\n",
    "a_new"
   ]
  },
  {
   "cell_type": "code",
   "execution_count": 33,
   "id": "b2be3959",
   "metadata": {},
   "outputs": [
    {
     "data": {
      "text/plain": [
       "{'book': 4, 'data science': 12, 'data analytics': 14, 'dictionary': 10}"
      ]
     },
     "execution_count": 33,
     "metadata": {},
     "output_type": "execute_result"
    }
   ],
   "source": [
    "a=[\"book\",\"data science\",\"data analytics\",\"dictionary\"]\n",
    "a={k.upper():len(k) for k in a}\n",
    "a_new"
   ]
  },
  {
   "cell_type": "code",
   "execution_count": 31,
   "id": "517c3f74",
   "metadata": {},
   "outputs": [
    {
     "data": {
      "text/plain": [
       "{3: 'manager', 4: 'manager'}"
      ]
     },
     "execution_count": 31,
     "metadata": {},
     "output_type": "execute_result"
    }
   ],
   "source": [
    "#create new dict for managers only\n",
    "employee={1:\"technician\",2:\"HR\",3:\"manager\",4:\"manager\",5:\"developer\"}  \n",
    "manager_dict={k:v for k,v in employee.items() if v==\"manager\"}\n",
    "manager_dict\n"
   ]
  },
  {
   "cell_type": "code",
   "execution_count": 34,
   "id": "836eed05",
   "metadata": {},
   "outputs": [],
   "source": [
    "#merging or zip\n",
    "food=['pizza','tea','dosa']\n",
    "calories=[350,75,170]\n"
   ]
  },
  {
   "cell_type": "code",
   "execution_count": 35,
   "id": "f03dfad7",
   "metadata": {},
   "outputs": [
    {
     "name": "stdout",
     "output_type": "stream",
     "text": [
      "<class 'zip'>\n",
      "<zip object at 0x000001E8143E2BC0>\n"
     ]
    }
   ],
   "source": [
    "single=zip(food,calories)\n",
    "print(type(single))\n",
    "print(single)\n"
   ]
  },
  {
   "cell_type": "code",
   "execution_count": 36,
   "id": "42344a48",
   "metadata": {},
   "outputs": [
    {
     "data": {
      "text/plain": [
       "{'pizza': 350, 'tea': 75, 'dosa': 170}"
      ]
     },
     "execution_count": 36,
     "metadata": {},
     "output_type": "execute_result"
    }
   ],
   "source": [
    "food_dic={k:v for k,v in single}\n",
    "food_dic\n"
   ]
  },
  {
   "cell_type": "code",
   "execution_count": 40,
   "id": "4ce2a9b1",
   "metadata": {},
   "outputs": [
    {
     "name": "stdout",
     "output_type": "stream",
     "text": [
      "<class 'zip'>\n",
      "<zip object at 0x000001E814426180>\n"
     ]
    }
   ],
   "source": [
    "drinks = [\"espresso\", \"chai\", \"decaf\", \"drip\"]\n",
    "caffeine = [64, 40, 0, 120]\n",
    "single=zip(drinks,caffeine)\n",
    "print(type(single))\n",
    "print(single)"
   ]
  },
  {
   "cell_type": "code",
   "execution_count": 42,
   "id": "8253f199",
   "metadata": {},
   "outputs": [
    {
     "data": {
      "text/plain": [
       "{}"
      ]
     },
     "execution_count": 42,
     "metadata": {},
     "output_type": "execute_result"
    }
   ],
   "source": [
    "drinks_dic={k:v for k,v in single}\n",
    "drinks_dic"
   ]
  },
  {
   "cell_type": "code",
   "execution_count": 43,
   "id": "3681b831",
   "metadata": {},
   "outputs": [
    {
     "name": "stdout",
     "output_type": "stream",
     "text": [
      "<class 'zip'>\n",
      "<zip object at 0x000001E8144650C0>\n"
     ]
    }
   ],
   "source": [
    "student = [\"ajay\",\"vijay\",\"akash\",\"vyom\"]\n",
    "marks = [78,89,90,67]\n",
    "single=zip(student,marks)\n",
    "print(type(single))\n",
    "print(single)"
   ]
  },
  {
   "cell_type": "code",
   "execution_count": 45,
   "id": "7316bc2d",
   "metadata": {},
   "outputs": [
    {
     "data": {
      "text/plain": [
       "{}"
      ]
     },
     "execution_count": 45,
     "metadata": {},
     "output_type": "execute_result"
    }
   ],
   "source": [
    "student_dic={k:v for k,v in single}\n",
    "student_dic"
   ]
  },
  {
   "cell_type": "code",
   "execution_count": 2,
   "id": "215b70a1",
   "metadata": {},
   "outputs": [
    {
     "name": "stdout",
     "output_type": "stream",
     "text": [
      "[1, 2, 3, 4, 5, 6]\n"
     ]
    }
   ],
   "source": [
    "list2 = [1,2,2,3,1,4,5,1,2,6]\n",
    "temp = []\n",
    "for i in list2:\n",
    "    if i not in temp:\n",
    "        temp.append(i)\n",
    "print(list(temp))\n"
   ]
  },
  {
   "cell_type": "code",
   "execution_count": 3,
   "id": "19fd1414",
   "metadata": {},
   "outputs": [
    {
     "data": {
      "text/plain": [
       "{1, 2, 3, 4, 5, 6}"
      ]
     },
     "execution_count": 3,
     "metadata": {},
     "output_type": "execute_result"
    }
   ],
   "source": [
    "a=set(list2)\n",
    "a\n"
   ]
  },
  {
   "cell_type": "markdown",
   "id": "7f1edbbe",
   "metadata": {},
   "source": [
    "# SET\n"
   ]
  },
  {
   "cell_type": "code",
   "execution_count": 4,
   "id": "8b8b0bdb",
   "metadata": {},
   "outputs": [],
   "source": [
    "#two ways to create set\n",
    "#1. using set()\n",
    "#2. assigning values in {}\n"
   ]
  },
  {
   "cell_type": "code",
   "execution_count": 5,
   "id": "ea88782c",
   "metadata": {},
   "outputs": [
    {
     "data": {
      "text/plain": [
       "set"
      ]
     },
     "execution_count": 5,
     "metadata": {},
     "output_type": "execute_result"
    }
   ],
   "source": [
    "a={1,2,3,4,5}\n",
    "type(a)\n"
   ]
  },
  {
   "cell_type": "code",
   "execution_count": 6,
   "id": "05ed26cb",
   "metadata": {},
   "outputs": [
    {
     "name": "stdout",
     "output_type": "stream",
     "text": [
      "<class 'set'>\n",
      "<class 'dict'>\n"
     ]
    }
   ],
   "source": [
    "c={}#dictionary\n",
    "b=set() #to create empty set\n",
    "print(type(b))\n",
    "print(type(c))\n"
   ]
  },
  {
   "cell_type": "code",
   "execution_count": 7,
   "id": "c29e90bc",
   "metadata": {},
   "outputs": [
    {
     "data": {
      "text/plain": [
       "{1, 2, 3, 4, 5, 6, 7, 8, 9, 10, 20}"
      ]
     },
     "execution_count": 7,
     "metadata": {},
     "output_type": "execute_result"
    }
   ],
   "source": [
    "A={1,2,3,4,5,6,7,8,9,10}\n",
    "A.add(20)\n",
    "A\n"
   ]
  },
  {
   "cell_type": "code",
   "execution_count": 8,
   "id": "63c70174",
   "metadata": {},
   "outputs": [
    {
     "data": {
      "text/plain": [
       "11"
      ]
     },
     "execution_count": 8,
     "metadata": {},
     "output_type": "execute_result"
    }
   ],
   "source": [
    "len(A)\n"
   ]
  },
  {
   "cell_type": "code",
   "execution_count": 9,
   "id": "439a18f0",
   "metadata": {},
   "outputs": [
    {
     "data": {
      "text/plain": [
       "{1, 2, 3, 4, 5, 6, 7, 8, 9, 10, 20}"
      ]
     },
     "execution_count": 9,
     "metadata": {},
     "output_type": "execute_result"
    }
   ],
   "source": [
    "b=A.copy()\n",
    "b\n"
   ]
  },
  {
   "cell_type": "code",
   "execution_count": 10,
   "id": "e44c33d6",
   "metadata": {},
   "outputs": [
    {
     "data": {
      "text/plain": [
       "{1, 2, 3, 4, 5, 6, 7, 8, 9, 10, 20, 45, 89, 90}"
      ]
     },
     "execution_count": 10,
     "metadata": {},
     "output_type": "execute_result"
    }
   ],
   "source": [
    "A.update({45,90,89})\n",
    "A\n"
   ]
  },
  {
   "cell_type": "code",
   "execution_count": 16,
   "id": "4be4efaf",
   "metadata": {},
   "outputs": [
    {
     "ename": "KeyError",
     "evalue": "45",
     "output_type": "error",
     "traceback": [
      "\u001b[1;31m---------------------------------------------------------------------------\u001b[0m",
      "\u001b[1;31mKeyError\u001b[0m                                  Traceback (most recent call last)",
      "Input \u001b[1;32mIn [16]\u001b[0m, in \u001b[0;36m<cell line: 1>\u001b[1;34m()\u001b[0m\n\u001b[1;32m----> 1\u001b[0m \u001b[43mA\u001b[49m\u001b[38;5;241;43m.\u001b[39;49m\u001b[43mremove\u001b[49m\u001b[43m(\u001b[49m\u001b[38;5;241;43m45\u001b[39;49m\u001b[43m)\u001b[49m\n\u001b[0;32m      2\u001b[0m A\n",
      "\u001b[1;31mKeyError\u001b[0m: 45"
     ]
    }
   ],
   "source": [
    "A.remove(45)\n",
    "A"
   ]
  },
  {
   "cell_type": "code",
   "execution_count": 18,
   "id": "2d868dfa",
   "metadata": {},
   "outputs": [
    {
     "data": {
      "text/plain": [
       "{3, 4, 5, 6, 7, 8, 9, 10, 20, 89, 90}"
      ]
     },
     "execution_count": 18,
     "metadata": {},
     "output_type": "execute_result"
    }
   ],
   "source": [
    "A.pop()\n",
    "A"
   ]
  },
  {
   "cell_type": "code",
   "execution_count": 5,
   "id": "c647428e",
   "metadata": {},
   "outputs": [
    {
     "data": {
      "text/plain": [
       "{1, 2, 3, 4, 5, 6, 7, 8, 9, 10}"
      ]
     },
     "execution_count": 5,
     "metadata": {},
     "output_type": "execute_result"
    }
   ],
   "source": [
    "A.discard(90)\n",
    "A"
   ]
  },
  {
   "cell_type": "code",
   "execution_count": 2,
   "id": "08cf563c",
   "metadata": {},
   "outputs": [],
   "source": [
    "A={1,2,3,4,5,6,7,8,9,10}\n"
   ]
  },
  {
   "cell_type": "code",
   "execution_count": 3,
   "id": "9ba54fb4",
   "metadata": {},
   "outputs": [
    {
     "ename": "AttributeError",
     "evalue": "'set' object has no attribute 'replace'",
     "output_type": "error",
     "traceback": [
      "\u001b[1;31m---------------------------------------------------------------------------\u001b[0m",
      "\u001b[1;31mAttributeError\u001b[0m                            Traceback (most recent call last)",
      "Input \u001b[1;32mIn [3]\u001b[0m, in \u001b[0;36m<cell line: 1>\u001b[1;34m()\u001b[0m\n\u001b[1;32m----> 1\u001b[0m \u001b[43mA\u001b[49m\u001b[38;5;241;43m.\u001b[39;49m\u001b[43mreplace\u001b[49m(\u001b[38;5;124m\"\u001b[39m\u001b[38;5;124m8\u001b[39m\u001b[38;5;124m\"\u001b[39m,\u001b[38;5;124m\"\u001b[39m\u001b[38;5;124m6\u001b[39m\u001b[38;5;124m\"\u001b[39m)\n\u001b[0;32m      2\u001b[0m A\n",
      "\u001b[1;31mAttributeError\u001b[0m: 'set' object has no attribute 'replace'"
     ]
    }
   ],
   "source": [
    "A.replace(\"8\",\"6\")\n",
    "A"
   ]
  },
  {
   "cell_type": "markdown",
   "id": "2e2bd1ce",
   "metadata": {},
   "source": [
    "# set of operations\n"
   ]
  },
  {
   "cell_type": "code",
   "execution_count": 6,
   "id": "7f3765d0",
   "metadata": {},
   "outputs": [
    {
     "name": "stdout",
     "output_type": "stream",
     "text": [
      "{1, 2, 3, 4, 5, 6, 7, 8}\n"
     ]
    }
   ],
   "source": [
    "a = {1,2,3,4,5}\n",
    "b = {4,5,6,7,8}\n",
    "uni = a.union(b)\n",
    "print(uni)\n"
   ]
  },
  {
   "cell_type": "code",
   "execution_count": 7,
   "id": "4a28b8c2",
   "metadata": {},
   "outputs": [
    {
     "data": {
      "text/plain": [
       "{1, 2, 3, 4, 5, 6, 7, 8}"
      ]
     },
     "execution_count": 7,
     "metadata": {},
     "output_type": "execute_result"
    }
   ],
   "source": [
    "uni2=a|b #(a union b)\n",
    "uni2\n"
   ]
  },
  {
   "cell_type": "code",
   "execution_count": 8,
   "id": "30833215",
   "metadata": {},
   "outputs": [
    {
     "data": {
      "text/plain": [
       "{4, 5}"
      ]
     },
     "execution_count": 8,
     "metadata": {},
     "output_type": "execute_result"
    }
   ],
   "source": [
    "intr=a.intersection(b)\n",
    "intr\n"
   ]
  },
  {
   "cell_type": "code",
   "execution_count": 9,
   "id": "c4579d5a",
   "metadata": {},
   "outputs": [
    {
     "data": {
      "text/plain": [
       "{4, 5}"
      ]
     },
     "execution_count": 9,
     "metadata": {},
     "output_type": "execute_result"
    }
   ],
   "source": [
    "intr2=a&b #a intersection b\n",
    "intr2\n"
   ]
  },
  {
   "cell_type": "code",
   "execution_count": 10,
   "id": "9d7fe7c4",
   "metadata": {},
   "outputs": [
    {
     "data": {
      "text/plain": [
       "{1, 2, 3}"
      ]
     },
     "execution_count": 10,
     "metadata": {},
     "output_type": "execute_result"
    }
   ],
   "source": [
    "a = {1,2,3,4,5}\n",
    "b = {4,5,6,7,8}\n",
    "c=a-b #elements present in a but not in b \n",
    "c\n"
   ]
  },
  {
   "cell_type": "code",
   "execution_count": 11,
   "id": "147a69da",
   "metadata": {},
   "outputs": [
    {
     "data": {
      "text/plain": [
       "{6, 7, 8}"
      ]
     },
     "execution_count": 11,
     "metadata": {},
     "output_type": "execute_result"
    }
   ],
   "source": [
    "c=b-a #elements present in b but not in a\n",
    "c\n"
   ]
  },
  {
   "cell_type": "code",
   "execution_count": 12,
   "id": "6d7e283b",
   "metadata": {},
   "outputs": [
    {
     "data": {
      "text/plain": [
       "{1, 2, 3}"
      ]
     },
     "execution_count": 12,
     "metadata": {},
     "output_type": "execute_result"
    }
   ],
   "source": [
    "diff=a.difference(b)\n",
    "diff\n"
   ]
  },
  {
   "cell_type": "code",
   "execution_count": 13,
   "id": "c192c559",
   "metadata": {},
   "outputs": [
    {
     "data": {
      "text/plain": [
       "{6, 7, 8}"
      ]
     },
     "execution_count": 13,
     "metadata": {},
     "output_type": "execute_result"
    }
   ],
   "source": [
    "diff2=b.difference(a)\n",
    "diff2\n"
   ]
  },
  {
   "cell_type": "code",
   "execution_count": 14,
   "id": "d15678f6",
   "metadata": {},
   "outputs": [
    {
     "name": "stdout",
     "output_type": "stream",
     "text": [
      "{1, 2, 3, 6, 7, 8}\n"
     ]
    }
   ],
   "source": [
    "a.symmetric_difference_update(b)\n",
    "print(a)\n"
   ]
  },
  {
   "cell_type": "code",
   "execution_count": 15,
   "id": "ebcf9a2e",
   "metadata": {},
   "outputs": [
    {
     "name": "stdout",
     "output_type": "stream",
     "text": [
      "99\n",
      "4\n"
     ]
    }
   ],
   "source": [
    "n={10,20,99,12,4,56}\n",
    "print(max(n))\n",
    "print(min(n))\n"
   ]
  },
  {
   "cell_type": "code",
   "execution_count": 16,
   "id": "8bc93e83",
   "metadata": {},
   "outputs": [],
   "source": [
    "p={10,89,77,25}\n"
   ]
  },
  {
   "cell_type": "code",
   "execution_count": 17,
   "id": "63659086",
   "metadata": {},
   "outputs": [
    {
     "data": {
      "text/plain": [
       "{4, 12, 20, 56, 99}"
      ]
     },
     "execution_count": 17,
     "metadata": {},
     "output_type": "execute_result"
    }
   ],
   "source": [
    "n.difference_update(p) #elements in n not in p, result stored back in n\n",
    "n\n"
   ]
  },
  {
   "cell_type": "code",
   "execution_count": 18,
   "id": "ca5c6035",
   "metadata": {},
   "outputs": [
    {
     "data": {
      "text/plain": [
       "set()"
      ]
     },
     "execution_count": 18,
     "metadata": {},
     "output_type": "execute_result"
    }
   ],
   "source": [
    "p.clear()\n",
    "p\n"
   ]
  },
  {
   "cell_type": "code",
   "execution_count": 20,
   "id": "8aab4db0",
   "metadata": {},
   "outputs": [
    {
     "ename": "SyntaxError",
     "evalue": "invalid syntax (1164494073.py, line 1)",
     "output_type": "error",
     "traceback": [
      "\u001b[1;36m  Input \u001b[1;32mIn [20]\u001b[1;36m\u001b[0m\n\u001b[1;33m    add() Adds an element to the set clear() Removes all the elements from the set copy() Returns a copy of the set difference() Returns a set containing the difference between two or more sets difference_update() Removes the items in this set that are also included in another, specified set discard() Remove the specified item\u001b[0m\n\u001b[1;37m          ^\u001b[0m\n\u001b[1;31mSyntaxError\u001b[0m\u001b[1;31m:\u001b[0m invalid syntax\n"
     ]
    }
   ],
   "source": [
    "add() Adds an element to the set clear() Removes all the elements from the set copy() Returns a copy of the set difference() Returns a set containing the difference between two or more sets difference_update() Removes the items in this set that are also included in another, specified set discard() Remove the specified item\n",
    "intersection() Returns a set, that is the intersection of two or more sets intersection_update() Removes the items in this set that are not present in other, specified set(s) isdisjoint() Returns whether two sets have a intersection or not issubset() Returns whether another set contains this set or not\n",
    "issuperset() Returns whether this set contains another set or not pop() Removes an element from the set remove() Removes the specified element symmetric_difference() Returns a set with the symmetric differences of two sets symmetric_difference_update() inserts the symmetric differences from this set and another union() Return a set containing the union of sets update() Update the set with another set, or any other iterable\n"
   ]
  },
  {
   "cell_type": "code",
   "execution_count": 21,
   "id": "0438c8f6",
   "metadata": {},
   "outputs": [
    {
     "name": "stdout",
     "output_type": "stream",
     "text": [
      "3141378402896\n",
      "3141378403216\n",
      "both identities are different\n",
      "different ids\n",
      " different identity\n"
     ]
    }
   ],
   "source": [
    "#identity operator\n",
    "a=10\n",
    "b=20\n",
    "print(id(a))\n",
    "print(id(b))\n",
    "\n",
    "if ( a is b ):\n",
    "    print (\" both have same identity\")\n",
    "else:\n",
    "    print (\"both identities are different\")\n",
    "\n",
    "if ( id(a) == id(b) ):\n",
    "    print(\"same ids\")\n",
    "else:\n",
    "    print (\"different ids\")\n",
    "\n",
    "if ( a is not b ):\n",
    "    print (\" different identity\")\n",
    "else:\n",
    "    print (\"same identities \")\n"
   ]
  },
  {
   "cell_type": "code",
   "execution_count": 23,
   "id": "36f34a62",
   "metadata": {},
   "outputs": [],
   "source": [
    "set1 = {2, 4, 5, 6}\n",
    "set2 = {7, 8, 9, 10}\n",
    "set3 = {1, 2}\n"
   ]
  },
  {
   "cell_type": "code",
   "execution_count": 24,
   "id": "5a3a4577",
   "metadata": {},
   "outputs": [
    {
     "name": "stdout",
     "output_type": "stream",
     "text": [
      "set1 and set2 are disjoint? True\n",
      "set1 and set3 are disjoint? False\n"
     ]
    }
   ],
   "source": [
    "print(\"set1 and set2 are disjoint?\",set1.isdisjoint(set2))\n",
    " \n",
    "print(\"set1 and set3 are disjoint?\",set1.isdisjoint(set3))\n"
   ]
  },
  {
   "cell_type": "code",
   "execution_count": 25,
   "id": "996a3f46",
   "metadata": {},
   "outputs": [
    {
     "name": "stdout",
     "output_type": "stream",
     "text": [
      "True\n"
     ]
    }
   ],
   "source": [
    "x = {\"a\", \"b\", \"c\"}\n",
    "y = {\"f\", \"e\", \"d\", \"c\", \"b\", \"a\"}\n",
    "\n",
    "z = x.issubset(y)\n",
    "\n",
    "print(z)\n"
   ]
  },
  {
   "cell_type": "code",
   "execution_count": 26,
   "id": "1197dc72",
   "metadata": {},
   "outputs": [
    {
     "name": "stdout",
     "output_type": "stream",
     "text": [
      "True\n"
     ]
    }
   ],
   "source": [
    "x = {\"f\", \"e\", \"d\", \"c\", \"b\", \"a\"}\n",
    "y = {\"a\", \"b\", \"c\"}\n",
    "\n",
    "z = x.issuperset(y)\n",
    "\n",
    "print(z)\n"
   ]
  },
  {
   "cell_type": "code",
   "execution_count": 2,
   "id": "e40a3112",
   "metadata": {},
   "outputs": [
    {
     "name": "stdout",
     "output_type": "stream",
     "text": [
      "holiday\n"
     ]
    }
   ],
   "source": [
    "day={\"mon\",\"tue\",\"wed\",\"thu\",\"fri\"}\n",
    "if \"sat\" in day:\n",
    "    print(\"working\")\n",
    "else:\n",
    "    print(\"holiday\")\n"
   ]
  },
  {
   "cell_type": "code",
   "execution_count": 1,
   "id": "664d6358",
   "metadata": {},
   "outputs": [
    {
     "ename": "IndentationError",
     "evalue": "expected an indented block (4259770923.py, line 2)",
     "output_type": "error",
     "traceback": [
      "\u001b[1;36m  Input \u001b[1;32mIn [1]\u001b[1;36m\u001b[0m\n\u001b[1;33m    \"\"\" information about function \"\"\"\u001b[0m\n\u001b[1;37m    ^\u001b[0m\n\u001b[1;31mIndentationError\u001b[0m\u001b[1;31m:\u001b[0m expected an indented block\n"
     ]
    }
   ],
   "source": [
    "def function_sum():\n",
    "\"\"\" information about function \"\"\"\n",
    "operaton/code\n",
    "return value\n",
    "function_sum()\n"
   ]
  },
  {
   "cell_type": "code",
   "execution_count": 29,
   "id": "3999d2fe",
   "metadata": {},
   "outputs": [
    {
     "ename": "IndentationError",
     "evalue": "expected an indented block (4259770923.py, line 2)",
     "output_type": "error",
     "traceback": [
      "\u001b[1;36m  Input \u001b[1;32mIn [29]\u001b[1;36m\u001b[0m\n\u001b[1;33m    \"\"\" information about function \"\"\"\u001b[0m\n\u001b[1;37m    ^\u001b[0m\n\u001b[1;31mIndentationError\u001b[0m\u001b[1;31m:\u001b[0m expected an indented block\n"
     ]
    }
   ],
   "source": [
    "def function_sum():\n",
    "\"\"\" information about function \"\"\"\n",
    "operaton/code\n",
    "return value\n",
    "function_sum()\n"
   ]
  },
  {
   "cell_type": "code",
   "execution_count": null,
   "id": "e9bd79f0",
   "metadata": {},
   "outputs": [],
   "source": [
    "#define function\n",
    "def sum():\n",
    "    a=int(input(\"enter number\"))\n",
    "    b=int(input(\"enter number\"))\n",
    "    c=a+b\n",
    "    print(c)\n",
    "    \n",
    "sum() #function call\n"
   ]
  },
  {
   "cell_type": "code",
   "execution_count": 28,
   "id": "a9e8f4ae",
   "metadata": {},
   "outputs": [
    {
     "ename": "TypeError",
     "evalue": "sum() takes at least 1 positional argument (0 given)",
     "output_type": "error",
     "traceback": [
      "\u001b[1;31m---------------------------------------------------------------------------\u001b[0m",
      "\u001b[1;31mTypeError\u001b[0m                                 Traceback (most recent call last)",
      "Input \u001b[1;32mIn [28]\u001b[0m, in \u001b[0;36m<cell line: 1>\u001b[1;34m()\u001b[0m\n\u001b[1;32m----> 1\u001b[0m \u001b[38;5;28;43msum\u001b[39;49m\u001b[43m(\u001b[49m\u001b[43m)\u001b[49m\n",
      "\u001b[1;31mTypeError\u001b[0m: sum() takes at least 1 positional argument (0 given)"
     ]
    }
   ],
   "source": [
    "sum()\n"
   ]
  },
  {
   "cell_type": "code",
   "execution_count": 3,
   "id": "50e066ae",
   "metadata": {},
   "outputs": [
    {
     "name": "stdout",
     "output_type": "stream",
     "text": [
      "2403\n",
      "0324\n",
      "27\n"
     ]
    }
   ],
   "source": [
    "def sum():\n",
    "    a=int(input(\"24\"))\n",
    "    b=int(input(\"03\"))\n",
    "    c=a+b\n",
    "    print(c)\n",
    "sum()"
   ]
  },
  {
   "cell_type": "code",
   "execution_count": 5,
   "id": "59c0c1fa",
   "metadata": {},
   "outputs": [
    {
     "name": "stdout",
     "output_type": "stream",
     "text": [
      "enter a number24\n",
      "enter a number03\n",
      "72\n"
     ]
    }
   ],
   "source": [
    "def mul():\n",
    "    A = int(input(\"enter a number\"))\n",
    "    B = int(input(\"enter a number\"))\n",
    "    C=A*B\n",
    "    print(C)\n",
    "\n",
    "mul()\n"
   ]
  },
  {
   "cell_type": "code",
   "execution_count": 6,
   "id": "577ffefa",
   "metadata": {},
   "outputs": [
    {
     "name": "stdout",
     "output_type": "stream",
     "text": [
      "enter a number24\n",
      "enter a number12\n",
      "0\n"
     ]
    }
   ],
   "source": [
    "def div():\n",
    "    A = int(input(\"enter a number\"))\n",
    "    B = int(input(\"enter a number\"))\n",
    "    C=A%B\n",
    "    print(C)\n",
    "\n",
    "div()"
   ]
  },
  {
   "cell_type": "code",
   "execution_count": 1,
   "id": "4a9099e2",
   "metadata": {},
   "outputs": [
    {
     "name": "stdout",
     "output_type": "stream",
     "text": [
      "enter the number24\n",
      "even number\n"
     ]
    }
   ],
   "source": [
    "def odd_even():\n",
    "    A=int(input(\"enter the number\"))\n",
    "    if A%2==0:\n",
    "        print(\"even number\")\n",
    "    else:\n",
    "        print(\"odd number\")\n",
    "        \n",
    "odd_even()"
   ]
  },
  {
   "cell_type": "code",
   "execution_count": 1,
   "id": "0f52393b",
   "metadata": {},
   "outputs": [
    {
     "name": "stdout",
     "output_type": "stream",
     "text": [
      "enter the radius of the circle: 24\n"
     ]
    },
    {
     "ename": "NameError",
     "evalue": "name 'R' is not defined",
     "output_type": "error",
     "traceback": [
      "\u001b[1;31m---------------------------------------------------------------------------\u001b[0m",
      "\u001b[1;31mNameError\u001b[0m                                 Traceback (most recent call last)",
      "Input \u001b[1;32mIn [1]\u001b[0m, in \u001b[0;36m<cell line: 2>\u001b[1;34m()\u001b[0m\n\u001b[0;32m      1\u001b[0m Area \u001b[38;5;241m=\u001b[39m \u001b[38;5;28mint\u001b[39m(\u001b[38;5;28minput\u001b[39m(\u001b[38;5;124m\"\u001b[39m\u001b[38;5;124menter the radius of the circle: \u001b[39m\u001b[38;5;124m\"\u001b[39m))  \n\u001b[1;32m----> 2\u001b[0m area_of_the_circle\u001b[38;5;241m=\u001b[39m\u001b[38;5;241m22\u001b[39m\u001b[38;5;241m%\u001b[39m\u001b[38;5;241m7\u001b[39m\u001b[38;5;241m*\u001b[39m\u001b[43mR\u001b[49m\u001b[38;5;241m*\u001b[39m\u001b[38;5;241m*\u001b[39m\u001b[38;5;241m2\u001b[39m  \n\u001b[0;32m      3\u001b[0m \u001b[38;5;28mprint\u001b[39m (\u001b[38;5;124m\"\u001b[39m\u001b[38;5;124mThe area of the given circle is: \u001b[39m\u001b[38;5;124m\"\u001b[39m, area_of_the_circle)\n",
      "\u001b[1;31mNameError\u001b[0m: name 'R' is not defined"
     ]
    }
   ],
   "source": [
    "Area = int(input(\"enter the radius of the circle: \"))  \n",
    "area_of_the_circle=22%7*R**2  \n",
    "print (\"The area of the given circle is: \", area_of_the_circle) "
   ]
  },
  {
   "cell_type": "code",
   "execution_count": 2,
   "id": "3c335ef7",
   "metadata": {},
   "outputs": [],
   "source": [
    "def add(n1,n2):\n",
    "    sum=n1+n2\n",
    "    print(sum)\n"
   ]
  },
  {
   "cell_type": "code",
   "execution_count": 3,
   "id": "fd8d85f1",
   "metadata": {},
   "outputs": [
    {
     "name": "stdout",
     "output_type": "stream",
     "text": [
      "30\n"
     ]
    }
   ],
   "source": [
    "add(10,20)\n"
   ]
  },
  {
   "cell_type": "code",
   "execution_count": 6,
   "id": "9186c274",
   "metadata": {},
   "outputs": [
    {
     "name": "stdout",
     "output_type": "stream",
     "text": [
      "879\n"
     ]
    }
   ],
   "source": [
    "add(90,789)\n"
   ]
  },
  {
   "cell_type": "code",
   "execution_count": 8,
   "id": "bdcfda8e",
   "metadata": {},
   "outputs": [
    {
     "name": "stdout",
     "output_type": "stream",
     "text": [
      "enter a number12\n",
      "enter a number24\n",
      "36\n"
     ]
    }
   ],
   "source": [
    "#addition\n",
    "def sum():\n",
    "    a=int(input(\"enter a number\"))\n",
    "    b=int(input(\"enter a number\"))\n",
    "    c=a+b\n",
    "    print(c)\n",
    "sum()"
   ]
  },
  {
   "cell_type": "code",
   "execution_count": 9,
   "id": "888be0e1",
   "metadata": {},
   "outputs": [
    {
     "name": "stdout",
     "output_type": "stream",
     "text": [
      "enter a number12\n",
      "enter a number12\n",
      "0\n"
     ]
    }
   ],
   "source": [
    "#subraction\n",
    "def sum():\n",
    "    a=int(input(\"enter a number\"))\n",
    "    b=int(input(\"enter a number\"))\n",
    "    c=a-b\n",
    "    print(c)\n",
    "sum()"
   ]
  },
  {
   "cell_type": "code",
   "execution_count": 10,
   "id": "7e066867",
   "metadata": {},
   "outputs": [
    {
     "name": "stdout",
     "output_type": "stream",
     "text": [
      "enter a number2\n",
      "enter a number4\n",
      "8\n"
     ]
    }
   ],
   "source": [
    "#multiplication\n",
    "def sum():\n",
    "    a=int(input(\"enter a number\"))\n",
    "    b=int(input(\"enter a number\"))\n",
    "    c=a*b\n",
    "    print(c)\n",
    "sum()"
   ]
  },
  {
   "cell_type": "code",
   "execution_count": 9,
   "id": "e158e289",
   "metadata": {},
   "outputs": [
    {
     "name": "stdout",
     "output_type": "stream",
     "text": [
      "enter a number12\n",
      "enter a number24\n",
      "0.5\n"
     ]
    }
   ],
   "source": [
    "#division\n",
    "def sum():\n",
    "    a=int(input(\"enter a number\"))\n",
    "    b=int(input(\"enter a number\"))\n",
    "    c=a/b\n",
    "    print(c)\n",
    "sum()"
   ]
  },
  {
   "cell_type": "code",
   "execution_count": 12,
   "id": "d4864f37",
   "metadata": {},
   "outputs": [],
   "source": [
    "def add(n1,n2):\n",
    "    sum=n1+n2\n",
    "    print(sum)"
   ]
  },
  {
   "cell_type": "code",
   "execution_count": 14,
   "id": "72a9b5f3",
   "metadata": {},
   "outputs": [
    {
     "name": "stdout",
     "output_type": "stream",
     "text": [
      "36\n"
     ]
    }
   ],
   "source": [
    "add(24,12)"
   ]
  },
  {
   "cell_type": "code",
   "execution_count": 17,
   "id": "b567340d",
   "metadata": {},
   "outputs": [],
   "source": [
    "def sub(n1,n2):\n",
    "    sum=n1-n2\n",
    "    print(sum)"
   ]
  },
  {
   "cell_type": "code",
   "execution_count": 18,
   "id": "840109af",
   "metadata": {},
   "outputs": [
    {
     "name": "stdout",
     "output_type": "stream",
     "text": [
      "12\n"
     ]
    }
   ],
   "source": [
    "sub(24,12)"
   ]
  },
  {
   "cell_type": "code",
   "execution_count": 19,
   "id": "cd6dff60",
   "metadata": {},
   "outputs": [],
   "source": [
    "def mul(n1,n2):\n",
    "    sum=n1*n2\n",
    "    print(sum)"
   ]
  },
  {
   "cell_type": "code",
   "execution_count": 21,
   "id": "a0897d69",
   "metadata": {},
   "outputs": [
    {
     "name": "stdout",
     "output_type": "stream",
     "text": [
      "24\n"
     ]
    }
   ],
   "source": [
    "mul(12,2)"
   ]
  },
  {
   "cell_type": "code",
   "execution_count": 22,
   "id": "9d7a96b6",
   "metadata": {},
   "outputs": [],
   "source": [
    "def div(n1,n2):\n",
    "    sum=n1*n2\n",
    "    print(sum)"
   ]
  },
  {
   "cell_type": "code",
   "execution_count": 23,
   "id": "75735a36",
   "metadata": {},
   "outputs": [
    {
     "name": "stdout",
     "output_type": "stream",
     "text": [
      "24\n"
     ]
    }
   ],
   "source": [
    "div(12,2)"
   ]
  },
  {
   "cell_type": "code",
   "execution_count": 24,
   "id": "e6a30eed",
   "metadata": {},
   "outputs": [
    {
     "name": "stdout",
     "output_type": "stream",
     "text": [
      "7\n",
      "30\n"
     ]
    }
   ],
   "source": [
    "def addition(a,b):#a,b parameters\n",
    "    c=a+b\n",
    "    print(c)\n",
    "    \n",
    "addition(3,4)#calling function with values called as arguments\n",
    "addition(10,20)\n"
   ]
  },
  {
   "cell_type": "code",
   "execution_count": 25,
   "id": "7608d10d",
   "metadata": {},
   "outputs": [
    {
     "name": "stdout",
     "output_type": "stream",
     "text": [
      "101\n"
     ]
    }
   ],
   "source": [
    "def add(p,q):\n",
    "    c=p+q\n",
    "    return c #return is used to store in another variable\n",
    "\n",
    "result=add(23,78)\n",
    "print(result)\n"
   ]
  },
  {
   "cell_type": "code",
   "execution_count": 27,
   "id": "66079a6f",
   "metadata": {},
   "outputs": [
    {
     "name": "stdout",
     "output_type": "stream",
     "text": [
      "101\n"
     ]
    }
   ],
   "source": [
    "def add(p,q):\n",
    "    return p+q\n",
    "\n",
    "result=add(23,78)\n",
    "print(result)\n"
   ]
  },
  {
   "cell_type": "code",
   "execution_count": 3,
   "id": "e81368f1",
   "metadata": {},
   "outputs": [],
   "source": [
    "def jones_mp_func():\n",
    "    print(\"jones mp\")"
   ]
  },
  {
   "cell_type": "code",
   "execution_count": 4,
   "id": "fd87f1de",
   "metadata": {},
   "outputs": [
    {
     "name": "stdout",
     "output_type": "stream",
     "text": [
      "jones mp\n"
     ]
    }
   ],
   "source": [
    "jones_mp_func()"
   ]
  },
  {
   "cell_type": "code",
   "execution_count": 5,
   "id": "16b428b6",
   "metadata": {},
   "outputs": [
    {
     "name": "stdout",
     "output_type": "stream",
     "text": [
      "hello jones\n"
     ]
    }
   ],
   "source": [
    "def display(name):\n",
    "    print(\"hello\",name)\n",
    "    \n",
    "display (\"jones\")\n",
    "    "
   ]
  },
  {
   "cell_type": "code",
   "execution_count": 6,
   "id": "6d7bf78b",
   "metadata": {},
   "outputs": [
    {
     "name": "stdout",
     "output_type": "stream",
     "text": [
      "enter your namejones\n",
      "hello jones\n"
     ]
    }
   ],
   "source": [
    "display(input(\"enter your name\"))\n"
   ]
  },
  {
   "cell_type": "code",
   "execution_count": 7,
   "id": "8c352a5f",
   "metadata": {},
   "outputs": [
    {
     "name": "stdout",
     "output_type": "stream",
     "text": [
      "enter namejones\n",
      "hello jones\n"
     ]
    }
   ],
   "source": [
    "n=input(\"enter name\")\n",
    "display(n)\n"
   ]
  },
  {
   "cell_type": "code",
   "execution_count": 12,
   "id": "41b173be",
   "metadata": {},
   "outputs": [
    {
     "name": "stdout",
     "output_type": "stream",
     "text": [
      "enter the choice12\n",
      "enter the choice\n"
     ]
    }
   ],
   "source": [
    "def add(a,b):\n",
    "    return a+b\n",
    "def sub(a,b):\n",
    "    return a-b\n",
    "def mul (a,b):\n",
    "    return a/b\n",
    "\n",
    "final= int(input(\"enter the choice\"))\n",
    "\n",
    "if final==1:\n",
    "    result=add(6,6)\n",
    "    print(result)\n",
    "elif final==2:\n",
    "    result=sub(6,6)\n",
    "    print(result)\n",
    "elif final==3:\n",
    "    result=mul(6,6)\n",
    "    print(result)\n",
    "elif final==4:\n",
    "    result=div(6,6)\n",
    "    print(result)\n",
    "else:\n",
    "    print (\"enter the choice\")\n"
   ]
  },
  {
   "cell_type": "code",
   "execution_count": 13,
   "id": "942b5ca2",
   "metadata": {},
   "outputs": [
    {
     "name": "stdout",
     "output_type": "stream",
     "text": [
      "enter number12\n",
      "enter number12\n",
      "enter choice 1. Add 2. Sub 3.mul 4. div1\n",
      "result = 24\n"
     ]
    }
   ],
   "source": [
    "def user_in():\n",
    "    a=int(input(\"enter number\"))\n",
    "    b=int(input(\"enter number\"))\n",
    "    ch=int(input(\"enter choice 1. Add 2. Sub 3.mul 4. div\"))\n",
    "    return a,b,ch\n",
    "\n",
    "def add(x,y):\n",
    "    return x+y\n",
    "\n",
    "def sub(x,y):\n",
    "    return x-y\n",
    "\n",
    "def mul(x,y):\n",
    "    return x*y\n",
    "\n",
    "def div(x,y):\n",
    "    return x/y\n",
    "\n",
    "p,q,choice=user_in()\n",
    "\n",
    "if choice==1:\n",
    "    result=add(p,q)\n",
    "elif choice==2:\n",
    "    result=sub(p,q)\n",
    "elif choice==3:\n",
    "    result=p*q\n",
    "elif choice==4:\n",
    "    result=p/q\n",
    "else:\n",
    "    print(\"correct choice 1-4 \")\n",
    "    \n",
    "print(\"result =\",result)\n"
   ]
  },
  {
   "cell_type": "code",
   "execution_count": 14,
   "id": "1de8f33f",
   "metadata": {},
   "outputs": [],
   "source": [
    "#Create a function called generate_trip_instructions() that defines one parameter called location.\n",
    "\n",
    "#generate_trip_instructions()Looks like you are planning a trip to visit <location>\n",
    "#Where <location> will represent the location parameter.\n",
    " #generate_trip_instructions() should also let our users know they can reach their location using public transit.\n",
    "\n",
    "#Let’s have generate_trip_instructions()also print out the following on a new line:\n",
    "\n",
    "#You can use the public subway system to get to <location>\n",
    "#Where <location> will represent the location parameter.\n",
    "#Let’s have generate_trip_instructions()also print out the following on a new line:You can use the public subway system to get to <location>\n",
    "#Where <location> will represent the location parameter.\n",
    "\n",
    "#call the function and input the argument \"Central Park\", a backyard wonder in the heart of New York City.\n",
    "#Change the argument to \"Grand Central Station\" and call the function again.\n",
    "\n",
    "#What changed in the output?\n"
   ]
  },
  {
   "cell_type": "code",
   "execution_count": 15,
   "id": "50cd6734",
   "metadata": {},
   "outputs": [],
   "source": [
    "def user_in():\n",
    "    a=int(input(\"Banglore\"))\n",
    "    ch=int(input(\"enter choice 1. train 2. bus\"))\n",
    "    return a,b,"
   ]
  },
  {
   "cell_type": "code",
   "execution_count": 17,
   "id": "de3eac42",
   "metadata": {},
   "outputs": [
    {
     "name": "stdout",
     "output_type": "stream",
     "text": [
      "simple interest: 5000.0\n",
      "simple interest: 4200.0\n",
      "simple interest: 3750.0\n"
     ]
    }
   ],
   "source": [
    "#types of arguments\n",
    "\n",
    "def simple_interest(p,n,r=7.5):\n",
    "    si=p*n*r/100\n",
    "    print(\"simple interest:\",si)\n",
    "    \n",
    "\n",
    "simple_interest(10000,5,10)#positional argument\n",
    "\n",
    "simple_interest(n=3,p=20000,r=7)#keyword argument\n",
    "\n",
    "simple_interest(10000,5)#default argument"
   ]
  },
  {
   "cell_type": "code",
   "execution_count": 20,
   "id": "c033c36d",
   "metadata": {},
   "outputs": [
    {
     "name": "stdout",
     "output_type": "stream",
     "text": [
      "area of the triangle= 150.0\n",
      "area of the triangle= 100.0\n"
     ]
    }
   ],
   "source": [
    "def areatriangle(l1=4,l2=8):\n",
    "    area=1/2*l1*l2\n",
    "    print(\"area of the triangle=\",area)\n",
    "    \n",
    "areatriangle(l1=15,l2=20)\n",
    "areatriangle(25)"
   ]
  },
  {
   "cell_type": "code",
   "execution_count": 1,
   "id": "f0d6c18d",
   "metadata": {},
   "outputs": [
    {
     "name": "stdout",
     "output_type": "stream",
     "text": [
      "2\n",
      "4\n",
      "54\n",
      "6\n",
      "8\n"
     ]
    }
   ],
   "source": [
    "def display_list(l):\n",
    "    for i in l:\n",
    "        if i%2==0:\n",
    "            print(i)\n",
    "            \n",
    "            \n",
    "display_list([1,2,3,4,54,6,7,8,9])\n"
   ]
  },
  {
   "cell_type": "code",
   "execution_count": 2,
   "id": "c395dfa1",
   "metadata": {},
   "outputs": [
    {
     "name": "stdout",
     "output_type": "stream",
     "text": [
      "length of list 6\n",
      "[10, 20, 30, 40, 50, 60, 56]\n",
      "[56, 60, 50, 40, 30, 20, 10]\n"
     ]
    }
   ],
   "source": [
    "def list_fun(l):\n",
    "    print(\"length of list\",len(l))\n",
    "    l.append(56)\n",
    "    print(l)\n",
    "    print(l[::-1])\n",
    "    \n",
    "list1=[10,20,30,40,50,60]   \n",
    "list_fun(list1)\n"
   ]
  },
  {
   "cell_type": "code",
   "execution_count": 3,
   "id": "47eae8a8",
   "metadata": {},
   "outputs": [
    {
     "name": "stdout",
     "output_type": "stream",
     "text": [
      "[12000.0, 18000.0, 54000.0, 30000.0]\n"
     ]
    }
   ],
   "source": [
    "def bonus_sal(salary):\n",
    "    bonus=[]\n",
    "    for i in salary:\n",
    "        bonus.append(i+i*0.2)\n",
    "    return bonus\n",
    "bonus=bonus_sal([10000,15000,45000,25000])\n",
    "print(bonus)\n"
   ]
  },
  {
   "cell_type": "code",
   "execution_count": 10,
   "id": "f568b190",
   "metadata": {},
   "outputs": [
    {
     "name": "stdout",
     "output_type": "stream",
     "text": [
      "length of your string is  24\n",
      "HELLO MY NAME IS ANTHONY\n",
      "Hello my name is anthony\n",
      "['hello', 'my', 'name', 'is', 'anthony']\n",
      "<class 'str'>\n",
      "hello my nnme is nnthony\n",
      "9\n",
      "h\n",
      "e\n",
      "l\n",
      "l\n",
      "o\n",
      " \n",
      "m\n",
      "y\n",
      " \n",
      "n\n",
      "a\n",
      "m\n",
      "e\n",
      " \n",
      "i\n",
      "s\n",
      " \n",
      "a\n",
      "n\n",
      "t\n",
      "h\n",
      "o\n",
      "n\n",
      "y\n"
     ]
    }
   ],
   "source": [
    "def str_opr(s):\n",
    "    print(\"length of your string is \",len(s))\n",
    "    print(s.upper())\n",
    "    print(s.capitalize())\n",
    "    print(s.split(\" \"))\n",
    "    print(type(s))\n",
    "    print(s.replace(\"a\",\"n\"))\n",
    "    print(s.find(\"n\"))\n",
    "    \n",
    "    \n",
    "    \n",
    "    for i in s:\n",
    "        print(i)\n",
    "    \n",
    "str_opr(\"hello my name is anthony\")\n"
   ]
  },
  {
   "cell_type": "code",
   "execution_count": 5,
   "id": "afcd4a25",
   "metadata": {},
   "outputs": [
    {
     "name": "stdout",
     "output_type": "stream",
     "text": [
      "shutting aborted\n"
     ]
    }
   ],
   "source": [
    "def shut_down(dat):\n",
    "    \n",
    "    if dat== \"yes\":\n",
    "        print(\"Shutting down\")\n",
    "    elif dat==\"no\":\n",
    "        print(\"shutting aborted\")\n",
    "    else:\n",
    "        print(\"Sorry\")\n",
    "\n",
    "shut_down(\"no\")\n"
   ]
  },
  {
   "cell_type": "code",
   "execution_count": 4,
   "id": "b4fee866",
   "metadata": {},
   "outputs": [
    {
     "ename": "SyntaxError",
     "evalue": "invalid syntax (4196280631.py, line 4)",
     "output_type": "error",
     "traceback": [
      "\u001b[1;36m  Input \u001b[1;32mIn [4]\u001b[1;36m\u001b[0m\n\u001b[1;33m    def estimated_time_rounded(estimated time):\u001b[0m\n\u001b[1;37m                                         ^\u001b[0m\n\u001b[1;31mSyntaxError\u001b[0m\u001b[1;31m:\u001b[0m invalid syntax\n"
     ]
    }
   ],
   "source": [
    "def trip_planner_welcome(name):\n",
    "    print(\"welcome to tripplanner v1.0\", name)\n",
    "    \n",
    "def estimated_time_rounded(estimated time):\n",
    "    rounded_time = round (estimated time)\n",
    "    return rounded_time\n",
    "\n",
    "\n",
    "\n"
   ]
  },
  {
   "cell_type": "code",
   "execution_count": 7,
   "id": "1fe2fb2c",
   "metadata": {},
   "outputs": [
    {
     "ename": "IndentationError",
     "evalue": "expected an indented block (2761870117.py, line 8)",
     "output_type": "error",
     "traceback": [
      "\u001b[1;36m  Input \u001b[1;32mIn [7]\u001b[1;36m\u001b[0m\n\u001b[1;33m    \u001b[0m\n\u001b[1;37m    ^\u001b[0m\n\u001b[1;31mIndentationError\u001b[0m\u001b[1;31m:\u001b[0m expected an indented block\n"
     ]
    }
   ],
   "source": [
    "def taxi_fare():\n",
    "    print(\"enter the destination\", name)\n",
    "    print(\"how much kms\", name)\n",
    "    price=[1000]\n",
    "    i=0\n",
    "    \n",
    "    while i< len(price):\n",
    "        "
   ]
  },
  {
   "cell_type": "code",
   "execution_count": 8,
   "id": "c97a4df6",
   "metadata": {},
   "outputs": [
    {
     "name": "stdout",
     "output_type": "stream",
     "text": [
      "enter name:jones\n",
      "enter orgin:tamilnadu\n",
      "enter destination:goa\n",
      "enter time:8\n"
     ]
    },
    {
     "ename": "NameError",
     "evalue": "name 'trip_welcome' is not defined",
     "output_type": "error",
     "traceback": [
      "\u001b[1;31m---------------------------------------------------------------------------\u001b[0m",
      "\u001b[1;31mNameError\u001b[0m                                 Traceback (most recent call last)",
      "Input \u001b[1;32mIn [8]\u001b[0m, in \u001b[0;36m<cell line: 6>\u001b[1;34m()\u001b[0m\n\u001b[0;32m      3\u001b[0m destination1\u001b[38;5;241m=\u001b[39m\u001b[38;5;28minput\u001b[39m(\u001b[38;5;124m\"\u001b[39m\u001b[38;5;124menter destination:\u001b[39m\u001b[38;5;124m\"\u001b[39m)\n\u001b[0;32m      4\u001b[0m estimated_time\u001b[38;5;241m=\u001b[39m \u001b[38;5;28mint\u001b[39m(\u001b[38;5;28minput\u001b[39m(\u001b[38;5;124m\"\u001b[39m\u001b[38;5;124menter time:\u001b[39m\u001b[38;5;124m\"\u001b[39m))\n\u001b[1;32m----> 6\u001b[0m \u001b[43mtrip_welcome\u001b[49m(name)\n\u001b[0;32m      7\u001b[0m destination(orgin,destination1,estimated_time)\n",
      "\u001b[1;31mNameError\u001b[0m: name 'trip_welcome' is not defined"
     ]
    }
   ],
   "source": [
    "name = input (\"enter name:\")\n",
    "orgin= input (\"enter orgin:\")\n",
    "destination1=input(\"enter destination:\")\n",
    "estimated_time= int(input(\"enter time:\"))\n",
    "\n",
    "trip_welcome(name)\n",
    "destination(orgin,destination1,estimated_time)"
   ]
  },
  {
   "cell_type": "code",
   "execution_count": 9,
   "id": "f38f1d6e",
   "metadata": {},
   "outputs": [
    {
     "data": {
      "text/plain": [
       "False"
      ]
     },
     "execution_count": 9,
     "metadata": {},
     "output_type": "execute_result"
    }
   ],
   "source": [
    "def cube(number):\n",
    "     return number*number*number\n",
    "def by_three(number):\n",
    "    if number %3 ==0:\n",
    "        return cube(number)\n",
    "    else:\n",
    "        return False\n",
    "\n",
    "by_three(8)\n"
   ]
  },
  {
   "cell_type": "code",
   "execution_count": 10,
   "id": "467d9ce0",
   "metadata": {},
   "outputs": [
    {
     "name": "stdout",
     "output_type": "stream",
     "text": [
      "enter namejones\n",
      "Welcome to tripplanner v1.0  jones\n",
      "enter your origintamilnady\n",
      "enter your destinationgoa\n",
      "enter estimated time14.7\n",
      "Your trip starts off in  tamilnady\n",
      "you are travelling to  goa\n",
      "You will be travelling by  car\n",
      "It will take approximately 15 hours\n"
     ]
    }
   ],
   "source": [
    "def trip_planner_welcome(name):\n",
    "    print(\"Welcome to tripplanner v1.0 \",name)\n",
    "    \n",
    "    \n",
    "def destination_setup(origin,destination,estimated_time,mode_of_transport=\"car\"):\n",
    "    print(\"Your trip starts off in \",origin)\n",
    "    print(\"you are travelling to \",destination)\n",
    "    print(\"You will be travelling by \", mode_of_transport)\n",
    "    print(\"It will take approximately \"+str(estimated_time_rounded(estimated_time))+\" hours\")\n",
    "    \n",
    "def estimated_time_rounded(estimated_time):\n",
    "    rounded_time = round(estimated_time)\n",
    "    return rounded_time\n",
    "\n",
    "\n",
    "name=input(\"enter name\")\n",
    "trip_planner_welcome(name)\n",
    "destination_setup(input(\"enter your origin\"),input(\"enter your destination\"),float(input(\"enter estimated time\")))\n"
   ]
  },
  {
   "cell_type": "code",
   "execution_count": 11,
   "id": "fc89ae88",
   "metadata": {},
   "outputs": [
    {
     "name": "stdout",
     "output_type": "stream",
     "text": [
      "enter sourcegoa\n",
      "enter destinationtamilnadu\n",
      "kms to travel1100\n",
      "your bill for travelling from  goa to  tamilnadu is 13200\n",
      "discounted bill is  11880.0\n"
     ]
    }
   ],
   "source": [
    "def taxi_fare(source, destination,kms):#function definition\n",
    "    fare = kms * 12\n",
    "    print(\"your bill for travelling from \" ,source ,\"to \", destination ,\"is\" , fare)\n",
    "    return fare\n",
    "\n",
    "mybill = taxi_fare(input(\"enter source\"),input(\"enter destination\"),int(input(\"kms to travel\"))) #function call\n",
    "\n",
    "\n",
    "if mybill > 1000:#discount condition\n",
    "    discountedbill = mybill - (mybill * 10/100)\n",
    "    print(\"discounted bill is \",discountedbill)\n",
    "else:\n",
    "    print(\"no discount for nearby journeys\")\n"
   ]
  },
  {
   "cell_type": "code",
   "execution_count": 1,
   "id": "a56916cf",
   "metadata": {},
   "outputs": [],
   "source": [
    "def Add(a,b):\n",
    "    C=a+b\n",
    "    return C\n",
    "def Mul(a,b):\n",
    "    D=a*b\n",
    "    return D\n"
   ]
  },
  {
   "cell_type": "code",
   "execution_count": 3,
   "id": "248e358a",
   "metadata": {
    "scrolled": true
   },
   "outputs": [
    {
     "ename": "ModuleNotFoundError",
     "evalue": "No module named 'Cal'",
     "output_type": "error",
     "traceback": [
      "\u001b[1;31m---------------------------------------------------------------------------\u001b[0m",
      "\u001b[1;31mModuleNotFoundError\u001b[0m                       Traceback (most recent call last)",
      "Input \u001b[1;32mIn [3]\u001b[0m, in \u001b[0;36m<cell line: 1>\u001b[1;34m()\u001b[0m\n\u001b[1;32m----> 1\u001b[0m \u001b[38;5;28;01mimport\u001b[39;00m \u001b[38;5;21;01mCal\u001b[39;00m\n\u001b[0;32m      2\u001b[0m d\u001b[38;5;241m=\u001b[39mcal\u001b[38;5;241m.\u001b[39mAdd(\u001b[38;5;241m10\u001b[39m,\u001b[38;5;241m2\u001b[39m)\n\u001b[0;32m      3\u001b[0m m\u001b[38;5;241m=\u001b[39mcal\u001b[38;5;241m.\u001b[39mMul(\u001b[38;5;241m2\u001b[39m,\u001b[38;5;241m4\u001b[39m)\n",
      "\u001b[1;31mModuleNotFoundError\u001b[0m: No module named 'Cal'"
     ]
    }
   ],
   "source": [
    "import Cal\n",
    "d=cal.Add(10,2)\n",
    "m=cal.Mul(2,4)\n",
    "\n",
    "print(d)\n",
    "print(m)\n"
   ]
  },
  {
   "cell_type": "code",
   "execution_count": 4,
   "id": "d61b2b8a",
   "metadata": {},
   "outputs": [
    {
     "name": "stdout",
     "output_type": "stream",
     "text": [
      "120\n"
     ]
    }
   ],
   "source": [
    "import factorial\n",
    "f= factorial.fact(5)\n",
    "print(f)\n"
   ]
  },
  {
   "cell_type": "code",
   "execution_count": 8,
   "id": "9f1bd0ec",
   "metadata": {},
   "outputs": [
    {
     "ename": "AttributeError",
     "evalue": "module 'add' has no attribute 'sum'",
     "output_type": "error",
     "traceback": [
      "\u001b[1;31m---------------------------------------------------------------------------\u001b[0m",
      "\u001b[1;31mAttributeError\u001b[0m                            Traceback (most recent call last)",
      "Input \u001b[1;32mIn [8]\u001b[0m, in \u001b[0;36m<cell line: 2>\u001b[1;34m()\u001b[0m\n\u001b[0;32m      1\u001b[0m \u001b[38;5;28;01mimport\u001b[39;00m \u001b[38;5;21;01madd\u001b[39;00m\n\u001b[1;32m----> 2\u001b[0m a\u001b[38;5;241m=\u001b[39m \u001b[43madd\u001b[49m\u001b[38;5;241;43m.\u001b[39;49m\u001b[43m \u001b[49m\u001b[38;5;28;43msum\u001b[39;49m(\u001b[38;5;241m10\u001b[39m,\u001b[38;5;241m10\u001b[39m)\n\u001b[0;32m      3\u001b[0m \u001b[38;5;28mprint\u001b[39m (a)\n",
      "\u001b[1;31mAttributeError\u001b[0m: module 'add' has no attribute 'sum'"
     ]
    }
   ],
   "source": [
    "import add\n",
    "a= add. sum(10,10)\n",
    "print (a)"
   ]
  },
  {
   "cell_type": "code",
   "execution_count": 1,
   "id": "03b8ac82",
   "metadata": {},
   "outputs": [
    {
     "name": "stdout",
     "output_type": "stream",
     "text": [
      "10.0\n"
     ]
    }
   ],
   "source": [
    "import simple\n",
    "si= simple.Sim(10,10,10)\n",
    "print(si)"
   ]
  },
  {
   "cell_type": "code",
   "execution_count": 4,
   "id": "b397df02",
   "metadata": {},
   "outputs": [
    {
     "name": "stdout",
     "output_type": "stream",
     "text": [
      "\n"
     ]
    }
   ],
   "source": [
    "with open(\"festival.txt\") as fp:\n",
    "    content=fp.read()\n",
    "    print(content)\n"
   ]
  },
  {
   "cell_type": "code",
   "execution_count": 1,
   "id": "91ee3f01",
   "metadata": {},
   "outputs": [
    {
     "name": "stdout",
     "output_type": "stream",
     "text": [
      "India is a big land of culture, we are united as indians.\n",
      "\n",
      "we celerate christmas.\n",
      "\n",
      "we celebrate easter.\n",
      "\n",
      "we celebrate new year.\n",
      "\n",
      "we celebrate ramzan.\n",
      "\n"
     ]
    }
   ],
   "source": [
    "#to read data line by line\n",
    "with open('festival.txt') as f2:\n",
    "    first=f2.readline()\n",
    "    print(first)\n",
    "    sec=f2.readline()\n",
    "    print(sec)\n",
    "    third=f2.readline()\n",
    "    print(third)\n",
    "    fourth=f2.readline()\n",
    "    print(fourth)\n",
    "    five=f2.readline()\n",
    "    print(five)\n"
   ]
  },
  {
   "cell_type": "code",
   "execution_count": 2,
   "id": "91e78327",
   "metadata": {},
   "outputs": [
    {
     "name": "stdout",
     "output_type": "stream",
     "text": [
      "['India is a big land of culture, we are united as indians.\\n', 'we celerate christmas.\\n', 'we celebrate easter.\\n', 'we celebrate new year.\\n', 'we celebrate ramzan.\\n', 'we celebrate diwali.']\n"
     ]
    }
   ],
   "source": [
    "with open(\"festival.txt\") as f:\n",
    "    lines=f.readlines()\n",
    "    print(lines)\n"
   ]
  },
  {
   "cell_type": "code",
   "execution_count": 5,
   "id": "19d55ff1",
   "metadata": {},
   "outputs": [
    {
     "name": "stdout",
     "output_type": "stream",
     "text": [
      "['India is a big land of culture, we are united as indians.\\n', 'we celerate christmas.\\n', 'we celebrate easter.\\n', 'we celebrate new year.\\n', 'we celebrate ramzan.\\n', 'we celebrate diwali.']\n"
     ]
    }
   ],
   "source": [
    "with open(\"festival.txt\") as f:\n",
    "    count=f.readlines()\n",
    "    print (count)"
   ]
  },
  {
   "cell_type": "code",
   "execution_count": 6,
   "id": "8bab97b8",
   "metadata": {},
   "outputs": [
    {
     "name": "stdout",
     "output_type": "stream",
     "text": [
      "['India is a big land of culture, we are united as indians.\\n', 'we celerate christmas.\\n', 'we celebrate easter.\\n', 'we celebrate new year.\\n', 'we celebrate ramzan.\\n', 'we celebrate diwali.']\n"
     ]
    }
   ],
   "source": [
    "with open(\"festival.txt\") as f:\n",
    "    type=f.readlines()\n",
    "    print (type)"
   ]
  },
  {
   "cell_type": "code",
   "execution_count": 1,
   "id": "d6157fbe",
   "metadata": {},
   "outputs": [
    {
     "name": "stdout",
     "output_type": "stream",
     "text": [
      "['India is a big land of culture, we are united as indians.\\n', 'we celerate christmas.\\n', 'we celebrate easter.\\n', 'we celebrate new year.\\n', 'we celebrate ramzan.\\n', 'we celebrate diwali.']\n"
     ]
    }
   ],
   "source": [
    "with open(\"festival.txt\") as f:\n",
    "    type=f.readlines()\n",
    "    print (type)"
   ]
  },
  {
   "cell_type": "code",
   "execution_count": 1,
   "id": "e0ed915f",
   "metadata": {},
   "outputs": [],
   "source": [
    "with open(\"festival.txt\",\"w\") as wr:#over writes file contents\n",
    "    wr.write(\"im overwriting a word......Google\")"
   ]
  },
  {
   "cell_type": "markdown",
   "id": "7c645076",
   "metadata": {},
   "source": [
    "# CLASS\n"
   ]
  },
  {
   "cell_type": "code",
   "execution_count": 1,
   "id": "14f856da",
   "metadata": {},
   "outputs": [
    {
     "ename": "NameError",
     "evalue": "name 'variables' is not defined",
     "output_type": "error",
     "traceback": [
      "\u001b[1;31m---------------------------------------------------------------------------\u001b[0m",
      "\u001b[1;31mNameError\u001b[0m                                 Traceback (most recent call last)",
      "Input \u001b[1;32mIn [1]\u001b[0m, in \u001b[0;36m<cell line: 2>\u001b[1;34m()\u001b[0m\n\u001b[0;32m      1\u001b[0m \u001b[38;5;66;03m# creation of class\u001b[39;00m\n\u001b[1;32m----> 2\u001b[0m \u001b[38;5;28;01mclass\u001b[39;00m \u001b[38;5;21;01mClassname\u001b[39;00m:\n\u001b[0;32m      3\u001b[0m     variables\n\u001b[0;32m      4\u001b[0m     \u001b[38;5;28;01mdef\u001b[39;00m \u001b[38;5;21mfunctions\u001b[39m():\n",
      "Input \u001b[1;32mIn [1]\u001b[0m, in \u001b[0;36mClassname\u001b[1;34m()\u001b[0m\n\u001b[0;32m      2\u001b[0m \u001b[38;5;28;01mclass\u001b[39;00m \u001b[38;5;21;01mClassname\u001b[39;00m:\n\u001b[1;32m----> 3\u001b[0m     \u001b[43mvariables\u001b[49m\n\u001b[0;32m      4\u001b[0m     \u001b[38;5;28;01mdef\u001b[39;00m \u001b[38;5;21mfunctions\u001b[39m():\n\u001b[0;32m      5\u001b[0m         body\n",
      "\u001b[1;31mNameError\u001b[0m: name 'variables' is not defined"
     ]
    }
   ],
   "source": [
    "# creation of class\n",
    "class Classname:\n",
    "    variables\n",
    "    def functions():\n",
    "        body\n",
    "        \n",
    "#creation of object\n",
    "obejctname = Classname()\n",
    "\n",
    "#access\n",
    "objectname.variable\n",
    "objectname.function\n"
   ]
  },
  {
   "cell_type": "code",
   "execution_count": 2,
   "id": "80cf4dd6",
   "metadata": {},
   "outputs": [],
   "source": [
    "class Student:\n",
    "    name=\"Ajay\"\n",
    "    roll_no=22\n"
   ]
  },
  {
   "cell_type": "code",
   "execution_count": 3,
   "id": "74aab049",
   "metadata": {},
   "outputs": [
    {
     "name": "stdout",
     "output_type": "stream",
     "text": [
      "Ajay\n",
      "22\n"
     ]
    }
   ],
   "source": [
    "student1 = Student()#object1\n",
    "#objectname.variable\n",
    "print(student1.name)\n",
    "print(student1.roll_no)\n"
   ]
  },
  {
   "cell_type": "code",
   "execution_count": 4,
   "id": "37189191",
   "metadata": {},
   "outputs": [
    {
     "name": "stdout",
     "output_type": "stream",
     "text": [
      "Deesha 32\n"
     ]
    }
   ],
   "source": [
    "student2=Student()#object2\n",
    "#objectname.varaiable=newvalue\n",
    "student2.name=\"Deesha\"\n",
    "student2.roll_no=32\n",
    "\n",
    "print(student2.name,student2.roll_no)\n"
   ]
  },
  {
   "cell_type": "code",
   "execution_count": 5,
   "id": "ec82a958",
   "metadata": {},
   "outputs": [
    {
     "name": "stdout",
     "output_type": "stream",
     "text": [
      "2\n"
     ]
    }
   ],
   "source": [
    "class Shape:\n",
    "    sides=2\n",
    "    def display(self):\n",
    "        print(self.sides)\n",
    "        \n",
    "line = Shape()\n",
    "line.display()\n"
   ]
  },
  {
   "cell_type": "code",
   "execution_count": 6,
   "id": "56604adb",
   "metadata": {},
   "outputs": [
    {
     "name": "stdout",
     "output_type": "stream",
     "text": [
      "3\n"
     ]
    }
   ],
   "source": [
    "triangle=Shape()\n",
    "triangle.sides=3\n",
    "triangle.display()\n"
   ]
  },
  {
   "cell_type": "code",
   "execution_count": 7,
   "id": "03150163",
   "metadata": {},
   "outputs": [
    {
     "name": "stdout",
     "output_type": "stream",
     "text": [
      "4\n"
     ]
    }
   ],
   "source": [
    "rectangle=Shape()\n",
    "rectangle.sides=4\n",
    "rectangle.display()"
   ]
  },
  {
   "cell_type": "code",
   "execution_count": 8,
   "id": "6e891610",
   "metadata": {},
   "outputs": [
    {
     "name": "stdout",
     "output_type": "stream",
     "text": [
      "age is 35\n",
      "age2 is 40\n",
      "age is 35\n",
      "age2 is 40\n"
     ]
    }
   ],
   "source": [
    "class Sample:\n",
    "    age=35 #global\n",
    "    def show(self):\n",
    "        age2=40 #local\n",
    "        print(\"age is\", self.age)\n",
    "        print(\"age2 is\" , age2)\n",
    "        \n",
    "s=Sample()\n",
    "s.show()\n",
    "s2=Sample()\n",
    "s2.age=45\n",
    "s2.age2=50 #no change\n",
    "s.show()\n"
   ]
  },
  {
   "cell_type": "code",
   "execution_count": 4,
   "id": "352a2dae",
   "metadata": {},
   "outputs": [],
   "source": [
    "class Employee:\n",
    "    empid=99\n",
    "    name=\"raj\"\n",
    "    salary= 90000\n",
    "    designation=\"operation manger\"\n",
    "    def show (self):\n",
    "        print(\"name\", self.name)\n",
    "        print(\"salary\", self.salary)\n",
    "        print(\"designation\", self.designation)\n",
    "        s= Employee()\n",
    "        s.show"
   ]
  },
  {
   "cell_type": "markdown",
   "id": "84618665",
   "metadata": {},
   "source": [
    "# CONSTRUCTOR"
   ]
  },
  {
   "cell_type": "code",
   "execution_count": null,
   "id": "bcdd93ec",
   "metadata": {},
   "outputs": [],
   "source": [
    "special function with __init__(self):\n",
    "dunder method/function\n",
    "init: initialization\n",
    "initialize variables when objects are created\n",
    "it is implicitly called\n"
   ]
  },
  {
   "cell_type": "code",
   "execution_count": 1,
   "id": "295e7658",
   "metadata": {},
   "outputs": [
    {
     "name": "stdout",
     "output_type": "stream",
     "text": [
      "hi i am constructor\n",
      "i am from display function\n"
     ]
    }
   ],
   "source": [
    "class Sample:\n",
    "    def __init__(self):\n",
    "        print(\"hi i am constructor\")\n",
    "    def display(self):\n",
    "        print(\"i am from display function\")\n",
    "        \n",
    "        \n",
    "s=Sample()\n",
    "s.display()\n"
   ]
  },
  {
   "cell_type": "code",
   "execution_count": 3,
   "id": "494e4e1d",
   "metadata": {},
   "outputs": [
    {
     "name": "stdout",
     "output_type": "stream",
     "text": [
      "hi i am jones from Della Infotech\n",
      "i live and work in trichy\n"
     ]
    }
   ],
   "source": [
    "class Sample:\n",
    "    def __init__(self):\n",
    "        print(\"hi i am jones from Della Infotech\")\n",
    "    def display(self):\n",
    "        print(\"i live and work in trichy\")\n",
    "        \n",
    "        \n",
    "s=Sample()\n",
    "s.display()"
   ]
  },
  {
   "cell_type": "code",
   "execution_count": 4,
   "id": "9a675542",
   "metadata": {},
   "outputs": [
    {
     "name": "stdout",
     "output_type": "stream",
     "text": [
      "name: abc\n",
      "roll_no 23\n",
      "marks: 80\n",
      "name: amruta\n",
      "roll_no 25\n",
      "marks: 89\n"
     ]
    }
   ],
   "source": [
    "class Student:\n",
    "    def __init__(self,n,r,m):\n",
    "        self.name=n\n",
    "        self.roll_no=r\n",
    "        self.marks=m\n",
    "    def display(self):\n",
    "        print(\"name:\",self.name)\n",
    "        print(\"roll_no\",self.roll_no)\n",
    "        print(\"marks:\",self.marks)\n",
    "        \n",
    "s1=Student(\"abc\",23,80)\n",
    "s1.display()\n",
    "s2=Student(\"amruta\",25,89)\n",
    "s2.display()"
   ]
  },
  {
   "cell_type": "code",
   "execution_count": 10,
   "id": "a5c0f76c",
   "metadata": {},
   "outputs": [
    {
     "ename": "NameError",
     "evalue": "name 'math' is not defined",
     "output_type": "error",
     "traceback": [
      "\u001b[1;31m---------------------------------------------------------------------------\u001b[0m",
      "\u001b[1;31mNameError\u001b[0m                                 Traceback (most recent call last)",
      "Input \u001b[1;32mIn [10]\u001b[0m, in \u001b[0;36m<cell line: 8>\u001b[1;34m()\u001b[0m\n\u001b[0;32m      5\u001b[0m         \u001b[38;5;28;01mreturn\u001b[39;00m math\u001b[38;5;241m.\u001b[39mpi\u001b[38;5;241m*\u001b[39m(\u001b[38;5;28mself\u001b[39m\u001b[38;5;241m.\u001b[39mr\u001b[38;5;241m*\u001b[39m\u001b[38;5;241m*\u001b[39m\u001b[38;5;241m2\u001b[39m)\n\u001b[0;32m      7\u001b[0m s\u001b[38;5;241m=\u001b[39mCircle(\u001b[38;5;241m10\u001b[39m)\n\u001b[1;32m----> 8\u001b[0m \u001b[43ms\u001b[49m\u001b[38;5;241;43m.\u001b[39;49m\u001b[43mdisplay\u001b[49m\u001b[43m(\u001b[49m\u001b[43m)\u001b[49m\n",
      "Input \u001b[1;32mIn [10]\u001b[0m, in \u001b[0;36mCircle.display\u001b[1;34m(self)\u001b[0m\n\u001b[0;32m      4\u001b[0m \u001b[38;5;28;01mdef\u001b[39;00m \u001b[38;5;21mdisplay\u001b[39m(\u001b[38;5;28mself\u001b[39m):\n\u001b[1;32m----> 5\u001b[0m     \u001b[38;5;28;01mreturn\u001b[39;00m \u001b[43mmath\u001b[49m\u001b[38;5;241m.\u001b[39mpi\u001b[38;5;241m*\u001b[39m(\u001b[38;5;28mself\u001b[39m\u001b[38;5;241m.\u001b[39mr\u001b[38;5;241m*\u001b[39m\u001b[38;5;241m*\u001b[39m\u001b[38;5;241m2\u001b[39m)\n",
      "\u001b[1;31mNameError\u001b[0m: name 'math' is not defined"
     ]
    }
   ],
   "source": [
    "class Circle():\n",
    "    def __init__(self,r):\n",
    "        self.r=r\n",
    "    def display(self):\n",
    "        return math.pi*(self.r**2)\n",
    " \n",
    "s=Circle(10)\n",
    "s.display()"
   ]
  },
  {
   "cell_type": "code",
   "execution_count": 11,
   "id": "b6edf84d",
   "metadata": {},
   "outputs": [
    {
     "name": "stdout",
     "output_type": "stream",
     "text": [
      "area of circle 78.5\n",
      "area of circle 314.0\n"
     ]
    }
   ],
   "source": [
    "class Circle:\n",
    "    def __init__(self,r):\n",
    "        self.pi=3.14\n",
    "        self.radius=r\n",
    "    def area(self):\n",
    "        area=self.pi*(self.radius**2)\n",
    "        print(\"area of circle\",area)\n",
    "        \n",
    "        \n",
    "a1=Circle(5)\n",
    "a1.area()\n",
    "\n",
    "a2=Circle(10)\n",
    "a2.area()\n"
   ]
  },
  {
   "cell_type": "code",
   "execution_count": 7,
   "id": "f2b626ab",
   "metadata": {},
   "outputs": [
    {
     "name": "stdout",
     "output_type": "stream",
     "text": [
      "total= 215\n",
      "percentage= 71.66666666666667\n",
      "2ndclass\n"
     ]
    }
   ],
   "source": [
    "class Student:\n",
    "    def __init__(self,n,r,e,m,h):\n",
    "        self.name=n\n",
    "        self.roll_no=r\n",
    "        self.english=e\n",
    "        self.maths=m\n",
    "        self.history=h\n",
    "    def marks (self):\n",
    "        total=self.english+self.maths+self.history\n",
    "        percentage=total/300*100\n",
    "        print(\"total=\", total)\n",
    "        print(\"percentage=\", percentage)\n",
    "        if percentage>75:\n",
    "            print(\"A\")\n",
    "        elif percentage>50:\n",
    "            print(\"2ndclass\")\n",
    "        elif percentage>60:\n",
    "            print(\"1stclass\")\n",
    "        else:\n",
    "            (\"fail\")\n",
    "\n",
    "s=Student(\"jones\",24,75,60,80)\n",
    "s.marks()\n",
    "    "
   ]
  },
  {
   "cell_type": "code",
   "execution_count": 8,
   "id": "c45e9b3c",
   "metadata": {},
   "outputs": [
    {
     "name": "stdout",
     "output_type": "stream",
     "text": [
      "1\n",
      "404\n"
     ]
    }
   ],
   "source": [
    "class Student:\n",
    "    def __init__(self,r,n,m=[]):\n",
    "        self.rollno=r\n",
    "        self.name=n\n",
    "        self.marks=m\n",
    "        \n",
    "    def display(self):\n",
    "        print(self.rollno)\n",
    "        sum=0\n",
    "        for i in self.marks:\n",
    "            sum=sum+i\n",
    "        print(sum)\n",
    "        \n",
    "        \n",
    "        \n",
    "student1=Student(1,'xyz',[70,89,67,88,90])\n",
    "student1.display()\n"
   ]
  },
  {
   "cell_type": "code",
   "execution_count": 9,
   "id": "a3d057e8",
   "metadata": {},
   "outputs": [
    {
     "name": "stdout",
     "output_type": "stream",
     "text": [
      "1\n",
      "2\n",
      "3\n",
      "4\n",
      "5\n"
     ]
    }
   ],
   "source": [
    "class ListSample:\n",
    "    def __init__(self,l=[]):\n",
    "        self.list1=l\n",
    "        for i in self.list1:\n",
    "            print(i)\n",
    "            \n",
    "\n",
    "list2=[1,2,3,4,5]\n",
    "lt=ListSample(list2)\n"
   ]
  },
  {
   "cell_type": "code",
   "execution_count": null,
   "id": "faadb9f3",
   "metadata": {},
   "outputs": [],
   "source": [
    "class Circle: pi = 3.14 def init(self, diameter):\n",
    "\n",
    "print(\"Creating circle with diameter {d}\".format(d=diameter))\n",
    "# Add assignment for self.radius here:\n",
    "1.Even though we usually know the diameter beforehand, what we need for most calculations is the radius.\n",
    "\n",
    "In Circle‘s constructor set the instance variable self.radius to equal half the diameter that gets passed in. 2.Define three Circles with three different diameters.\n",
    "\n",
    "A medium pizza, medium_pizza, that is 12 inches across. Your teaching table, teaching_table, which is 36 inches across. The Round Room auditorium, round_room, which is 11,460 inches across. 3.Define a new method circumference for your circle object that takes only one argument, self, and returns the circumference of a circle with the given radius by this formula:\n",
    "\n",
    "circumference = 2 * pi * radius 4.Print out the circumferences of medium_pizza, teaching_table, and round_room.\n"
   ]
  },
  {
   "cell_type": "code",
   "execution_count": 10,
   "id": "7df4bcbc",
   "metadata": {},
   "outputs": [
    {
     "ename": "NameError",
     "evalue": "name 'Circle' is not defined",
     "output_type": "error",
     "traceback": [
      "\u001b[1;31m---------------------------------------------------------------------------\u001b[0m",
      "\u001b[1;31mNameError\u001b[0m                                 Traceback (most recent call last)",
      "Input \u001b[1;32mIn [10]\u001b[0m, in \u001b[0;36m<cell line: 1>\u001b[1;34m()\u001b[0m\n\u001b[1;32m----> 1\u001b[0m \u001b[38;5;28;01mclass\u001b[39;00m \u001b[38;5;21;01mCircle\u001b[39;00m:\n\u001b[0;32m      2\u001b[0m     pi \u001b[38;5;241m=\u001b[39m \u001b[38;5;241m3.14\u001b[39m\n\u001b[0;32m      3\u001b[0m     \u001b[38;5;28;01mdef\u001b[39;00m \u001b[38;5;21m__int__\u001b[39m(\u001b[38;5;28mself\u001b[39m, diameter):\n",
      "Input \u001b[1;32mIn [10]\u001b[0m, in \u001b[0;36mCircle\u001b[1;34m()\u001b[0m\n\u001b[0;32m      8\u001b[0m     circumference \u001b[38;5;241m=\u001b[39m \u001b[38;5;241m2\u001b[39m\u001b[38;5;241m*\u001b[39m\u001b[38;5;28mself\u001b[39m\u001b[38;5;241m.\u001b[39mpi\u001b[38;5;241m*\u001b[39m\u001b[38;5;28mself\u001b[39m\u001b[38;5;241m.\u001b[39mradius\n\u001b[0;32m      9\u001b[0m     \u001b[38;5;28;01mreturn\u001b[39;00m circumference\n\u001b[1;32m---> 11\u001b[0m medium_pizza\u001b[38;5;241m=\u001b[39m\u001b[43mCircle\u001b[49m(\u001b[38;5;241m12\u001b[39m)\n\u001b[0;32m     12\u001b[0m teaching_table\u001b[38;5;241m=\u001b[39mCircle(\u001b[38;5;241m36\u001b[39m)\n\u001b[0;32m     13\u001b[0m round_room\u001b[38;5;241m=\u001b[39mCircle(\u001b[38;5;241m11460\u001b[39m)\n",
      "\u001b[1;31mNameError\u001b[0m: name 'Circle' is not defined"
     ]
    }
   ],
   "source": [
    "class Circle:\n",
    "    pi = 3.14\n",
    "    def __int__(self, diameter):\n",
    "        print(\"Creating circle with diameter {d}\".format(d=diameter))\n",
    "        self.radius=diameter/2\n",
    "        \n",
    "    def circumference(self):\n",
    "        circumference = 2*self.pi*self.radius\n",
    "        return circumference\n",
    "    \n",
    "    medium_pizza=Circle(12)\n",
    "    teaching_table=Circle(36)\n",
    "    round_room=Circle(11460)\n",
    "    \n",
    "print(medium_pizza.circumference())\n",
    "print(teaching_table.circumference())\n",
    "print(round_room.circumference())\n"
   ]
  },
  {
   "cell_type": "code",
   "execution_count": 11,
   "id": "b0794fbc",
   "metadata": {},
   "outputs": [
    {
     "name": "stdout",
     "output_type": "stream",
     "text": [
      "What is your name?\n",
      "my name is Pritam\n"
     ]
    }
   ],
   "source": [
    "class Student():\n",
    "    def __init__(self):\n",
    "        print(\"What is your name?\")\n",
    "        self.name=\"Pritam\"\n",
    "        \n",
    "    def my_name(self):\n",
    "        return(\"my name is \"+self.name)\n",
    "s1=Student()\n",
    "print(s1.my_name())\n"
   ]
  },
  {
   "cell_type": "code",
   "execution_count": null,
   "id": "46f43761",
   "metadata": {},
   "outputs": [
    {
     "name": "stdout",
     "output_type": "stream",
     "text": [
      "enter namejones\n",
      "enter departmentengg\n",
      "enter salry33000\n"
     ]
    }
   ],
   "source": [
    "class Example:\n",
    "\n",
    "    def __init__(self,name,department,salary):\n",
    "        self.name=name\n",
    "        self.department=department\n",
    "        self.salary=salary\n",
    "        \n",
    "    def display(self):\n",
    "        print(self.name,self.department,self.salary)\n",
    "        \n",
    "        \n",
    "        \n",
    "e1=Example(input(\"enter name\"),input(\"enter department\"),int(input(\"enter salry\")))\n",
    "e2=Example(input(\"enter name\"),input(\"enter department\"),int(input(\"enter salry\")))\n",
    "e1.display()\n",
    "e2.display()\n",
    "e3=e2\n",
    "e3.display()\n"
   ]
  },
  {
   "cell_type": "code",
   "execution_count": null,
   "id": "4e50bfb4",
   "metadata": {},
   "outputs": [],
   "source": [
    "class Employee:\n",
    "    name=\"xyz\"\n",
    "    designation=\"manager\"\n",
    "    salary=23000\n",
    "    \n",
    "    def display(self):\n",
    "        print(\"name of employee\",self.name)\n",
    "        print(\"designation:\",self.designation)\n",
    "        print(\"salary:\",self.salary)\n",
    "        \n",
    "        \n",
    "e1=Employee()# object name=classname()\n",
    "e1.display()\n",
    "e1.name=\"srujana\"\n",
    "e1.display()\n",
    "\n",
    "e2=Employee()\n",
    "\n",
    "e2.name=\"priya\"\n",
    "e2.designation=\"developer\"\n",
    "e2.salary=30000\n",
    "\n",
    "e2.display()\n"
   ]
  },
  {
   "cell_type": "code",
   "execution_count": null,
   "id": "91d88825",
   "metadata": {},
   "outputs": [],
   "source": [
    "class Circle:\n",
    "  pi = 3.14\n",
    "  def __init__(self, diameter):\n",
    "    \n",
    "    print(\"Creating circle with diameter {d}\".format(d=diameter))\n",
    "    # Add assignment for self.radius here:\n",
    "    self.radius=diameter/2\n",
    "  def circumference(self):\n",
    "    circumference = 2 * self.pi * self.radius\n",
    "    return circumference\n",
    "medium_pizza=Circle(12)\n",
    "teaching_table=Circle(36)\n",
    "round_room=Circle(11460)\n",
    "print(medium_pizza.circumference())\n",
    "print(teaching_table.circumference())\n",
    "print(round_room.circumference())\n"
   ]
  },
  {
   "cell_type": "code",
   "execution_count": 1,
   "id": "f57f32b7",
   "metadata": {},
   "outputs": [
    {
     "name": "stdout",
     "output_type": "stream",
     "text": [
      "[2.0, 4.0, 6.0, 8.0, 10.0]\n",
      "<class 'list'>\n",
      "<class 'list'>\n"
     ]
    }
   ],
   "source": [
    "#divide each element of list by 5 without numpy\n",
    "a=[10,20,30,40,50]\n",
    "b=[]\n",
    "for i in a:\n",
    "    b.append(i/5)\n",
    "    \n",
    "print(b)\n",
    "\n",
    "\n",
    "print(type(a))\n",
    "print(type(b))\n"
   ]
  },
  {
   "cell_type": "code",
   "execution_count": 3,
   "id": "93330aae",
   "metadata": {},
   "outputs": [
    {
     "data": {
      "text/plain": [
       "[5.0, 10.0, 15.0, 20.0, 25.0]"
      ]
     },
     "execution_count": 3,
     "metadata": {},
     "output_type": "execute_result"
    }
   ],
   "source": [
    "c=[i/2 for i in a]\n",
    "c\n"
   ]
  },
  {
   "cell_type": "code",
   "execution_count": 4,
   "id": "5bbf3b4a",
   "metadata": {},
   "outputs": [],
   "source": [
    "import numpy as np\n"
   ]
  },
  {
   "cell_type": "code",
   "execution_count": 5,
   "id": "8a95a3f3",
   "metadata": {},
   "outputs": [
    {
     "name": "stdout",
     "output_type": "stream",
     "text": [
      "[10 20 30 40 50]\n",
      "<class 'numpy.ndarray'>\n"
     ]
    }
   ],
   "source": [
    "a=np.array([10,20,30,40,50])\n",
    "print(a)\n",
    "print(type(a))\n"
   ]
  },
  {
   "cell_type": "code",
   "execution_count": 6,
   "id": "1d08f9b6",
   "metadata": {},
   "outputs": [
    {
     "name": "stdout",
     "output_type": "stream",
     "text": [
      "[ 2.  4.  6.  8. 10.]\n"
     ]
    }
   ],
   "source": [
    "b=a/5\n",
    "print(b)\n"
   ]
  },
  {
   "cell_type": "code",
   "execution_count": 7,
   "id": "d2b4129d",
   "metadata": {},
   "outputs": [
    {
     "name": "stdout",
     "output_type": "stream",
     "text": [
      "[12. 24. 36. 48. 60.]\n"
     ]
    }
   ],
   "source": [
    "c=a+b\n",
    "print(c)\n"
   ]
  },
  {
   "cell_type": "code",
   "execution_count": 8,
   "id": "b138ac82",
   "metadata": {},
   "outputs": [
    {
     "name": "stdout",
     "output_type": "stream",
     "text": [
      "<class 'numpy.ndarray'>\n",
      "<class 'numpy.ndarray'>\n"
     ]
    }
   ],
   "source": [
    "print(type(b))\n",
    "print(type(c))\n"
   ]
  },
  {
   "cell_type": "code",
   "execution_count": 9,
   "id": "f661b23b",
   "metadata": {},
   "outputs": [
    {
     "name": "stdout",
     "output_type": "stream",
     "text": [
      "[ 20.  80. 180. 320. 500.]\n"
     ]
    }
   ],
   "source": [
    "c=a*b\n",
    "print(c)"
   ]
  },
  {
   "cell_type": "code",
   "execution_count": 10,
   "id": "d2cc0963",
   "metadata": {},
   "outputs": [
    {
     "name": "stdout",
     "output_type": "stream",
     "text": [
      "[ 100  400  900 1600 2500]\n"
     ]
    }
   ],
   "source": [
    "c=a*a\n",
    "print(c)"
   ]
  },
  {
   "cell_type": "code",
   "execution_count": 11,
   "id": "bc74f073",
   "metadata": {},
   "outputs": [],
   "source": [
    "test_1 = np.array([92, 94, 88, 91, 87])\n",
    "test_2 = np.array([79, 100, 86, 93, 91])\n",
    "test_3 = np.array([87, 85, 72, 90, 92])\n"
   ]
  },
  {
   "cell_type": "code",
   "execution_count": 12,
   "id": "63de04e1",
   "metadata": {},
   "outputs": [
    {
     "ename": "SyntaxError",
     "evalue": "invalid syntax (756044727.py, line 1)",
     "output_type": "error",
     "traceback": [
      "\u001b[1;36m  Input \u001b[1;32mIn [12]\u001b[1;36m\u001b[0m\n\u001b[1;33m    teacher identified problem in test 3 that scores are less by 3 marks so create variable test_3_fixed and update test3 score\u001b[0m\n\u001b[1;37m            ^\u001b[0m\n\u001b[1;31mSyntaxError\u001b[0m\u001b[1;31m:\u001b[0m invalid syntax\n"
     ]
    }
   ],
   "source": [
    "teacher identified problem in test 3 that scores are less by 3 marks so create variable test_3_fixed and update test3 score\n",
    "then calculate total of all tests scores\n",
    "total_grade\n",
    "create variable final_grade which will store average of tests score\n"
   ]
  },
  {
   "cell_type": "code",
   "execution_count": 13,
   "id": "7d739116",
   "metadata": {},
   "outputs": [
    {
     "ename": "NameError",
     "evalue": "name 'test_3_fixed' is not defined",
     "output_type": "error",
     "traceback": [
      "\u001b[1;31m---------------------------------------------------------------------------\u001b[0m",
      "\u001b[1;31mNameError\u001b[0m                                 Traceback (most recent call last)",
      "Input \u001b[1;32mIn [13]\u001b[0m, in \u001b[0;36m<cell line: 2>\u001b[1;34m()\u001b[0m\n\u001b[0;32m      1\u001b[0m test_3 \u001b[38;5;241m=\u001b[39m np\u001b[38;5;241m.\u001b[39marray([\u001b[38;5;241m87\u001b[39m, \u001b[38;5;241m85\u001b[39m, \u001b[38;5;241m72\u001b[39m, \u001b[38;5;241m90\u001b[39m, \u001b[38;5;241m92\u001b[39m])\n\u001b[1;32m----> 2\u001b[0m total_grade\u001b[38;5;241m=\u001b[39m\u001b[43mtest_3_fixed\u001b[49m\n\u001b[0;32m      3\u001b[0m \u001b[38;5;28mprint\u001b[39m(total_grade)\n",
      "\u001b[1;31mNameError\u001b[0m: name 'test_3_fixed' is not defined"
     ]
    }
   ],
   "source": [
    "test_3 = np.array([87, 85, 72, 90, 92])\n",
    "total_grade=test_3_fixed\n",
    "print(total_grade)\n"
   ]
  },
  {
   "cell_type": "code",
   "execution_count": 14,
   "id": "007f4209",
   "metadata": {},
   "outputs": [
    {
     "ename": "SyntaxError",
     "evalue": "invalid syntax (1259156702.py, line 4)",
     "output_type": "error",
     "traceback": [
      "\u001b[1;36m  Input \u001b[1;32mIn [14]\u001b[1;36m\u001b[0m\n\u001b[1;33m    test=sum test_1\u001b[0m\n\u001b[1;37m             ^\u001b[0m\n\u001b[1;31mSyntaxError\u001b[0m\u001b[1;31m:\u001b[0m invalid syntax\n"
     ]
    }
   ],
   "source": [
    "test_1 = np.array([92, 94, 88, 91, 87])\n",
    "test_2 = np.array([79, 100, 86, 93, 91])\n",
    "test_3 = np.array([87, 85, 72, 90, 92])\n",
    "test=sum test_1"
   ]
  },
  {
   "cell_type": "code",
   "execution_count": 15,
   "id": "cc435a36",
   "metadata": {},
   "outputs": [
    {
     "data": {
      "text/plain": [
       "452"
      ]
     },
     "execution_count": 15,
     "metadata": {},
     "output_type": "execute_result"
    }
   ],
   "source": [
    "test_1 = np.array([92, 94, 88, 91, 87]) \n",
    "total_grade1=np.sum(test_1)  \n",
    "total_grade1"
   ]
  },
  {
   "cell_type": "code",
   "execution_count": 17,
   "id": "8fb6edd7",
   "metadata": {},
   "outputs": [
    {
     "data": {
      "text/plain": [
       "449"
      ]
     },
     "execution_count": 17,
     "metadata": {},
     "output_type": "execute_result"
    }
   ],
   "source": [
    "test_1 = np.array([92, 94, 88, 91, 87])\n",
    "test_2 = np.array([79, 100, 86, 93, 91])\n",
    "test_3 = np.array([87, 85, 72, 90, 92])\n",
    "\n",
    "total_grade2=np.sum(test_2)  \n",
    "total_grade2\n"
   ]
  },
  {
   "cell_type": "code",
   "execution_count": 18,
   "id": "62c94c93",
   "metadata": {},
   "outputs": [
    {
     "data": {
      "text/plain": [
       "426"
      ]
     },
     "execution_count": 18,
     "metadata": {},
     "output_type": "execute_result"
    }
   ],
   "source": [
    "test_1 = np.array([92, 94, 88, 91, 87])\n",
    "test_2 = np.array([79, 100, 86, 93, 91])\n",
    "test_3 = np.array([87, 85, 72, 90, 92])\n",
    "\n",
    "total_grade3=np.sum(test_3)  \n",
    "total_grade3"
   ]
  },
  {
   "cell_type": "code",
   "execution_count": 19,
   "id": "f9f43dbe",
   "metadata": {},
   "outputs": [
    {
     "name": "stdout",
     "output_type": "stream",
     "text": [
      "[90 88 75 93 95]\n"
     ]
    }
   ],
   "source": [
    "test_1 = np.array([92, 94, 88, 91, 87])\n",
    "test_2 = np.array([79, 100, 86, 93, 91])\n",
    "test_3 = np.array([87, 85, 72, 90, 92])\n",
    "\n",
    "test_3_sum= test_3 +3\n",
    "print(test_3_sum)"
   ]
  },
  {
   "cell_type": "code",
   "execution_count": 20,
   "id": "d17eaa5e",
   "metadata": {},
   "outputs": [
    {
     "name": "stdout",
     "output_type": "stream",
     "text": [
      "[20. 30. 40. 50.]\n",
      "<class 'numpy.ndarray'>\n"
     ]
    }
   ],
   "source": [
    "samp_arr = np.genfromtxt(\"sample.csv\",delimiter =\",\")\n",
    "print(samp_arr)\n",
    "print(type(samp_arr))\n"
   ]
  },
  {
   "cell_type": "code",
   "execution_count": 21,
   "id": "675fe97f",
   "metadata": {},
   "outputs": [
    {
     "name": "stdout",
     "output_type": "stream",
     "text": [
      "[[ 2  4  6]\n",
      " [ 8 10 12]]\n",
      "[1 2 3 4 5 6]\n",
      "[1.+0.j 2.+0.j 3.+0.j 4.+0.j]\n"
     ]
    }
   ],
   "source": [
    "s=np.array(([2,4,6],[8,10,12]),ndmin=2)\n",
    "print(s)\n",
    "\n",
    "s=np.array([1,2,3,4,5,6])\n",
    "print(s)\n",
    "\n",
    "s=np.array([1,2,3,4],dtype=complex)\n",
    "print(s)\n"
   ]
  },
  {
   "cell_type": "code",
   "execution_count": 22,
   "id": "6206cc03",
   "metadata": {},
   "outputs": [
    {
     "name": "stdout",
     "output_type": "stream",
     "text": [
      "[[1 3 5]\n",
      " [2 4 6]]\n"
     ]
    }
   ],
   "source": [
    "a=[[1,3,5],[2,4,6]]\n",
    "b=np.array(a)\n",
    "print(b)\n"
   ]
  },
  {
   "cell_type": "code",
   "execution_count": 23,
   "id": "edd78bb8",
   "metadata": {},
   "outputs": [
    {
     "name": "stdout",
     "output_type": "stream",
     "text": [
      "<class 'numpy.ndarray'>\n"
     ]
    }
   ],
   "source": [
    "print(type(b))\n"
   ]
  },
  {
   "cell_type": "code",
   "execution_count": 24,
   "id": "0bc3acb5",
   "metadata": {},
   "outputs": [
    {
     "name": "stdout",
     "output_type": "stream",
     "text": [
      "[[ 92  94  88  91  87]\n",
      " [ 79 100  86  93  91]\n",
      " [ 87  85  72  90  92]]\n",
      "<class 'numpy.ndarray'>\n"
     ]
    }
   ],
   "source": [
    "combined = np.array([[92, 94, 88, 91, 87],\n",
    "                    [79, 100, 86, 93, 91],\n",
    "                    [87, 85, 72, 90, 92]])\n",
    "\n",
    "print(combined)\n",
    "print(type(combined))\n"
   ]
  },
  {
   "cell_type": "code",
   "execution_count": 25,
   "id": "5bcf5a07",
   "metadata": {},
   "outputs": [
    {
     "data": {
      "text/plain": [
       "(3, 5)"
      ]
     },
     "execution_count": 25,
     "metadata": {},
     "output_type": "execute_result"
    }
   ],
   "source": [
    "combined.shape #3 rows and 5 columns\n"
   ]
  },
  {
   "cell_type": "code",
   "execution_count": 26,
   "id": "b7a4c2fd",
   "metadata": {},
   "outputs": [
    {
     "data": {
      "text/plain": [
       "array([87, 85, 72, 90, 92])"
      ]
     },
     "execution_count": 26,
     "metadata": {},
     "output_type": "execute_result"
    }
   ],
   "source": [
    "combined[2]\n"
   ]
  },
  {
   "cell_type": "code",
   "execution_count": 27,
   "id": "f80c7c09",
   "metadata": {},
   "outputs": [
    {
     "data": {
      "text/plain": [
       "array([92, 94, 88, 91, 87])"
      ]
     },
     "execution_count": 27,
     "metadata": {},
     "output_type": "execute_result"
    }
   ],
   "source": [
    "combined[0]\n"
   ]
  },
  {
   "cell_type": "code",
   "execution_count": 28,
   "id": "d32ee418",
   "metadata": {},
   "outputs": [
    {
     "data": {
      "text/plain": [
       "94"
      ]
     },
     "execution_count": 28,
     "metadata": {},
     "output_type": "execute_result"
    }
   ],
   "source": [
    "combined[0,1] #row,column\n"
   ]
  },
  {
   "cell_type": "code",
   "execution_count": 29,
   "id": "9ac5dd9f",
   "metadata": {},
   "outputs": [
    {
     "data": {
      "text/plain": [
       "array([ 94, 100,  85])"
      ]
     },
     "execution_count": 29,
     "metadata": {},
     "output_type": "execute_result"
    }
   ],
   "source": [
    "combined[:,1] #all rows for column one\n"
   ]
  },
  {
   "cell_type": "code",
   "execution_count": 30,
   "id": "2db6cedc",
   "metadata": {},
   "outputs": [
    {
     "data": {
      "text/plain": [
       "array([ 79, 100,  86,  93,  91])"
      ]
     },
     "execution_count": 30,
     "metadata": {},
     "output_type": "execute_result"
    }
   ],
   "source": [
    "combined[1,:] #row 1 all column\n"
   ]
  },
  {
   "cell_type": "code",
   "execution_count": 31,
   "id": "13fde0f3",
   "metadata": {},
   "outputs": [
    {
     "data": {
      "text/plain": [
       "array([[ 94,  88],\n",
       "       [100,  86]])"
      ]
     },
     "execution_count": 31,
     "metadata": {},
     "output_type": "execute_result"
    }
   ],
   "source": [
    "combined[0:2,1:3]\n"
   ]
  },
  {
   "cell_type": "code",
   "execution_count": 32,
   "id": "dd0aa858",
   "metadata": {},
   "outputs": [
    {
     "data": {
      "text/plain": [
       "array([[88],\n",
       "       [86],\n",
       "       [72]])"
      ]
     },
     "execution_count": 32,
     "metadata": {},
     "output_type": "execute_result"
    }
   ],
   "source": [
    "combined[0:3,2:3]"
   ]
  },
  {
   "cell_type": "code",
   "execution_count": 33,
   "id": "e99bc9f9",
   "metadata": {},
   "outputs": [
    {
     "name": "stdout",
     "output_type": "stream",
     "text": [
      "[False False False False  True  True  True False False]\n"
     ]
    }
   ],
   "source": [
    "a=np.array([10,9,7,34,56,100,52,2,4])\n",
    "print(a>50)\n"
   ]
  },
  {
   "cell_type": "code",
   "execution_count": 34,
   "id": "1b0e5ee3",
   "metadata": {},
   "outputs": [
    {
     "name": "stdout",
     "output_type": "stream",
     "text": [
      "[ 56 100  52]\n"
     ]
    }
   ],
   "source": [
    "print(a[a>50])\n"
   ]
  },
  {
   "cell_type": "code",
   "execution_count": 35,
   "id": "463f9bce",
   "metadata": {},
   "outputs": [
    {
     "name": "stdout",
     "output_type": "stream",
     "text": [
      "[ 10  34  56 100  52   2   4]\n"
     ]
    }
   ],
   "source": [
    "print(a[a%2==0])\n"
   ]
  },
  {
   "cell_type": "code",
   "execution_count": 36,
   "id": "03cc50dc",
   "metadata": {},
   "outputs": [],
   "source": [
    "student_scores = np.array([[92, 94, 88, 91, 87],\n",
    "                           [79, 100, 86, 93, 91],\n",
    "                           [87, 85, 72, 90, 92]])\n",
    "\n",
    "#Display marks greater than 90\n",
    "#display marks bwtween 90 to 95"
   ]
  },
  {
   "cell_type": "code",
   "execution_count": 37,
   "id": "72a1ba0f",
   "metadata": {},
   "outputs": [
    {
     "name": "stdout",
     "output_type": "stream",
     "text": [
      "[ 92  94  91 100  93  91  92]\n"
     ]
    }
   ],
   "source": [
    "print(student_scores[student_scores>90])"
   ]
  },
  {
   "cell_type": "code",
   "execution_count": 41,
   "id": "72848322",
   "metadata": {},
   "outputs": [
    {
     "name": "stdout",
     "output_type": "stream",
     "text": [
      "[92 94 91 93 91 92]\n"
     ]
    }
   ],
   "source": [
    "print(student_scores[(student_scores>90) & (student_scores<95)])"
   ]
  },
  {
   "cell_type": "code",
   "execution_count": null,
   "id": "8eab1e2c",
   "metadata": {},
   "outputs": [],
   "source": [
    "Today we’re visiting the Goldilocks Porridge Festival, sampling a selection of breakfast cereals and judging them based on their temperature (listed in Fahrenheit). porridge = np.array([79, 65, 50, 63, 56, 90, 85, 98, 79, 51])\n",
    "\n",
    "##Create a logical condition that selects samples in the porridge array that are less than 60, and save them to a variable named cold.\n",
    "\n",
    "##2. Create a logical condition that finds all the samples that are higher than 80 and save them to a variable named hot.\n",
    "\n",
    "##3. Create a logical condition that finds all the samples that are between 60 and 80 (inclusive) and save them to a variable named just_right.\n",
    "\n",
    "##4. Print each array to the terminal."
   ]
  },
  {
   "cell_type": "code",
   "execution_count": 44,
   "id": "29ef2280",
   "metadata": {},
   "outputs": [
    {
     "name": "stdout",
     "output_type": "stream",
     "text": [
      "[50 56 51]\n",
      "[90 85 98]\n",
      "[79 65 63 79]\n"
     ]
    }
   ],
   "source": [
    "porridge = np.array([79, 65, 50, 63, 56, 90, 85, 98, 79, 51])\n",
    "cold = porridge[porridge<60]\n",
    "hot= porridge[porridge>80]\n",
    "just_right = (porridge[(porridge>60) & (porridge<=80)])\n",
    "print(cold)\n",
    "print(hot)\n",
    "print(just_right)\n"
   ]
  },
  {
   "cell_type": "code",
   "execution_count": 45,
   "id": "3e006cee",
   "metadata": {},
   "outputs": [
    {
     "name": "stdout",
     "output_type": "stream",
     "text": [
      "[[92 94]\n",
      " [91 93]\n",
      " [91 92]]\n",
      "---------------------------------------\n",
      "[0 0 0 0 0]\n",
      "---------------------------------------\n",
      "[0. 0. 0. 0. 0.]\n",
      "---------------------------------------\n"
     ]
    }
   ],
   "source": [
    "x=np.empty((3,2),dtype=int)\n",
    "print(x)\n",
    "print(\"---------------------------------------\")\n",
    "# array of five zeros\n",
    "x=np.zeros(5,dtype=int)\n",
    "print(x)\n",
    "print(\"---------------------------------------\")\n",
    "x=np.zeros(5)\n",
    "print(x)\n",
    "\n",
    "print(\"---------------------------------------\")\n"
   ]
  },
  {
   "cell_type": "code",
   "execution_count": 46,
   "id": "5bc71e45",
   "metadata": {},
   "outputs": [
    {
     "name": "stdout",
     "output_type": "stream",
     "text": [
      "5.384615384615385\n",
      "-------------------------\n",
      "5.0\n",
      "-------------------------\n",
      "[ 1  2  3  4  5  5  5  5  6  7  8  9 10]\n",
      "-------------------------\n",
      "1\n",
      "-------------------------\n",
      "10\n",
      "-------------------------\n",
      "2.527950265408459\n",
      "-------------------------\n"
     ]
    }
   ],
   "source": [
    "sample = np.array([1,2,3,4,5,5,5,6,7,8,9,10,5])\n",
    "print(np.mean(sample))\n",
    "print(\"-------------------------\")\n",
    "print(np.median(sample))\n",
    "print(\"-------------------------\")\n",
    "\n",
    "print(np.sort(sample))\n",
    "print(\"-------------------------\")\n",
    "print(np.min(sample))\n",
    "print(\"-------------------------\")\n",
    "print(np.max(sample))\n",
    "print(\"-------------------------\")\n",
    "print(np.std(sample))\n",
    "print(\"-------------------------\")\n"
   ]
  },
  {
   "cell_type": "code",
   "execution_count": 47,
   "id": "daea849d",
   "metadata": {},
   "outputs": [
    {
     "name": "stdout",
     "output_type": "stream",
     "text": [
      "7.0\n"
     ]
    }
   ],
   "source": [
    "print(np.percentile(sample,75)) #third quartile\n"
   ]
  },
  {
   "cell_type": "code",
   "execution_count": 48,
   "id": "508dc9b0",
   "metadata": {},
   "outputs": [
    {
     "name": "stdout",
     "output_type": "stream",
     "text": [
      "4.0\n"
     ]
    }
   ],
   "source": [
    "print(np.percentile(sample,25))#first quartile\n"
   ]
  },
  {
   "cell_type": "code",
   "execution_count": 49,
   "id": "86884c3f",
   "metadata": {},
   "outputs": [
    {
     "name": "stdout",
     "output_type": "stream",
     "text": [
      "5.0\n"
     ]
    }
   ],
   "source": [
    "print(np.percentile(sample,50))\n"
   ]
  },
  {
   "cell_type": "code",
   "execution_count": 50,
   "id": "a83e8dc9",
   "metadata": {},
   "outputs": [
    {
     "name": "stdout",
     "output_type": "stream",
     "text": [
      "1.12\n"
     ]
    }
   ],
   "source": [
    "print(np.percentile(sample,1))\n"
   ]
  },
  {
   "cell_type": "code",
   "execution_count": null,
   "id": "05b98be0",
   "metadata": {},
   "outputs": [],
   "source": [
    "After the river in your town flooded during a recent hurricane, you've become interested in collecting data about the its height. Every day for the past month, you walk to the river, measure the height of the water, and enter this information into a notebook\n"
   ]
  },
  {
   "cell_type": "code",
   "execution_count": 51,
   "id": "cc62d8e7",
   "metadata": {},
   "outputs": [],
   "source": [
    "water_height = np.array([4.01, 4.03, 4.27, 4.29, 4.19,\n",
    "                         4.15, 4.16, 4.23, 4.29, 4.19,\n",
    "                         4.00, 4.22, 4.25, 4.19, 4.10,\n",
    "                         4.14, 4.03, 4.23, 4.08, 14.20,\n",
    "                         14.03, 11.20, 8.19, 6.18, 4.04,\n",
    "                         4.08, 4.11, 4.23, 3.99, 4.23])\n",
    "mean=np.mean(water_height)\n",
    "#to find the average water height:\n",
    "sort=np.sort(water_height)\n",
    "#sort our data to see if there could be any measurements to throw our data\n",
    "median=np.median(water_height)\n",
    "#measure the median to see if its more representative of the dataset\n",
    "per=np.percentile(water_height,50) \n",
    "#median tells us where half of our data lies\n",
    "deviation=np.std(water_height)\n",
    "#standard deviation to understand how similar or \n",
    "#how different each data point is\n"
   ]
  },
  {
   "cell_type": "code",
   "execution_count": 52,
   "id": "e2b8982d",
   "metadata": {},
   "outputs": [
    {
     "name": "stdout",
     "output_type": "stream",
     "text": [
      "mean: 5.251\n",
      ".............................................................................\n",
      "sorted: [ 3.99  4.    4.01  4.03  4.03  4.04  4.08  4.08  4.1   4.11  4.14  4.15\n",
      "  4.16  4.19  4.19  4.19  4.22  4.23  4.23  4.23  4.23  4.25  4.27  4.29\n",
      "  4.29  6.18  8.19 11.2  14.03 14.2 ]\n",
      ".............................................................................\n",
      "median: 4.19\n",
      ".............................................................................\n",
      "per: 4.19\n",
      ".............................................................................\n",
      "deviation: 2.784585367099861\n",
      ".............................................................................\n"
     ]
    }
   ],
   "source": [
    "print(\"mean:\",mean)\n",
    "print(\".............................................................................\")\n",
    "print(\"sorted:\",sort)\n",
    "print(\".............................................................................\")\n",
    "print(\"median:\",median)\n",
    "print(\".............................................................................\")\n",
    "print(\"per:\",per)\n",
    "print(\".............................................................................\")\n",
    "print(\"deviation:\",deviation)\n",
    "print(\".............................................................................\")\n"
   ]
  },
  {
   "cell_type": "code",
   "execution_count": 3,
   "id": "d5c5a4a2",
   "metadata": {},
   "outputs": [
    {
     "data": {
      "text/plain": [
       "5"
      ]
     },
     "execution_count": 3,
     "metadata": {},
     "output_type": "execute_result"
    }
   ],
   "source": [
    "a=5\n",
    "float(a)\n",
    "a"
   ]
  },
  {
   "cell_type": "code",
   "execution_count": 6,
   "id": "2d64917b",
   "metadata": {},
   "outputs": [
    {
     "data": {
      "text/plain": [
       "6"
      ]
     },
     "execution_count": 6,
     "metadata": {},
     "output_type": "execute_result"
    }
   ],
   "source": [
    "13//2\n",
    "#quotioent part"
   ]
  },
  {
   "cell_type": "code",
   "execution_count": 8,
   "id": "465060d5",
   "metadata": {},
   "outputs": [
    {
     "data": {
      "text/plain": [
       "1"
      ]
     },
     "execution_count": 8,
     "metadata": {},
     "output_type": "execute_result"
    }
   ],
   "source": [
    "13%2\n",
    "#reminder part"
   ]
  },
  {
   "cell_type": "code",
   "execution_count": 11,
   "id": "a6fd57b0",
   "metadata": {},
   "outputs": [
    {
     "data": {
      "text/plain": [
       "24"
      ]
     },
     "execution_count": 11,
     "metadata": {},
     "output_type": "execute_result"
    }
   ],
   "source": [
    "#convert float to integer\n",
    "x=24.0\n",
    "x=int(x)\n",
    "x\n"
   ]
  },
  {
   "cell_type": "code",
   "execution_count": 21,
   "id": "e10e07ac",
   "metadata": {},
   "outputs": [
    {
     "data": {
      "text/plain": [
       "(6+9j)"
      ]
     },
     "execution_count": 21,
     "metadata": {},
     "output_type": "execute_result"
    }
   ],
   "source": [
    "#convert integer to complex\n",
    "a=6\n",
    "b=9.0\n",
    "c = complex(a,b)\n",
    "c"
   ]
  },
  {
   "cell_type": "code",
   "execution_count": 24,
   "id": "d942473a",
   "metadata": {},
   "outputs": [
    {
     "name": "stdout",
     "output_type": "stream",
     "text": [
      "enter number12\n",
      "enter number12\n",
      "24\n"
     ]
    }
   ],
   "source": [
    "#convert string to integer\n",
    "a=int(input(\"enter number\"))\n",
    "b=int(input(\"enter number\"))\n",
    "c=a+b\n",
    "print(c)"
   ]
  },
  {
   "cell_type": "code",
   "execution_count": 3,
   "id": "ee8ee6fb",
   "metadata": {},
   "outputs": [
    {
     "data": {
      "text/plain": [
       "2"
      ]
     },
     "execution_count": 3,
     "metadata": {},
     "output_type": "execute_result"
    }
   ],
   "source": [
    "a=[2,\"jones\",\"tamilnadu\",24,1997]\n",
    "a[-1]\n",
    "a[2]\n",
    "a[0]"
   ]
  },
  {
   "cell_type": "code",
   "execution_count": 1,
   "id": "21a749d7",
   "metadata": {},
   "outputs": [],
   "source": [
    "#tuples\n",
    "a=[\"ajith\",\"jones\",12,(1+3j)]\n",
    "a=[1]\n"
   ]
  },
  {
   "cell_type": "code",
   "execution_count": 2,
   "id": "135f262d",
   "metadata": {},
   "outputs": [
    {
     "data": {
      "text/plain": [
       "tuple"
      ]
     },
     "execution_count": 2,
     "metadata": {},
     "output_type": "execute_result"
    }
   ],
   "source": [
    "a=((1,4,7,4,9))\n",
    "type(a)\n"
   ]
  },
  {
   "cell_type": "code",
   "execution_count": 3,
   "id": "b5737bc4",
   "metadata": {},
   "outputs": [],
   "source": [
    "#dictionary\n",
    "#key and value\n",
    "\n",
    "a={'s':6, 'j':6}\n",
    "\n"
   ]
  },
  {
   "cell_type": "code",
   "execution_count": 4,
   "id": "27fc0546",
   "metadata": {},
   "outputs": [
    {
     "data": {
      "text/plain": [
       "dict_values([6, 6])"
      ]
     },
     "execution_count": 4,
     "metadata": {},
     "output_type": "execute_result"
    }
   ],
   "source": [
    "a.values()"
   ]
  },
  {
   "cell_type": "code",
   "execution_count": 5,
   "id": "b5fdfa15",
   "metadata": {},
   "outputs": [
    {
     "data": {
      "text/plain": [
       "dict_keys(['s', 'j'])"
      ]
     },
     "execution_count": 5,
     "metadata": {},
     "output_type": "execute_result"
    }
   ],
   "source": [
    "a.keys()"
   ]
  },
  {
   "cell_type": "code",
   "execution_count": 7,
   "id": "a6c752a4",
   "metadata": {},
   "outputs": [
    {
     "data": {
      "text/plain": [
       "{2, 3, 5, 7}"
      ]
     },
     "execution_count": 7,
     "metadata": {},
     "output_type": "execute_result"
    }
   ],
   "source": [
    "#set\n",
    "aset={2,5,7,3}\n",
    "aset"
   ]
  },
  {
   "cell_type": "code",
   "execution_count": 3,
   "id": "52a17ec2",
   "metadata": {},
   "outputs": [
    {
     "ename": "SyntaxError",
     "evalue": "cannot assign to literal (3921790810.py, line 1)",
     "output_type": "error",
     "traceback": [
      "\u001b[1;36m  Input \u001b[1;32mIn [3]\u001b[1;36m\u001b[0m\n\u001b[1;33m    a=24 , b=3\u001b[0m\n\u001b[1;37m      ^\u001b[0m\n\u001b[1;31mSyntaxError\u001b[0m\u001b[1;31m:\u001b[0m cannot assign to literal\n"
     ]
    }
   ],
   "source": [
    "a=24 , b=3\n",
    "a<=b"
   ]
  },
  {
   "cell_type": "code",
   "execution_count": 4,
   "id": "fcd03336",
   "metadata": {},
   "outputs": [
    {
     "data": {
      "text/plain": [
       "'teapot'"
      ]
     },
     "execution_count": 4,
     "metadata": {},
     "output_type": "execute_result"
    }
   ],
   "source": [
    "#string concatenation +\n",
    "\"tea\" + \"pot\""
   ]
  },
  {
   "cell_type": "code",
   "execution_count": 5,
   "id": "3cae34f1",
   "metadata": {},
   "outputs": [
    {
     "data": {
      "text/plain": [
       "'jones1997'"
      ]
     },
     "execution_count": 5,
     "metadata": {},
     "output_type": "execute_result"
    }
   ],
   "source": [
    "\"jones\" + \"1997\""
   ]
  },
  {
   "cell_type": "code",
   "execution_count": 1,
   "id": "8c051c5a",
   "metadata": {},
   "outputs": [
    {
     "data": {
      "text/plain": [
       "[1, 2, 3, 6, 7, 8]"
      ]
     },
     "execution_count": 1,
     "metadata": {},
     "output_type": "execute_result"
    }
   ],
   "source": [
    "list1 = [1, 2, 3]\n",
    "list2 = [6, 7, 8]\n",
    "list1 + list2\n"
   ]
  },
  {
   "cell_type": "code",
   "execution_count": 2,
   "id": "bec8302d",
   "metadata": {},
   "outputs": [
    {
     "name": "stdout",
     "output_type": "stream",
     "text": [
      "['apple', 'orange', 'grapes', ['carrot', 'potato', 'cabbage']]\n"
     ]
    }
   ],
   "source": [
    "items1=[\"apple\",\"orange\",\"grapes\"]\n",
    "items2=[\"carrot\",\"potato\",\"cabbage\"]\n",
    "items1.append(items2)\n",
    "print(items1)"
   ]
  },
  {
   "cell_type": "code",
   "execution_count": 3,
   "id": "814a1d9e",
   "metadata": {},
   "outputs": [
    {
     "name": "stdout",
     "output_type": "stream",
     "text": [
      "Enter a number 6\n",
      "It's Flase\n",
      "Welcome\n"
     ]
    }
   ],
   "source": [
    "a= int(input(\"Enter a number \"))\n",
    "if a == 5:\n",
    "    print(\"It's True\")    \n",
    "else:\n",
    "    print(\"It's Flase\")\n",
    "    \n",
    "print(\"Welcome\")\n"
   ]
  },
  {
   "cell_type": "code",
   "execution_count": 4,
   "id": "8f911a4c",
   "metadata": {},
   "outputs": [
    {
     "name": "stdout",
     "output_type": "stream",
     "text": [
      "Enter a number 24\n",
      "Ajith Kumar\n"
     ]
    }
   ],
   "source": [
    "#if,elif,else\n",
    "a = int(input(\"Enter a number \"))\n",
    "if a == 3:\n",
    "    print(\"Ajith\")\n",
    "elif a == 3:\n",
    "    print(\"Kumar\")\n",
    "else:\n",
    "    print(\"Ajith Kumar\")\n"
   ]
  },
  {
   "cell_type": "code",
   "execution_count": 5,
   "id": "dc510e11",
   "metadata": {},
   "outputs": [
    {
     "name": "stdout",
     "output_type": "stream",
     "text": [
      "Enter the number10\n",
      " I am between 10 & 15 \n"
     ]
    }
   ],
   "source": [
    "a= int(input(\"Enter the number\"))\n",
    "if  a<5:\n",
    "    print(\" I am Less than 5 \")\n",
    "elif    5<=a<10:\n",
    "     print( \" I am between 5 & 10 \")\n",
    "\n",
    "elif 10<=a<15:\n",
    "    print(\" I am between 10 & 15 \")\n",
    "\n",
    "\n",
    "else:\n",
    "    print ( \" I am Greater than 15 \")\n"
   ]
  },
  {
   "cell_type": "code",
   "execution_count": 6,
   "id": "f04a5116",
   "metadata": {},
   "outputs": [
    {
     "name": "stdout",
     "output_type": "stream",
     "text": [
      "Enter the number45\n",
      "Enter the number12\n",
      "not divisible\n"
     ]
    }
   ],
   "source": [
    "a= int(input(\"Enter the number\"))\n",
    "b= int(input(\"Enter the number\"))\n",
    "if a%b==0:\n",
    "    print(\"its divisible\")\n",
    "else:\n",
    "    print(\"not divisible\")\n"
   ]
  },
  {
   "cell_type": "code",
   "execution_count": 7,
   "id": "495d36f4",
   "metadata": {},
   "outputs": [
    {
     "name": "stdout",
     "output_type": "stream",
     "text": [
      "enter number : 12\n",
      "enter number : 14\n",
      "It is no divisible\n"
     ]
    }
   ],
   "source": [
    "a = int(input('enter number : '))\n",
    "b = int(input('enter number : '))\n",
    "if a % b == 0:\n",
    "    print(\"It is divisible\")\n",
    "    #print('{} is divisible by {}'.format(a,b))\n",
    "else:\n",
    "    print(\"It is no divisible\")\n",
    "     #print('{} is not divisible by {}'.format(a,b))\n"
   ]
  },
  {
   "cell_type": "code",
   "execution_count": 8,
   "id": "1a498206",
   "metadata": {},
   "outputs": [
    {
     "name": "stdout",
     "output_type": "stream",
     "text": [
      "enter a 1 no25\n",
      "enter a  2 no35\n",
      "sum of cube of no 58500\n"
     ]
    }
   ],
   "source": [
    "# if a n b are even no then print\n",
    "a=int(input(\"enter a 1 no\"))\n",
    "b=int(input(\"enter a  2 no\"))\n",
    "if a%2==0 and b%2==0:\n",
    "    print(\"sum of square of no\",a**2+b**2)\n",
    "elif a%2==1 and b%2==1:    \n",
    "    print(\"sum of cube of no\",a**3+b**3)\n",
    "else:\n",
    "    print(\"sum\",a+b)\n"
   ]
  },
  {
   "cell_type": "code",
   "execution_count": null,
   "id": "fc7ea3cb",
   "metadata": {},
   "outputs": [
    {
     "name": "stdout",
     "output_type": "stream",
     "text": [
      "Enter your name = 45\n",
      "Enter your subject-1 = 65\n",
      "Enter your marks = 863\n",
      "Enter your subject-2 = 28\n",
      "Enter your marks = 54\n",
      "Enter your subject-3 = 121\n"
     ]
    }
   ],
   "source": [
    "Student = input(\"Enter your name = \")\n",
    "sub1 = input(\"Enter your subject-1 = \")\n",
    "marks1 = int(input(\"Enter your marks = \"))\n",
    "sub2 = input(\"Enter your subject-2 = \")\n",
    "marks2 = int(input(\"Enter your marks = \"))\n",
    "sub3 = input(\"Enter your subject-3 = \")\n",
    "marks3 = int(input(\"Enter your marks = \"))\n",
    "sub4 = input(\"Enter your subject-4 = \")\n",
    "marks4 = int(input(\" Enter your marks = \"))\n",
    "sub5 = input(\"Enter your sub-5 = \")\n",
    "marks5 = int(input(\"Enter your marks = \"))\n",
    "print('Student name is {}'.format(Student))\n",
    "print('You have scored {} marks in {} subject'.format(marks1,sub1))\n",
    "print('You have scored {} marks in {} subject'.format(marks2,sub2))\n",
    "print('You have scored {} marks in {} subject'.format(marks3,sub3))\n",
    "print('You have scored {} marks in {} subject'.format(marks4,sub4))\n",
    "print('You have scored {} marks in {} subject'.format(marks5,sub5))\n",
    "print('Total marks scored is {} out of 500'.format(marks1+marks2+marks3+marks4+marks5))\n"
   ]
  },
  {
   "cell_type": "code",
   "execution_count": null,
   "id": "4a6e95df",
   "metadata": {},
   "outputs": [],
   "source": [
    "for i in seq:\n",
    "    print(i)\n"
   ]
  },
  {
   "cell_type": "code",
   "execution_count": null,
   "id": "3284cc20",
   "metadata": {},
   "outputs": [],
   "source": [
    "for item in seq:\n",
    "    print('Yep')\n"
   ]
  },
  {
   "cell_type": "code",
   "execution_count": null,
   "id": "8cb759a0",
   "metadata": {},
   "outputs": [],
   "source": [
    "list(range(10,20))\n"
   ]
  },
  {
   "cell_type": "markdown",
   "id": "95581bda",
   "metadata": {},
   "source": [
    "# Lambda Function or annoymnous function"
   ]
  },
  {
   "cell_type": "code",
   "execution_count": 4,
   "id": "88d4fb03",
   "metadata": {},
   "outputs": [
    {
     "ename": "NameError",
     "evalue": "name 'f' is not defined",
     "output_type": "error",
     "traceback": [
      "\u001b[1;31m---------------------------------------------------------------------------\u001b[0m",
      "\u001b[1;31mNameError\u001b[0m                                 Traceback (most recent call last)",
      "Input \u001b[1;32mIn [4]\u001b[0m, in \u001b[0;36m<cell line: 2>\u001b[1;34m()\u001b[0m\n\u001b[0;32m      1\u001b[0m cube \u001b[38;5;241m=\u001b[39m \u001b[38;5;28;01mlambda\u001b[39;00m a : a\u001b[38;5;241m*\u001b[39ma\u001b[38;5;241m*\u001b[39ma\n\u001b[1;32m----> 2\u001b[0m result \u001b[38;5;241m=\u001b[39m\u001b[43mf\u001b[49m(\u001b[38;5;241m6\u001b[39m)\n\u001b[0;32m      3\u001b[0m \u001b[38;5;28mprint\u001b[39m(Result)\n",
      "\u001b[1;31mNameError\u001b[0m: name 'f' is not defined"
     ]
    }
   ],
   "source": [
    "cube = lambda a : a*a*a\n",
    "result =f(6)\n",
    "print(Result)\n"
   ]
  },
  {
   "cell_type": "code",
   "execution_count": 1,
   "id": "90641b97",
   "metadata": {},
   "outputs": [
    {
     "name": "stdout",
     "output_type": "stream",
     "text": [
      "Hello\n",
      "Riji\n"
     ]
    }
   ],
   "source": [
    "a = 5\n",
    "b = 0\n",
    "try:\n",
    "    print(a/b)\n",
    "except:\n",
    "    print(\"Hello\")\n",
    "finally:\n",
    "    print('Riji')\n"
   ]
  },
  {
   "cell_type": "code",
   "execution_count": 2,
   "id": "b3063b20",
   "metadata": {},
   "outputs": [
    {
     "name": "stdout",
     "output_type": "stream",
     "text": [
      "Some other error\n"
     ]
    }
   ],
   "source": [
    "try:\n",
    "    {\n",
    "        #print( 2 / var1 )\n",
    "        print(var)\n",
    "    }\n",
    "except TypeError as e:\n",
    "    {\n",
    "        print(\"You cannot divide an int and a string\") \n",
    "    }\n",
    "except ZeroDivisionError as e:\n",
    "    {\n",
    "        print(\"You cannot divide a number by 0\")\n",
    "         \n",
    "    }\n",
    "except Exception as e:\n",
    "    {\n",
    "        print(\"Some other error\")\n",
    "    }\n"
   ]
  },
  {
   "cell_type": "code",
   "execution_count": 3,
   "id": "34fdc0c2",
   "metadata": {},
   "outputs": [
    {
     "name": "stdout",
     "output_type": "stream",
     "text": [
      "Some other error\n",
      "EduBridge\n"
     ]
    }
   ],
   "source": [
    "var1 = 0\n",
    "try:\n",
    "    {\n",
    "        #print( 2 / var1 )\n",
    "        print(var)\n",
    "    }\n",
    "except TypeError as e:\n",
    "    {\n",
    "        print(\"You cannot divide an int and a string\") \n",
    "    }\n",
    "except ZeroDivisionError as e:\n",
    "    {\n",
    "        print(\"You cannot divide a number by 0\")\n",
    "         \n",
    "    }\n",
    "except Exception as e:\n",
    "    {\n",
    "        print(\"Some other error\")\n",
    "    }\n",
    "finally:\n",
    "    print(\"EduBridge\")\n"
   ]
  },
  {
   "cell_type": "code",
   "execution_count": 4,
   "id": "be2c27c8",
   "metadata": {},
   "outputs": [
    {
     "ename": "NameError",
     "evalue": "name 'np' is not defined",
     "output_type": "error",
     "traceback": [
      "\u001b[1;31m---------------------------------------------------------------------------\u001b[0m",
      "\u001b[1;31mNameError\u001b[0m                                 Traceback (most recent call last)",
      "Input \u001b[1;32mIn [4]\u001b[0m, in \u001b[0;36m<cell line: 1>\u001b[1;34m()\u001b[0m\n\u001b[1;32m----> 1\u001b[0m a \u001b[38;5;241m=\u001b[39m \u001b[43mnp\u001b[49m\u001b[38;5;241m.\u001b[39marray(\u001b[38;5;241m42\u001b[39m)\n\u001b[0;32m      2\u001b[0m b \u001b[38;5;241m=\u001b[39m np\u001b[38;5;241m.\u001b[39marray([\u001b[38;5;241m1\u001b[39m, \u001b[38;5;241m2\u001b[39m, \u001b[38;5;241m3\u001b[39m, \u001b[38;5;241m4\u001b[39m, \u001b[38;5;241m5\u001b[39m])\n\u001b[0;32m      3\u001b[0m c \u001b[38;5;241m=\u001b[39m np\u001b[38;5;241m.\u001b[39marray([[\u001b[38;5;241m1\u001b[39m, \u001b[38;5;241m2\u001b[39m, \u001b[38;5;241m3\u001b[39m], [\u001b[38;5;241m4\u001b[39m, \u001b[38;5;241m5\u001b[39m, \u001b[38;5;241m6\u001b[39m]])\n",
      "\u001b[1;31mNameError\u001b[0m: name 'np' is not defined"
     ]
    }
   ],
   "source": [
    "a = np.array(42)\n",
    "b = np.array([1, 2, 3, 4, 5])\n",
    "c = np.array([[1, 2, 3], [4, 5, 6]])\n",
    "d = np.array([[[1, 2, 3], [4, 5, 6]], [[1, 2, 3], [4, 5, 6]]])\n"
   ]
  },
  {
   "cell_type": "code",
   "execution_count": 5,
   "id": "09842d0e",
   "metadata": {},
   "outputs": [
    {
     "ename": "NameError",
     "evalue": "name 'np' is not defined",
     "output_type": "error",
     "traceback": [
      "\u001b[1;31m---------------------------------------------------------------------------\u001b[0m",
      "\u001b[1;31mNameError\u001b[0m                                 Traceback (most recent call last)",
      "Input \u001b[1;32mIn [5]\u001b[0m, in \u001b[0;36m<cell line: 2>\u001b[1;34m()\u001b[0m\n\u001b[0;32m      1\u001b[0m \u001b[38;5;66;03m#Create an array with 5 dimensions and verify that it has 5 dimensions:\u001b[39;00m\n\u001b[1;32m----> 2\u001b[0m arr \u001b[38;5;241m=\u001b[39m \u001b[43mnp\u001b[49m\u001b[38;5;241m.\u001b[39marray([\u001b[38;5;241m1\u001b[39m, \u001b[38;5;241m2\u001b[39m, \u001b[38;5;241m3\u001b[39m, \u001b[38;5;241m4\u001b[39m], ndmin\u001b[38;5;241m=\u001b[39m\u001b[38;5;241m5\u001b[39m)\n\u001b[0;32m      4\u001b[0m \u001b[38;5;28mprint\u001b[39m(arr)\n\u001b[0;32m      5\u001b[0m \u001b[38;5;28mprint\u001b[39m(\u001b[38;5;124m'\u001b[39m\u001b[38;5;124mnumber of dimensions :\u001b[39m\u001b[38;5;124m'\u001b[39m, arr\u001b[38;5;241m.\u001b[39mndim)\n",
      "\u001b[1;31mNameError\u001b[0m: name 'np' is not defined"
     ]
    }
   ],
   "source": [
    "#Create an array with 5 dimensions and verify that it has 5 dimensions:\n",
    "arr = np.array([1, 2, 3, 4], ndmin=5)\n",
    "\n",
    "print(arr)\n",
    "print('number of dimensions :', arr.ndim)\n"
   ]
  },
  {
   "cell_type": "code",
   "execution_count": 3,
   "id": "e38927b9",
   "metadata": {},
   "outputs": [
    {
     "ename": "NameError",
     "evalue": "name 'demo' is not defined",
     "output_type": "error",
     "traceback": [
      "\u001b[1;31m---------------------------------------------------------------------------\u001b[0m",
      "\u001b[1;31mNameError\u001b[0m                                 Traceback (most recent call last)",
      "Input \u001b[1;32mIn [3]\u001b[0m, in \u001b[0;36m<cell line: 1>\u001b[1;34m()\u001b[0m\n\u001b[1;32m----> 1\u001b[0m \u001b[38;5;28;01mclass\u001b[39;00m \u001b[38;5;21;01mdemo\u001b[39;00m:\n\u001b[0;32m      2\u001b[0m     \u001b[38;5;28;01mdef\u001b[39;00m \u001b[38;5;21mabc\u001b[39m(Self,a,b):\n\u001b[0;32m      3\u001b[0m         \u001b[38;5;28;01mreturn\u001b[39;00m a\u001b[38;5;241m+\u001b[39mb\n",
      "Input \u001b[1;32mIn [3]\u001b[0m, in \u001b[0;36mdemo\u001b[1;34m()\u001b[0m\n\u001b[0;32m      2\u001b[0m \u001b[38;5;28;01mdef\u001b[39;00m \u001b[38;5;21mabc\u001b[39m(Self,a,b):\n\u001b[0;32m      3\u001b[0m     \u001b[38;5;28;01mreturn\u001b[39;00m a\u001b[38;5;241m+\u001b[39mb\n\u001b[1;32m----> 4\u001b[0m a \u001b[38;5;241m=\u001b[39m \u001b[43mdemo\u001b[49m()\n\u001b[0;32m      5\u001b[0m a\u001b[38;5;241m.\u001b[39mabc(\u001b[38;5;241m2\u001b[39m,\u001b[38;5;241m2\u001b[39m)\n",
      "\u001b[1;31mNameError\u001b[0m: name 'demo' is not defined"
     ]
    }
   ],
   "source": [
    "class demo:\n",
    "    def abc(Self,a,b):\n",
    "        return a+b\n",
    "    a = demo()\n",
    "    a.abc(2,2)"
   ]
  },
  {
   "cell_type": "code",
   "execution_count": 4,
   "id": "79168169",
   "metadata": {},
   "outputs": [],
   "source": [
    "## Banking case study\n",
    "\n",
    "# main_balance ---- 0\n",
    "# check_balance()---- print my main_balance\n",
    "# deposit()---- MB---> x(amount)----> MB+x---> MB\n",
    "# withdraw()----MB--->y(amount)----> y-MB----->MB\n",
    "#MB > y---> sucess\n",
    "# -----insufficient funds\n"
   ]
  },
  {
   "cell_type": "code",
   "execution_count": 5,
   "id": "86d207a3",
   "metadata": {},
   "outputs": [
    {
     "ename": "SyntaxError",
     "evalue": "invalid syntax (4061537594.py, line 2)",
     "output_type": "error",
     "traceback": [
      "\u001b[1;36m  Input \u001b[1;32mIn [5]\u001b[1;36m\u001b[0m\n\u001b[1;33m    main balance = 0\u001b[0m\n\u001b[1;37m         ^\u001b[0m\n\u001b[1;31mSyntaxError\u001b[0m\u001b[1;31m:\u001b[0m invalid syntax\n"
     ]
    }
   ],
   "source": [
    "class Recharge:\n",
    "    main balance = 0\n",
    "    def check_balance(self):\n",
    "    \n",
    "    print('main balance', self.main balance)\n",
    "\n",
    "    def deposit(self,x):\n",
    "        self.main balance = self.main balance + x\n",
    "        print('cash deposited:',x)\n",
    "        \n",
    "    def withdraw(Self,y):\n",
    "        if self.main balance >=y:\n",
    "            self.main balance = self.main balance - y\n",
    "            print('the amount debited:' ,y)\n",
    "        else:\n",
    "            print('insufficent balence')"
   ]
  },
  {
   "cell_type": "code",
   "execution_count": 7,
   "id": "ecc5217b",
   "metadata": {},
   "outputs": [
    {
     "data": {
      "text/plain": [
       "array([[0., 0., 0., 0., 0.],\n",
       "       [0., 0., 0., 0., 0.],\n",
       "       [0., 0., 0., 0., 0.],\n",
       "       [0., 0., 0., 0., 0.],\n",
       "       [0., 0., 0., 0., 0.]])"
      ]
     },
     "execution_count": 7,
     "metadata": {},
     "output_type": "execute_result"
    }
   ],
   "source": [
    "import numpy as np\n",
    "np.zeros((5,5))"
   ]
  },
  {
   "cell_type": "code",
   "execution_count": 8,
   "id": "500ad111",
   "metadata": {},
   "outputs": [
    {
     "data": {
      "text/plain": [
       "array([0.+0.j, 0.+0.j, 0.+0.j, 0.+0.j, 0.+0.j])"
      ]
     },
     "execution_count": 8,
     "metadata": {},
     "output_type": "execute_result"
    }
   ],
   "source": [
    "np.zeros(5,dtype = complex)"
   ]
  },
  {
   "cell_type": "code",
   "execution_count": 9,
   "id": "a08272fc",
   "metadata": {},
   "outputs": [
    {
     "data": {
      "text/plain": [
       "array([1., 1., 1., 1.])"
      ]
     },
     "execution_count": 9,
     "metadata": {},
     "output_type": "execute_result"
    }
   ],
   "source": [
    "np.ones(4)"
   ]
  },
  {
   "cell_type": "code",
   "execution_count": 10,
   "id": "0ab61aa8",
   "metadata": {},
   "outputs": [
    {
     "data": {
      "text/plain": [
       "array([5., 5., 5.])"
      ]
     },
     "execution_count": 10,
     "metadata": {},
     "output_type": "execute_result"
    }
   ],
   "source": [
    "np.ones(3)*5"
   ]
  },
  {
   "cell_type": "code",
   "execution_count": 1,
   "id": "565233be",
   "metadata": {},
   "outputs": [],
   "source": [
    "#single inhertiance\n",
    "class Animal:\n",
    "    def speak(self):\n",
    "        print(\"Animal cannot speak\")\n",
    "class Dog (Animal):\n",
    "    def bark(self):\n",
    "        print(\"dog can bark\")\n",
    "        "
   ]
  },
  {
   "cell_type": "code",
   "execution_count": 2,
   "id": "41d4b1ca",
   "metadata": {},
   "outputs": [
    {
     "name": "stdout",
     "output_type": "stream",
     "text": [
      "dog can bark\n",
      "Animal cannot speak\n"
     ]
    }
   ],
   "source": [
    "obj = Dog()\n",
    "obj.bark()\n",
    "obj.speak()\n"
   ]
  },
  {
   "cell_type": "code",
   "execution_count": 3,
   "id": "920a0c44",
   "metadata": {},
   "outputs": [],
   "source": [
    "#multiple inheritance\n",
    "class Parent:\n",
    "    def fun1(self):\n",
    "        print(\"hey this is fun1\")\n",
    "class Parent2:\n",
    "    def fun2(self):\n",
    "        print(\"hey this is fun2\")\n",
    "class Child(Parent,Parent2):\n",
    "    def fun3(Self):\n",
    "        print(\"hey this is fun3\")\n",
    "        "
   ]
  },
  {
   "cell_type": "code",
   "execution_count": 5,
   "id": "07efb1d0",
   "metadata": {},
   "outputs": [
    {
     "name": "stdout",
     "output_type": "stream",
     "text": [
      "hey this is fun1\n",
      "hey this is fun2\n",
      "hey this is fun3\n"
     ]
    }
   ],
   "source": [
    "obj = Child()\n",
    "obj.fun1()\n",
    "obj.fun2()\n",
    "obj.fun3()\n"
   ]
  },
  {
   "cell_type": "code",
   "execution_count": 6,
   "id": "b010a0ce",
   "metadata": {},
   "outputs": [],
   "source": [
    "#multilevel inheritance\n",
    "class Parent:\n",
    "    def fun1(self):\n",
    "        print(\"hey this is fun1\")\n",
    "class Parent1(Parent):\n",
    "    def fun2(self):\n",
    "        print(\"hey this is fun2\")\n",
    "class Parent2(Parent1):\n",
    "    def fun3(Self):\n",
    "        print(\"hey this is fun3\")\n",
    "class Parent3(Parent2):\n",
    "    def fun4(self):\n",
    "        print(\"hey this is fun4\")\n",
    "    "
   ]
  },
  {
   "cell_type": "code",
   "execution_count": 8,
   "id": "fda43442",
   "metadata": {},
   "outputs": [
    {
     "name": "stdout",
     "output_type": "stream",
     "text": [
      "hey this is fun1\n",
      "hey this is fun2\n",
      "hey this is fun3\n",
      "hey this is fun4\n"
     ]
    }
   ],
   "source": [
    "obj = Parent3()\n",
    "obj.fun1()\n",
    "obj.fun2()\n",
    "obj.fun3()\n",
    "obj.fun4()"
   ]
  },
  {
   "cell_type": "code",
   "execution_count": 9,
   "id": "97bea04f",
   "metadata": {},
   "outputs": [],
   "source": [
    "#polymorphism\n",
    "\n",
    "class India():\n",
    "    def capital(self):\n",
    "        print(\"new delhi\")\n",
    "    def lang(self):\n",
    "        print(\"hindi\")\n",
    "class USA():\n",
    "    def capital(self):\n",
    "        print(\"washington, DC\")\n",
    "    def lang (Self):\n",
    "        print(\"english\")\n",
    "        "
   ]
  },
  {
   "cell_type": "code",
   "execution_count": 12,
   "id": "c77594ee",
   "metadata": {},
   "outputs": [
    {
     "ename": "AttributeError",
     "evalue": "'India' object has no attribute 'captial'",
     "output_type": "error",
     "traceback": [
      "\u001b[1;31m---------------------------------------------------------------------------\u001b[0m",
      "\u001b[1;31mAttributeError\u001b[0m                            Traceback (most recent call last)",
      "Input \u001b[1;32mIn [12]\u001b[0m, in \u001b[0;36m<cell line: 2>\u001b[1;34m()\u001b[0m\n\u001b[0;32m      1\u001b[0m obj1 \u001b[38;5;241m=\u001b[39m India()\n\u001b[1;32m----> 2\u001b[0m \u001b[43mobj1\u001b[49m\u001b[38;5;241;43m.\u001b[39;49m\u001b[43mcaptial\u001b[49m()\n\u001b[0;32m      3\u001b[0m obj1\u001b[38;5;241m.\u001b[39mlang()\n",
      "\u001b[1;31mAttributeError\u001b[0m: 'India' object has no attribute 'captial'"
     ]
    }
   ],
   "source": [
    "obj1 = India()\n",
    "obj1.captial()\n",
    "obj1.lang()\n"
   ]
  },
  {
   "cell_type": "code",
   "execution_count": 1,
   "id": "064709fd",
   "metadata": {},
   "outputs": [
    {
     "name": "stdout",
     "output_type": "stream",
     "text": [
      "Hello\n",
      "Hello\n",
      "Hello\n",
      "Hello\n",
      "Hello\n",
      "Hi\n",
      "Hi\n",
      "Hi\n",
      "Hi\n",
      "Hi\n"
     ]
    }
   ],
   "source": [
    "#multithreading\n",
    "class Hello:\n",
    "    def run(self):\n",
    "        for i in range(5):\n",
    "            print(\"Hello\")\n",
    "class Hi:\n",
    "    def run(self):\n",
    "        for i in range(5):\n",
    "            print(\"Hi\") \n",
    "o1=Hello()\n",
    "o2=Hi()\n",
    "\n",
    "o1.run()\n",
    "o2.run()\n"
   ]
  },
  {
   "cell_type": "code",
   "execution_count": 3,
   "id": "777837af",
   "metadata": {},
   "outputs": [
    {
     "ename": "NameError",
     "evalue": "name 'Thread' is not defined",
     "output_type": "error",
     "traceback": [
      "\u001b[1;31m---------------------------------------------------------------------------\u001b[0m",
      "\u001b[1;31mNameError\u001b[0m                                 Traceback (most recent call last)",
      "Input \u001b[1;32mIn [3]\u001b[0m, in \u001b[0;36m<cell line: 1>\u001b[1;34m()\u001b[0m\n\u001b[1;32m----> 1\u001b[0m \u001b[38;5;28;01mclass\u001b[39;00m \u001b[38;5;21;01mHello\u001b[39;00m (\u001b[43mThread\u001b[49m):\n\u001b[0;32m      2\u001b[0m     \u001b[38;5;28;01mdef\u001b[39;00m \u001b[38;5;21mrun\u001b[39m (\u001b[38;5;28mself\u001b[39m):\n\u001b[0;32m      3\u001b[0m         \u001b[38;5;28;01mfor\u001b[39;00m i \u001b[38;5;129;01min\u001b[39;00m \u001b[38;5;28mrange\u001b[39m (\u001b[38;5;241m5\u001b[39m):\n",
      "\u001b[1;31mNameError\u001b[0m: name 'Thread' is not defined"
     ]
    }
   ],
   "source": [
    "class Hello (Thread):\n",
    "    def run (self):\n",
    "        for i in range (5):\n",
    "            print(\"Hello\")\n",
    "class Hi (Thread):\n",
    "    def run(self):\n",
    "        for i in range(5):\n",
    "            print(\"Hi\")\n",
    "\n",
    "t1= Hello()\n",
    "t2= Hi()\n",
    "\n",
    "t1.start()\n",
    "sleep(0.2)\n",
    "t2.start()\n",
    "\n",
    "        "
   ]
  },
  {
   "cell_type": "code",
   "execution_count": 8,
   "id": "7ef00904",
   "metadata": {},
   "outputs": [
    {
     "ename": "ModuleNotFoundError",
     "evalue": "No module named 'arr'",
     "output_type": "error",
     "traceback": [
      "\u001b[1;31m---------------------------------------------------------------------------\u001b[0m",
      "\u001b[1;31mModuleNotFoundError\u001b[0m                       Traceback (most recent call last)",
      "Input \u001b[1;32mIn [8]\u001b[0m, in \u001b[0;36m<cell line: 2>\u001b[1;34m()\u001b[0m\n\u001b[0;32m      1\u001b[0m \u001b[38;5;28;01mimport\u001b[39;00m \u001b[38;5;21;01mnumpy\u001b[39;00m \u001b[38;5;28;01mas\u001b[39;00m \u001b[38;5;21;01mnp\u001b[39;00m\n\u001b[1;32m----> 2\u001b[0m \u001b[38;5;28;01mimport\u001b[39;00m \u001b[38;5;21;01marr\u001b[39;00m \u001b[38;5;28;01mas\u001b[39;00m \u001b[38;5;21;01marray\u001b[39;00m\n\u001b[0;32m      3\u001b[0m a \u001b[38;5;241m=\u001b[39m np\u001b[38;5;241m.\u001b[39marray([\u001b[38;5;241m10\u001b[39m,\u001b[38;5;241m20\u001b[39m,\u001b[38;5;241m30\u001b[39m,\u001b[38;5;241m40\u001b[39m,\u001b[38;5;241m50\u001b[39m])\n\u001b[0;32m      4\u001b[0m arr[\u001b[38;5;241m1\u001b[39m:\u001b[38;5;241m5\u001b[39m:\u001b[38;5;241m3\u001b[39m]\n",
      "\u001b[1;31mModuleNotFoundError\u001b[0m: No module named 'arr'"
     ]
    }
   ],
   "source": [
    "import numpy as np\n",
    "import arr as array\n",
    "a = np.array([10,20,30,40,50])\n",
    "arr[1:5:3]"
   ]
  },
  {
   "cell_type": "code",
   "execution_count": 9,
   "id": "72e9aaca",
   "metadata": {},
   "outputs": [
    {
     "data": {
      "text/plain": [
       "array([ 0,  1,  2,  3,  4,  5,  6,  7,  8,  9, 10])"
      ]
     },
     "execution_count": 9,
     "metadata": {},
     "output_type": "execute_result"
    }
   ],
   "source": [
    "# Reset array, we'll see why I had to reset in  a moment\n",
    "arr = np.arange(0,11)\n",
    "\n",
    "#Show\n",
    "arr\n"
   ]
  },
  {
   "cell_type": "code",
   "execution_count": 3,
   "id": "aa000cc1",
   "metadata": {},
   "outputs": [
    {
     "ename": "TypeError",
     "evalue": "'module' object is not callable",
     "output_type": "error",
     "traceback": [
      "\u001b[1;31m---------------------------------------------------------------------------\u001b[0m",
      "\u001b[1;31mTypeError\u001b[0m                                 Traceback (most recent call last)",
      "Input \u001b[1;32mIn [3]\u001b[0m, in \u001b[0;36m<cell line: 4>\u001b[1;34m()\u001b[0m\n\u001b[0;32m      2\u001b[0m \u001b[38;5;28;01mimport\u001b[39;00m \u001b[38;5;21;01mrandom\u001b[39;00m \u001b[38;5;28;01mas\u001b[39;00m \u001b[38;5;21;01mrandn\u001b[39;00m\n\u001b[0;32m      3\u001b[0m np\u001b[38;5;241m.\u001b[39mrandom\u001b[38;5;241m.\u001b[39mseed(\u001b[38;5;241m101\u001b[39m)\n\u001b[1;32m----> 4\u001b[0m \u001b[43mrandn\u001b[49m\u001b[43m(\u001b[49m\u001b[38;5;241;43m5\u001b[39;49m\u001b[43m,\u001b[49m\u001b[38;5;241;43m4\u001b[39;49m\u001b[43m)\u001b[49m\n",
      "\u001b[1;31mTypeError\u001b[0m: 'module' object is not callable"
     ]
    }
   ],
   "source": [
    "import numpy as np\n",
    "import random as randn\n",
    "np.random.seed(101)\n",
    "randn(5,4)"
   ]
  },
  {
   "cell_type": "code",
   "execution_count": 4,
   "id": "cc6a8240",
   "metadata": {},
   "outputs": [
    {
     "ename": "NameError",
     "evalue": "name 'pd' is not defined",
     "output_type": "error",
     "traceback": [
      "\u001b[1;31m---------------------------------------------------------------------------\u001b[0m",
      "\u001b[1;31mNameError\u001b[0m                                 Traceback (most recent call last)",
      "Input \u001b[1;32mIn [4]\u001b[0m, in \u001b[0;36m<cell line: 1>\u001b[1;34m()\u001b[0m\n\u001b[1;32m----> 1\u001b[0m df \u001b[38;5;241m=\u001b[39m \u001b[43mpd\u001b[49m\u001b[38;5;241m.\u001b[39mDataFrame(randn(\u001b[38;5;241m5\u001b[39m,\u001b[38;5;241m4\u001b[39m),index\u001b[38;5;241m=\u001b[39m\u001b[38;5;124m'\u001b[39m\u001b[38;5;124mA B C D E\u001b[39m\u001b[38;5;124m'\u001b[39m\u001b[38;5;241m.\u001b[39msplit(),columns\u001b[38;5;241m=\u001b[39m\u001b[38;5;124m'\u001b[39m\u001b[38;5;124mW X Y Z\u001b[39m\u001b[38;5;124m'\u001b[39m\u001b[38;5;241m.\u001b[39msplit())\n\u001b[0;32m      2\u001b[0m df\n",
      "\u001b[1;31mNameError\u001b[0m: name 'pd' is not defined"
     ]
    }
   ],
   "source": [
    "df = pd.DataFrame(randn(5,4),index='A B C D E'.split(),columns='W X Y Z'.split())\n",
    "df\n"
   ]
  },
  {
   "cell_type": "code",
   "execution_count": 5,
   "id": "3d4ba84e",
   "metadata": {},
   "outputs": [
    {
     "ename": "NameError",
     "evalue": "name 'pd' is not defined",
     "output_type": "error",
     "traceback": [
      "\u001b[1;31m---------------------------------------------------------------------------\u001b[0m",
      "\u001b[1;31mNameError\u001b[0m                                 Traceback (most recent call last)",
      "Input \u001b[1;32mIn [5]\u001b[0m, in \u001b[0;36m<cell line: 1>\u001b[1;34m()\u001b[0m\n\u001b[1;32m----> 1\u001b[0m df \u001b[38;5;241m=\u001b[39m \u001b[43mpd\u001b[49m\u001b[38;5;241m.\u001b[39mDataFrame({\u001b[38;5;124m'\u001b[39m\u001b[38;5;124mA\u001b[39m\u001b[38;5;124m'\u001b[39m:[\u001b[38;5;241m1\u001b[39m,\u001b[38;5;241m2\u001b[39m,np\u001b[38;5;241m.\u001b[39mnan,\u001b[38;5;241m1\u001b[39m,\u001b[38;5;241m1\u001b[39m,\u001b[38;5;241m1\u001b[39m],\n\u001b[0;32m      2\u001b[0m                   \u001b[38;5;124m'\u001b[39m\u001b[38;5;124mB\u001b[39m\u001b[38;5;124m'\u001b[39m:[\u001b[38;5;241m5\u001b[39m,np\u001b[38;5;241m.\u001b[39mnan,np\u001b[38;5;241m.\u001b[39mnan,\u001b[38;5;241m2\u001b[39m,\u001b[38;5;241m2\u001b[39m,\u001b[38;5;241m2\u001b[39m],\n\u001b[0;32m      3\u001b[0m                   \u001b[38;5;124m'\u001b[39m\u001b[38;5;124mC\u001b[39m\u001b[38;5;124m'\u001b[39m:[\u001b[38;5;241m1\u001b[39m,\u001b[38;5;241m2\u001b[39m,\u001b[38;5;241m3\u001b[39m,\u001b[38;5;241m1\u001b[39m,\u001b[38;5;241m2\u001b[39m,\u001b[38;5;241m3\u001b[39m]})\n",
      "\u001b[1;31mNameError\u001b[0m: name 'pd' is not defined"
     ]
    }
   ],
   "source": [
    "df = pd.DataFrame({'A':[1,2,np.nan,1,1,1],\n",
    "                  'B':[5,np.nan,np.nan,2,2,2],\n",
    "                  'C':[1,2,3,1,2,3]})\n"
   ]
  },
  {
   "cell_type": "code",
   "execution_count": 6,
   "id": "c6f8291d",
   "metadata": {},
   "outputs": [
    {
     "ename": "NameError",
     "evalue": "name 'df' is not defined",
     "output_type": "error",
     "traceback": [
      "\u001b[1;31m---------------------------------------------------------------------------\u001b[0m",
      "\u001b[1;31mNameError\u001b[0m                                 Traceback (most recent call last)",
      "Input \u001b[1;32mIn [6]\u001b[0m, in \u001b[0;36m<cell line: 1>\u001b[1;34m()\u001b[0m\n\u001b[1;32m----> 1\u001b[0m \u001b[43mdf\u001b[49m\u001b[38;5;241m.\u001b[39mfillna(df[\u001b[38;5;124m'\u001b[39m\u001b[38;5;124mC\u001b[39m\u001b[38;5;124m'\u001b[39m]\u001b[38;5;241m.\u001b[39mmode()[\u001b[38;5;241m0\u001b[39m])\n",
      "\u001b[1;31mNameError\u001b[0m: name 'df' is not defined"
     ]
    }
   ],
   "source": [
    "df.fillna(df['C'].mode()[0])\n"
   ]
  },
  {
   "cell_type": "code",
   "execution_count": null,
   "id": "f02bd205",
   "metadata": {},
   "outputs": [],
   "source": [
    "import pandas as pd\n",
    "import numpy as np"
   ]
  },
  {
   "cell_type": "code",
   "execution_count": 1,
   "id": "178c7b5d",
   "metadata": {},
   "outputs": [
    {
     "ename": "NameError",
     "evalue": "name 'pd' is not defined",
     "output_type": "error",
     "traceback": [
      "\u001b[1;31m---------------------------------------------------------------------------\u001b[0m",
      "\u001b[1;31mNameError\u001b[0m                                 Traceback (most recent call last)",
      "Input \u001b[1;32mIn [1]\u001b[0m, in \u001b[0;36m<cell line: 1>\u001b[1;34m()\u001b[0m\n\u001b[1;32m----> 1\u001b[0m df \u001b[38;5;241m=\u001b[39m \u001b[43mpd\u001b[49m\u001b[38;5;241m.\u001b[39mread_csv(\u001b[38;5;124m'\u001b[39m\u001b[38;5;124mcs2m.csv\u001b[39m\u001b[38;5;124m'\u001b[39m)\n",
      "\u001b[1;31mNameError\u001b[0m: name 'pd' is not defined"
     ]
    }
   ],
   "source": [
    "df = pd.read_csv('cs2m.csv')"
   ]
  },
  {
   "cell_type": "code",
   "execution_count": 1,
   "id": "e092d0b0",
   "metadata": {},
   "outputs": [],
   "source": [
    "import pandas as pd\n",
    "# Create dataframe\n",
    "data = {'Company':['GOOG','GOOG','MSFT','MSFT','FB','FB'],\n",
    "       'Person':['Sam','Charlie','Amy','Vanessa','Carl','Sarah'],\n",
    "       'Sales':[200,120,340,124,243,350]}\n"
   ]
  },
  {
   "cell_type": "code",
   "execution_count": 2,
   "id": "1aa9b3ac",
   "metadata": {},
   "outputs": [],
   "source": [
    "df = pd.DataFrame(data)\n"
   ]
  },
  {
   "cell_type": "code",
   "execution_count": 3,
   "id": "4ad999d5",
   "metadata": {},
   "outputs": [
    {
     "data": {
      "text/plain": [
       "<pandas.core.groupby.generic.DataFrameGroupBy object at 0x0000025FBC5717C0>"
      ]
     },
     "execution_count": 3,
     "metadata": {},
     "output_type": "execute_result"
    }
   ],
   "source": [
    "df.groupby('Company')\n"
   ]
  },
  {
   "cell_type": "code",
   "execution_count": 4,
   "id": "ddee969a",
   "metadata": {},
   "outputs": [
    {
     "ename": "NameError",
     "evalue": "name 'by_comp' is not defined",
     "output_type": "error",
     "traceback": [
      "\u001b[1;31m---------------------------------------------------------------------------\u001b[0m",
      "\u001b[1;31mNameError\u001b[0m                                 Traceback (most recent call last)",
      "Input \u001b[1;32mIn [4]\u001b[0m, in \u001b[0;36m<cell line: 1>\u001b[1;34m()\u001b[0m\n\u001b[1;32m----> 1\u001b[0m \u001b[43mby_comp\u001b[49m\u001b[38;5;241m.\u001b[39mmean()\n",
      "\u001b[1;31mNameError\u001b[0m: name 'by_comp' is not defined"
     ]
    }
   ],
   "source": [
    "by_comp.mean()\n"
   ]
  },
  {
   "cell_type": "code",
   "execution_count": null,
   "id": "c56aea85",
   "metadata": {},
   "outputs": [],
   "source": []
  }
 ],
 "metadata": {
  "kernelspec": {
   "display_name": "Python 3 (ipykernel)",
   "language": "python",
   "name": "python3"
  },
  "language_info": {
   "codemirror_mode": {
    "name": "ipython",
    "version": 3
   },
   "file_extension": ".py",
   "mimetype": "text/x-python",
   "name": "python",
   "nbconvert_exporter": "python",
   "pygments_lexer": "ipython3",
   "version": "3.9.12"
  }
 },
 "nbformat": 4,
 "nbformat_minor": 5
}
