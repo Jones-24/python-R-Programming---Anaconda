{
 "cells": [
  {
   "cell_type": "markdown",
   "id": "c5fe87a5",
   "metadata": {},
   "source": [
    "# CLASS"
   ]
  },
  {
   "cell_type": "code",
   "execution_count": 3,
   "id": "331cc0a4",
   "metadata": {},
   "outputs": [
    {
     "name": "stdout",
     "output_type": "stream",
     "text": [
      "jones\n",
      "24\n",
      "jones 24\n"
     ]
    }
   ],
   "source": [
    "class Student:\n",
    "    name=\"jones\"\n",
    "    roll_no=24\n",
    "student1 = Student()\n",
    "print(student1.name)\n",
    "print(student1.roll_no)\n",
    "print(student1.name,student1.roll_no)\n"
   ]
  },
  {
   "cell_type": "code",
   "execution_count": 4,
   "id": "ce56163d",
   "metadata": {},
   "outputs": [],
   "source": [
    "class Employee:\n",
    "    empid=99\n",
    "    name=\"raj\"\n",
    "    salary= 90000\n",
    "    designation=\"operation manger\"\n",
    "    def show (self):\n",
    "        print(\"name\", self.name)\n",
    "        print(\"salary\", self.salary)\n",
    "        print(\"designation\", self.designation)\n",
    "        s= Employee()\n",
    "        s.show"
   ]
  },
  {
   "cell_type": "code",
   "execution_count": 5,
   "id": "9d541d82",
   "metadata": {},
   "outputs": [
    {
     "name": "stdout",
     "output_type": "stream",
     "text": [
      "hi i am jones from Della Infotech\n",
      "i live and work in trichy\n"
     ]
    }
   ],
   "source": [
    "class Sample:\n",
    "    def __init__(self):\n",
    "        print(\"hi i am jones from Della Infotech\")\n",
    "    def display(self):\n",
    "        print(\"i live and work in trichy\")\n",
    "        \n",
    "        \n",
    "s=Sample()\n",
    "s.display()"
   ]
  },
  {
   "cell_type": "code",
   "execution_count": 6,
   "id": "c7333955",
   "metadata": {},
   "outputs": [
    {
     "name": "stdout",
     "output_type": "stream",
     "text": [
      "name: naveen\n",
      "roll_no 23\n",
      "marks: 80\n",
      "name: jones\n",
      "roll_no 25\n",
      "marks: 89\n"
     ]
    }
   ],
   "source": [
    "class Student:\n",
    "    def __init__(self,n,r,m):\n",
    "        self.name=n\n",
    "        self.roll_no=r\n",
    "        self.marks=m\n",
    "    def display(self):\n",
    "        print(\"name:\",self.name)\n",
    "        print(\"roll_no\",self.roll_no)\n",
    "        print(\"marks:\",self.marks)\n",
    "        \n",
    "s1=Student(\"naveen\",23,80)\n",
    "s1.display()\n",
    "s2=Student(\"jones\",25,89)\n",
    "s2.display()"
   ]
  },
  {
   "cell_type": "code",
   "execution_count": 8,
   "id": "6aa87018",
   "metadata": {},
   "outputs": [
    {
     "name": "stdout",
     "output_type": "stream",
     "text": [
      "area of circle 113.04\n",
      "area of circle 1808.64\n"
     ]
    }
   ],
   "source": [
    "class Circle:\n",
    "    def __init__(self,r):\n",
    "        self.pi=3.14\n",
    "        self.radius=r\n",
    "    def area(self):\n",
    "        area=self.pi*(self.radius**2)\n",
    "        print(\"area of circle\",area)\n",
    "        \n",
    "        \n",
    "a1=Circle(6)\n",
    "a1.area()\n",
    "\n",
    "a2=Circle(24)\n",
    "a2.area()"
   ]
  },
  {
   "cell_type": "code",
   "execution_count": 10,
   "id": "92df1be1",
   "metadata": {},
   "outputs": [
    {
     "name": "stdout",
     "output_type": "stream",
     "text": [
      "1\n",
      "2\n",
      "3\n",
      "4\n",
      "5\n",
      "9\n"
     ]
    }
   ],
   "source": [
    "class ListSample:\n",
    "    def __init__(self,l=[]):\n",
    "        self.list1=l\n",
    "        for i in self.list1:\n",
    "            print(i)\n",
    "            \n",
    "\n",
    "list2=[1,2,3,4,5,9]\n",
    "lt=ListSample(list2)"
   ]
  },
  {
   "cell_type": "code",
   "execution_count": null,
   "id": "0623809d",
   "metadata": {},
   "outputs": [
    {
     "name": "stdout",
     "output_type": "stream",
     "text": [
      "enter namejones\n",
      "enter departmentengg\n",
      "enter salry31000\n"
     ]
    }
   ],
   "source": [
    "class Example:\n",
    "\n",
    "    def __init__(self,name,department,salary):\n",
    "        self.name=name\n",
    "        self.department=department\n",
    "        self.salary=salary\n",
    "        \n",
    "    def display(self):\n",
    "        print(self.name,self.department,self.salary)\n",
    "        \n",
    "        \n",
    "        \n",
    "e1=Example(input(\"enter name\"),input(\"enter department\"),int(input(\"enter salry\")))\n",
    "e2=Example(input(\"enter name\"),input(\"enter department\"),int(input(\"enter salry\")))\n",
    "e1.display()\n",
    "e2.display()\n",
    "e3=e2\n",
    "e3.display()"
   ]
  },
  {
   "cell_type": "code",
   "execution_count": 1,
   "id": "269408fe",
   "metadata": {},
   "outputs": [
    {
     "name": "stdout",
     "output_type": "stream",
     "text": [
      "90\n",
      "45\n",
      "10\n",
      "45\n"
     ]
    }
   ],
   "source": [
    "class Example:\n",
    "    a=10 #class variable/global\n",
    "    def display(self):\n",
    "        a=45#local variable\n",
    "        print(self.a)\n",
    "        print(a)\n",
    "    \n",
    "e=Example()\n",
    "\n",
    "e.a=90 #obj.variable I will access class variable only\n",
    "e.display()\n",
    "\n",
    "e2=Example()\n",
    "e2.display()\n"
   ]
  },
  {
   "cell_type": "code",
   "execution_count": 2,
   "id": "7bb455c6",
   "metadata": {},
   "outputs": [
    {
     "name": "stdout",
     "output_type": "stream",
     "text": [
      "12\n",
      "100\n",
      "50\n",
      "100\n"
     ]
    }
   ],
   "source": [
    "class Ex:\n",
    "    globalvalue=34\n",
    "    def show(self):\n",
    "        localvalue=100\n",
    "        print(self.globalvalue)\n",
    "        print(localvalue)\n",
    "        \n",
    "obj1=Ex()\n",
    "obj2=Ex()\n",
    "\n",
    "obj1.globalvalue=12\n",
    "obj2.globalvalue=50\n",
    "\n",
    "obj1.show()\n",
    "obj2.show()\n"
   ]
  },
  {
   "cell_type": "code",
   "execution_count": 3,
   "id": "3c04fd3f",
   "metadata": {},
   "outputs": [
    {
     "name": "stdout",
     "output_type": "stream",
     "text": [
      "i have been called implicitly and c = 1\n",
      "i have been called implicitly and c = 2\n",
      "i have been called implicitly and c = 3\n"
     ]
    }
   ],
   "source": [
    "class Count:\n",
    "    c=0\n",
    "    def __init__(self):\n",
    "        Count.c=Count.c+1 #static variable\n",
    "        print(\"i have been called implicitly and c =\",Count.c)\n",
    "    def display(self):\n",
    "        print(\"you need to call me externally\")\n",
    "        \n",
    "c1=Count()\n",
    "c2=Count()\n",
    "c3=Count()\n"
   ]
  },
  {
   "cell_type": "code",
   "execution_count": 4,
   "id": "903f3a3e",
   "metadata": {},
   "outputs": [
    {
     "name": "stdout",
     "output_type": "stream",
     "text": [
      "EduBridge\n",
      "1\n",
      "ruby\n",
      "89\n",
      "EduBridge\n",
      "2\n",
      "xyz\n",
      "90\n"
     ]
    }
   ],
   "source": [
    "class Student:\n",
    "    university=\"EduBridge\"\n",
    "    def __init__(self,r,n,m):\n",
    "        self.rollno=r\n",
    "        self.name=n\n",
    "        self.marks=m\n",
    "        print(Student.university) #classname.variablename common for objects\n",
    "        print(self.rollno) #self= separate copy for all objcets\n",
    "        print(self.name)\n",
    "        print(self.marks)\n",
    "        \n",
    "        \n",
    "s1=Student(1,\"ruby\",89)\n",
    "\n",
    "\n",
    "s2=Student(2,\"xyz\",90)\n"
   ]
  },
  {
   "cell_type": "code",
   "execution_count": null,
   "id": "0caabd26",
   "metadata": {},
   "outputs": [],
   "source": [
    "class Drivebot:\n",
    "    robot_count=0\n",
    "\n",
    "    def __int__(self, motor_speed = 0, direction = 90, sensor_range = 24):\n",
    "        self.motor_speed = motor_speed\n",
    "        self.direction = direction\n",
    "        self.sensor_range = sensor_range\n",
    "        drivebot.robot_count =1\n",
    "    "
   ]
  }
 ],
 "metadata": {
  "kernelspec": {
   "display_name": "Python 3 (ipykernel)",
   "language": "python",
   "name": "python3"
  },
  "language_info": {
   "codemirror_mode": {
    "name": "ipython",
    "version": 3
   },
   "file_extension": ".py",
   "mimetype": "text/x-python",
   "name": "python",
   "nbconvert_exporter": "python",
   "pygments_lexer": "ipython3",
   "version": "3.9.12"
  }
 },
 "nbformat": 4,
 "nbformat_minor": 5
}
