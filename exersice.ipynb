{
 "cells": [
  {
   "cell_type": "code",
   "execution_count": 4,
   "id": "4f9dbe90",
   "metadata": {},
   "outputs": [
    {
     "name": "stdout",
     "output_type": "stream",
     "text": [
      "enter number12\n",
      "479001600\n"
     ]
    }
   ],
   "source": [
    "#factorial\n",
    "n=int(input(\"enter number\"))\n",
    "i=1\n",
    "f=1\n",
    "while i<=n:\n",
    "    f=f*i\n",
    "    i=i+1\n",
    "    \n",
    "print(f)\n"
   ]
  },
  {
   "cell_type": "code",
   "execution_count": 3,
   "id": "27633dc6",
   "metadata": {},
   "outputs": [
    {
     "name": "stdout",
     "output_type": "stream",
     "text": [
      "enter the number6\n",
      "6 * 1 - 6\n",
      "6 * 2 - 12\n",
      "6 * 3 - 18\n",
      "6 * 4 - 24\n",
      "6 * 5 - 30\n",
      "6 * 6 - 36\n",
      "6 * 7 - 42\n",
      "6 * 8 - 48\n",
      "6 * 9 - 54\n",
      "6 * 10 - 60\n"
     ]
    }
   ],
   "source": [
    "#factorial of 6\n",
    "n=int(input(\"enter the number\"))\n",
    "i=1\n",
    "while i<=10:\n",
    "    print(n,\"*\",i,\"-\",n*i)\n",
    "    i=i+1"
   ]
  },
  {
   "cell_type": "code",
   "execution_count": 2,
   "id": "f5515da6",
   "metadata": {},
   "outputs": [
    {
     "name": "stdout",
     "output_type": "stream",
     "text": [
      "enetr the number25\n",
      "1 4 9 16 25 36 49 64 81 100 121 144 169 196 225 256 289 324 361 400 441 484 529 576 625 "
     ]
    }
   ],
   "source": [
    "#series of square\n",
    "n=int(input(\"enetr the number\"))\n",
    "i=1\n",
    "while i<=n:\n",
    "    print(i*i,end=\" \")\n",
    "    i=i+1"
   ]
  },
  {
   "cell_type": "code",
   "execution_count": 9,
   "id": "e9d7f112",
   "metadata": {},
   "outputs": [
    {
     "name": "stdout",
     "output_type": "stream",
     "text": [
      "enter the number10\n",
      "01"
     ]
    }
   ],
   "source": [
    "#reverse series\n",
    "n=int(input(\"enter the number\"))\n",
    "r=0\n",
    "while n>0:\n",
    "    r=n%10\n",
    "    print(r,end=\"\")\n",
    "    n=n//10\n",
    "    \n",
    "    "
   ]
  },
  {
   "cell_type": "code",
   "execution_count": 11,
   "id": "8906e609",
   "metadata": {},
   "outputs": [
    {
     "name": "stdout",
     "output_type": "stream",
     "text": [
      "enter no of terms u want in fibonacci series15\n",
      "0\n",
      "1\n",
      "1\n",
      "2\n",
      "3\n",
      "5\n",
      "8\n",
      "13\n",
      "21\n",
      "34\n",
      "55\n",
      "89\n",
      "144\n",
      "233\n",
      "377\n"
     ]
    }
   ],
   "source": [
    "n=int(input(\"enter no of terms u want in fibonacci series\"))\n",
    "f1=0\n",
    "f2=1\n",
    "print(f1)\n",
    "print(f2)\n",
    "term=3\n",
    "while term<=n:\n",
    "    f3=f1+f2\n",
    "    print(f3)\n",
    "    f1=f2\n",
    "    f2=f3\n",
    "    term=term+1\n"
   ]
  },
  {
   "cell_type": "code",
   "execution_count": 4,
   "id": "0d11cde8",
   "metadata": {},
   "outputs": [
    {
     "name": "stdout",
     "output_type": "stream",
     "text": [
      "Enter the Number: \n",
      "121\n",
      "\n",
      "It is a P Number\n"
     ]
    }
   ],
   "source": [
    "#palindrome Number \n",
    "print(\"Enter the Number: \")\n",
    "num=int(input())\n",
    "rev=0\n",
    "temp=num\n",
    "while temp>0:\n",
    "    rem=temp%10\n",
    "    rev=rem+(rev*10)\n",
    "    temp=int(temp/10)\n",
    "if rev==num:\n",
    "    print(\"\\nIt is a P Number\")\n",
    "else:\n",
    "    print(\"\\nIt is not a P Number\")"
   ]
  },
  {
   "cell_type": "code",
   "execution_count": 6,
   "id": "95be02b5",
   "metadata": {},
   "outputs": [
    {
     "name": "stdout",
     "output_type": "stream",
     "text": [
      "palindrome\n"
     ]
    }
   ],
   "source": [
    "n=121\n",
    "num=n\n",
    "rv=0\n",
    "\n",
    "while n>0:\n",
    "    r=n%10\n",
    "    rv=rv*10+r\n",
    "    n=n//10\n",
    "\n",
    "\n",
    "if rv==num:\n",
    "    print(\"palindrome\")\n",
    "else:\n",
    "    print(\"not palindrome\")\n",
    "\n"
   ]
  },
  {
   "cell_type": "code",
   "execution_count": 7,
   "id": "0ffea71f",
   "metadata": {},
   "outputs": [
    {
     "name": "stdout",
     "output_type": "stream",
     "text": [
      "enter number125\n",
      "not armstrong\n"
     ]
    }
   ],
   "source": [
    "#armstrong\n",
    "n=int(input(\"enter number\"))\n",
    "num=n\n",
    "sum=0\n",
    "\n",
    "while n>0:\n",
    "    r=n%10\n",
    "    sum=sum+r**3\n",
    "    n=n//10\n",
    "\n",
    "\n",
    "if sum==num:\n",
    "    print(\"Armstrong\")\n",
    "else:\n",
    "    print(\"not armstrong\")\n"
   ]
  },
  {
   "cell_type": "code",
   "execution_count": 8,
   "id": "7867103d",
   "metadata": {},
   "outputs": [
    {
     "name": "stdout",
     "output_type": "stream",
     "text": [
      "2 "
     ]
    }
   ],
   "source": [
    "#only even number (armstrong)\n",
    "n=125\n",
    "while n>0:\n",
    "    r=n%10\n",
    "    if r%2==0:\n",
    "        print(r,end=\" \")\n",
    "    n=n//10\n"
   ]
  },
  {
   "cell_type": "code",
   "execution_count": 11,
   "id": "cd782b21",
   "metadata": {},
   "outputs": [
    {
     "name": "stdout",
     "output_type": "stream",
     "text": [
      "8\n"
     ]
    }
   ],
   "source": [
    "#sum (Armstrong)\n",
    "n=125\n",
    "sum=0\n",
    "while n>0:\n",
    "    r=n%10\n",
    "    sum=sum+r\n",
    "    n=n//10\n",
    "    \n",
    "print(sum)\n"
   ]
  },
  {
   "cell_type": "code",
   "execution_count": 10,
   "id": "eda0df46",
   "metadata": {},
   "outputs": [],
   "source": [
    "#sequence of charcaters is known as string\n",
    "#anything written in '',\"\",''' ''',\"\"\"\"\"\" is string\n",
    "#used to manage text, character data etc\n"
   ]
  },
  {
   "cell_type": "code",
   "execution_count": 12,
   "id": "04d6a2b4",
   "metadata": {},
   "outputs": [
    {
     "data": {
      "text/plain": [
       "True"
      ]
     },
     "execution_count": 12,
     "metadata": {},
     "output_type": "execute_result"
    }
   ],
   "source": [
    "name = 'amruta'\n",
    "name2 = \"amruta\"\n",
    "name\n",
    "name == name2"
   ]
  },
  {
   "cell_type": "code",
   "execution_count": 13,
   "id": "11a951d7",
   "metadata": {},
   "outputs": [
    {
     "data": {
      "text/plain": [
       "str"
      ]
     },
     "execution_count": 13,
     "metadata": {},
     "output_type": "execute_result"
    }
   ],
   "source": [
    "n=\"123456789\"\n",
    "type(n)\n",
    "roll_no = \"IT1002\"\n",
    "type(roll_no)\n"
   ]
  },
  {
   "cell_type": "code",
   "execution_count": 15,
   "id": "5c7d68ba",
   "metadata": {},
   "outputs": [],
   "source": [
    "#in string index starts with 0 to n-1\n",
    "#0-n-1 indexing called as forward indexing\n",
    "#when you want to access last element you can perform backward indexing (negative indexing)\n",
    "#negative indexing starts with -1\n",
    "\n"
   ]
  },
  {
   "cell_type": "code",
   "execution_count": 18,
   "id": "e5e21b1a",
   "metadata": {},
   "outputs": [
    {
     "data": {
      "text/plain": [
       "'t'"
      ]
     },
     "execution_count": 18,
     "metadata": {},
     "output_type": "execute_result"
    }
   ],
   "source": [
    "name =\"amruta\"\n",
    "name[0]\n",
    "#space is character\n",
    "name[1] = a\n",
    "name[4]=t\n",
    "name[-1] = a\n",
    "name[-2]=t\n",
    "\n"
   ]
  },
  {
   "cell_type": "code",
   "execution_count": 11,
   "id": "b876c7c9",
   "metadata": {},
   "outputs": [
    {
     "ename": "NameError",
     "evalue": "name 'name' is not defined",
     "output_type": "error",
     "traceback": [
      "\u001b[1;31m---------------------------------------------------------------------------\u001b[0m",
      "\u001b[1;31mNameError\u001b[0m                                 Traceback (most recent call last)",
      "Input \u001b[1;32mIn [11]\u001b[0m, in \u001b[0;36m<cell line: 4>\u001b[1;34m()\u001b[0m\n\u001b[0;32m      1\u001b[0m \u001b[38;5;66;03m#slicing\u001b[39;00m\n\u001b[0;32m      2\u001b[0m \u001b[38;5;66;03m#start:end(3 is not inclusive) 0-1-2\u001b[39;00m\n\u001b[1;32m----> 4\u001b[0m \u001b[43mname\u001b[49m [\u001b[38;5;241m0\u001b[39m:\u001b[38;5;241m3\u001b[39m] \n\u001b[0;32m      6\u001b[0m name [\u001b[38;5;241m1\u001b[39m:\u001b[38;5;241m2\u001b[39m]\n",
      "\u001b[1;31mNameError\u001b[0m: name 'name' is not defined"
     ]
    }
   ],
   "source": [
    "#slicing\n",
    "#start:end(3 is not inclusive) 0-1-2\n",
    "\n",
    "name [0:3] \n",
    "\n",
    "name [1:2]\n"
   ]
  },
  {
   "cell_type": "code",
   "execution_count": 6,
   "id": "2eecd80e",
   "metadata": {},
   "outputs": [
    {
     "data": {
      "text/plain": [
       "65"
      ]
     },
     "execution_count": 6,
     "metadata": {},
     "output_type": "execute_result"
    }
   ],
   "source": [
    "ord('A')\n"
   ]
  },
  {
   "cell_type": "code",
   "execution_count": 7,
   "id": "c800708a",
   "metadata": {},
   "outputs": [
    {
     "data": {
      "text/plain": [
       "30"
      ]
     },
     "execution_count": 7,
     "metadata": {},
     "output_type": "execute_result"
    }
   ],
   "source": [
    "data = \"this is string , lets learn it\"\n",
    "len(data)\n"
   ]
  },
  {
   "cell_type": "code",
   "execution_count": 8,
   "id": "a6cfcda6",
   "metadata": {},
   "outputs": [
    {
     "data": {
      "text/plain": [
       "'this is string , lets learn it'"
      ]
     },
     "execution_count": 8,
     "metadata": {},
     "output_type": "execute_result"
    }
   ],
   "source": [
    "data.lower()\n"
   ]
  },
  {
   "cell_type": "code",
   "execution_count": 9,
   "id": "4535dee6",
   "metadata": {},
   "outputs": [
    {
     "data": {
      "text/plain": [
       "'THIS IS STRING , LETS LEARN IT'"
      ]
     },
     "execution_count": 9,
     "metadata": {},
     "output_type": "execute_result"
    }
   ],
   "source": [
    "data.upper()\n"
   ]
  },
  {
   "cell_type": "code",
   "execution_count": 12,
   "id": "d9aa72b6",
   "metadata": {},
   "outputs": [
    {
     "data": {
      "text/plain": [
       "6"
      ]
     },
     "execution_count": 12,
     "metadata": {},
     "output_type": "execute_result"
    }
   ],
   "source": [
    "data= \"hi mam\"\n",
    "len(data)"
   ]
  },
  {
   "cell_type": "code",
   "execution_count": 13,
   "id": "3e3d7a46",
   "metadata": {},
   "outputs": [
    {
     "data": {
      "text/plain": [
       "'HI MAM'"
      ]
     },
     "execution_count": 13,
     "metadata": {},
     "output_type": "execute_result"
    }
   ],
   "source": [
    "data.upper()"
   ]
  },
  {
   "cell_type": "code",
   "execution_count": 15,
   "id": "df6f593f",
   "metadata": {},
   "outputs": [
    {
     "data": {
      "text/plain": [
       "'j'"
      ]
     },
     "execution_count": 15,
     "metadata": {},
     "output_type": "execute_result"
    }
   ],
   "source": [
    "name =\"jones\"\n",
    "name[0]"
   ]
  },
  {
   "cell_type": "code",
   "execution_count": 16,
   "id": "03044fda",
   "metadata": {},
   "outputs": [
    {
     "data": {
      "text/plain": [
       "'e'"
      ]
     },
     "execution_count": 16,
     "metadata": {},
     "output_type": "execute_result"
    }
   ],
   "source": [
    "name[-2]"
   ]
  },
  {
   "cell_type": "code",
   "execution_count": 17,
   "id": "22478eea",
   "metadata": {},
   "outputs": [
    {
     "data": {
      "text/plain": [
       "''"
      ]
     },
     "execution_count": 17,
     "metadata": {},
     "output_type": "execute_result"
    }
   ],
   "source": [
    "name[2:-3]"
   ]
  },
  {
   "cell_type": "code",
   "execution_count": 18,
   "id": "305bd64a",
   "metadata": {},
   "outputs": [
    {
     "name": "stdout",
     "output_type": "stream",
     "text": [
      "str1 + str2 =  Hello World!\n"
     ]
    }
   ],
   "source": [
    "# Python String Operations\n",
    "str1 = 'Hello'\n",
    "str2 =' World!'\n",
    "str3=str1 + str2\n",
    "# using +\n",
    "#concatenation\n",
    "\n",
    "print('str1 + str2 = ', str3)\n"
   ]
  },
  {
   "cell_type": "code",
   "execution_count": 19,
   "id": "67a53ba4",
   "metadata": {},
   "outputs": [
    {
     "name": "stdout",
     "output_type": "stream",
     "text": [
      "str1 * 3 = HelloHelloHelloHelloHello\n"
     ]
    }
   ],
   "source": [
    "# using *\n",
    "#repeatition\n",
    "print('str1 * 3 =', str1 * 5)\n"
   ]
  },
  {
   "cell_type": "code",
   "execution_count": 20,
   "id": "d8b05568",
   "metadata": {},
   "outputs": [
    {
     "name": "stdout",
     "output_type": "stream",
     "text": [
      "H\n",
      "e\n",
      "l\n",
      "l\n",
      "o\n",
      " \n",
      "W\n",
      "o\n",
      "r\n",
      "l\n",
      "d\n",
      "!\n"
     ]
    }
   ],
   "source": [
    "for i in str3:\n",
    "    print(i)\n"
   ]
  },
  {
   "cell_type": "code",
   "execution_count": 21,
   "id": "b28472b0",
   "metadata": {},
   "outputs": [
    {
     "name": "stdout",
     "output_type": "stream",
     "text": [
      "present\n"
     ]
    }
   ],
   "source": [
    "if 'Hello' in str1:\n",
    "    print(\"present\")\n",
    "else:\n",
    "    print(\"not present\")\n"
   ]
  },
  {
   "cell_type": "code",
   "execution_count": 22,
   "id": "70a049a1",
   "metadata": {},
   "outputs": [
    {
     "name": "stdout",
     "output_type": "stream",
     "text": [
      "not present\n"
     ]
    }
   ],
   "source": [
    "if 'hello' not in str1:\n",
    "    print(\"not present\")\n",
    "else:\n",
    "    print(\"present\")\n"
   ]
  },
  {
   "cell_type": "code",
   "execution_count": 23,
   "id": "45ef5963",
   "metadata": {},
   "outputs": [
    {
     "data": {
      "text/plain": [
       "'Hello world'"
      ]
     },
     "execution_count": 23,
     "metadata": {},
     "output_type": "execute_result"
    }
   ],
   "source": [
    "str.capitalize(\"hello world\")\n"
   ]
  },
  {
   "cell_type": "code",
   "execution_count": 24,
   "id": "bad8b51d",
   "metadata": {},
   "outputs": [
    {
     "data": {
      "text/plain": [
       "2"
      ]
     },
     "execution_count": 24,
     "metadata": {},
     "output_type": "execute_result"
    }
   ],
   "source": [
    "str1.find(\"l\")\n"
   ]
  },
  {
   "cell_type": "code",
   "execution_count": 25,
   "id": "ba6fbbea",
   "metadata": {},
   "outputs": [
    {
     "data": {
      "text/plain": [
       "'Yello'"
      ]
     },
     "execution_count": 25,
     "metadata": {},
     "output_type": "execute_result"
    }
   ],
   "source": [
    "str1.replace(\"H\",\"Y\")\n"
   ]
  },
  {
   "cell_type": "code",
   "execution_count": 26,
   "id": "4f8f6001",
   "metadata": {},
   "outputs": [
    {
     "data": {
      "text/plain": [
       "['this', 'is', 'string', ',', 'lets', 'learn', 'it']"
      ]
     },
     "execution_count": 26,
     "metadata": {},
     "output_type": "execute_result"
    }
   ],
   "source": [
    "data = \"this is string , lets learn it\"\n",
    "data.split(\" \")\n"
   ]
  },
  {
   "cell_type": "code",
   "execution_count": 27,
   "id": "c8d488a8",
   "metadata": {},
   "outputs": [
    {
     "name": "stdout",
     "output_type": "stream",
     "text": [
      "t\n",
      "h\n",
      "i\n",
      "s\n",
      " \n",
      "i\n",
      "s\n",
      " \n",
      "s\n",
      "t\n",
      "r\n",
      "i\n",
      "n\n",
      "g\n",
      " \n",
      ",\n",
      " \n",
      "l\n",
      "e\n",
      "t\n",
      "s\n",
      " \n",
      "l\n",
      "e\n",
      "a\n",
      "r\n",
      "n\n",
      " \n",
      "i\n",
      "t\n"
     ]
    }
   ],
   "source": [
    "for d in data:\n",
    "    print(d)\n"
   ]
  },
  {
   "cell_type": "code",
   "execution_count": 28,
   "id": "7ee6ee45",
   "metadata": {},
   "outputs": [
    {
     "name": "stdout",
     "output_type": "stream",
     "text": [
      "30\n"
     ]
    }
   ],
   "source": [
    "l=0\n",
    "for d in data:\n",
    "    l=l+1\n",
    "    \n",
    "print(l)\n"
   ]
  },
  {
   "cell_type": "code",
   "execution_count": 29,
   "id": "f6081444",
   "metadata": {},
   "outputs": [
    {
     "name": "stdout",
     "output_type": "stream",
     "text": [
      "30\n"
     ]
    }
   ],
   "source": [
    "l=0\n",
    "for d in data:\n",
    "    l=l+1\n",
    "    \n",
    "print(l)\n"
   ]
  },
  {
   "cell_type": "code",
   "execution_count": 30,
   "id": "6c8228f4",
   "metadata": {},
   "outputs": [
    {
     "data": {
      "text/plain": [
       "30"
      ]
     },
     "execution_count": 30,
     "metadata": {},
     "output_type": "execute_result"
    }
   ],
   "source": [
    "len(data) #no of characters present in string\n"
   ]
  },
  {
   "cell_type": "code",
   "execution_count": 31,
   "id": "20907cee",
   "metadata": {},
   "outputs": [
    {
     "data": {
      "text/plain": [
       "['Hi',\n",
       " 'this',\n",
       " 'is',\n",
       " 'jones',\n",
       " 'from',\n",
       " 'trichy',\n",
       " 'i',\n",
       " 'have',\n",
       " 'complete',\n",
       " 'mechanical',\n",
       " 'engineering',\n",
       " 'and',\n",
       " 'waorking',\n",
       " 'as',\n",
       " 'recuriter',\n",
       " 'in',\n",
       " 'one',\n",
       " 'of',\n",
       " 'the',\n",
       " 'famous',\n",
       " 'company,im',\n",
       " 'earning',\n",
       " 'as',\n",
       " 'much',\n",
       " 'as',\n",
       " 'im',\n",
       " 'satisfied',\n",
       " 'and',\n",
       " 'also',\n",
       " 'im',\n",
       " 'persuing',\n",
       " 'data',\n",
       " 'analyst',\n",
       " 'from',\n",
       " 'edubridge',\n",
       " 'to',\n",
       " 'get',\n",
       " 'a',\n",
       " 'knowledge',\n",
       " 'about',\n",
       " 'data',\n",
       " 'analyst']"
      ]
     },
     "execution_count": 31,
     "metadata": {},
     "output_type": "execute_result"
    }
   ],
   "source": [
    "data= \"\"\"Hi this is jones from trichy i have complete mechanical engineering and waorking as recuriter in one of the famous company,im earning as much as im satisfied and also im persuing data analyst from edubridge to get a knowledge about data analyst\"\"\"\n",
    "data.split(\" \")"
   ]
  },
  {
   "cell_type": "code",
   "execution_count": 32,
   "id": "8f42b51b",
   "metadata": {},
   "outputs": [
    {
     "name": "stdout",
     "output_type": "stream",
     "text": [
      "H\n",
      "i\n",
      " \n",
      "t\n",
      "h\n",
      "i\n",
      "s\n",
      " \n",
      "i\n",
      "s\n",
      " \n",
      "j\n",
      "o\n",
      "n\n",
      "e\n",
      "s\n",
      " \n",
      "f\n",
      "r\n",
      "o\n",
      "m\n",
      " \n",
      "t\n",
      "r\n",
      "i\n",
      "c\n",
      "h\n",
      "y\n",
      " \n",
      "i\n",
      " \n",
      "h\n",
      "a\n",
      "v\n",
      "e\n",
      " \n",
      "c\n",
      "o\n",
      "m\n",
      "p\n",
      "l\n",
      "e\n",
      "t\n",
      "e\n",
      " \n",
      "m\n",
      "e\n",
      "c\n",
      "h\n",
      "a\n",
      "n\n",
      "i\n",
      "c\n",
      "a\n",
      "l\n",
      " \n",
      "e\n",
      "n\n",
      "g\n",
      "i\n",
      "n\n",
      "e\n",
      "e\n",
      "r\n",
      "i\n",
      "n\n",
      "g\n",
      " \n",
      "a\n",
      "n\n",
      "d\n",
      " \n",
      "w\n",
      "a\n",
      "o\n",
      "r\n",
      "k\n",
      "i\n",
      "n\n",
      "g\n",
      " \n",
      "a\n",
      "s\n",
      " \n",
      "r\n",
      "e\n",
      "c\n",
      "u\n",
      "r\n",
      "i\n",
      "t\n",
      "e\n",
      "r\n",
      " \n",
      "i\n",
      "n\n",
      " \n",
      "o\n",
      "n\n",
      "e\n",
      " \n",
      "o\n",
      "f\n",
      " \n",
      "t\n",
      "h\n",
      "e\n",
      " \n",
      "f\n",
      "a\n",
      "m\n",
      "o\n",
      "u\n",
      "s\n",
      " \n",
      "c\n",
      "o\n",
      "m\n",
      "p\n",
      "a\n",
      "n\n",
      "y\n",
      ",\n",
      "i\n",
      "m\n",
      " \n",
      "e\n",
      "a\n",
      "r\n",
      "n\n",
      "i\n",
      "n\n",
      "g\n",
      " \n",
      "a\n",
      "s\n",
      " \n",
      "m\n",
      "u\n",
      "c\n",
      "h\n",
      " \n",
      "a\n",
      "s\n",
      " \n",
      "i\n",
      "m\n",
      " \n",
      "s\n",
      "a\n",
      "t\n",
      "i\n",
      "s\n",
      "f\n",
      "i\n",
      "e\n",
      "d\n",
      " \n",
      "a\n",
      "n\n",
      "d\n",
      " \n",
      "a\n",
      "l\n",
      "s\n",
      "o\n",
      " \n",
      "i\n",
      "m\n",
      " \n",
      "p\n",
      "e\n",
      "r\n",
      "s\n",
      "u\n",
      "i\n",
      "n\n",
      "g\n",
      " \n",
      "d\n",
      "a\n",
      "t\n",
      "a\n",
      " \n",
      "a\n",
      "n\n",
      "a\n",
      "l\n",
      "y\n",
      "s\n",
      "t\n",
      " \n",
      "f\n",
      "r\n",
      "o\n",
      "m\n",
      " \n",
      "e\n",
      "d\n",
      "u\n",
      "b\n",
      "r\n",
      "i\n",
      "d\n",
      "g\n",
      "e\n",
      " \n",
      "t\n",
      "o\n",
      " \n",
      "g\n",
      "e\n",
      "t\n",
      " \n",
      "a\n",
      " \n",
      "k\n",
      "n\n",
      "o\n",
      "w\n",
      "l\n",
      "e\n",
      "d\n",
      "g\n",
      "e\n",
      " \n",
      "a\n",
      "b\n",
      "o\n",
      "u\n",
      "t\n",
      " \n",
      "d\n",
      "a\n",
      "t\n",
      "a\n",
      " \n",
      "a\n",
      "n\n",
      "a\n",
      "l\n",
      "y\n",
      "s\n",
      "t\n"
     ]
    }
   ],
   "source": [
    "for d in data:\n",
    "    print(d)\n",
    "    "
   ]
  },
  {
   "cell_type": "code",
   "execution_count": 33,
   "id": "2650c2f8",
   "metadata": {},
   "outputs": [
    {
     "name": "stdout",
     "output_type": "stream",
     "text": [
      "244\n"
     ]
    }
   ],
   "source": [
    "l=0\n",
    "for d in data:\n",
    "    l=l+1\n",
    "    \n",
    "print(l)"
   ]
  },
  {
   "cell_type": "code",
   "execution_count": 34,
   "id": "e6288e5a",
   "metadata": {},
   "outputs": [
    {
     "data": {
      "text/plain": [
       "244"
      ]
     },
     "execution_count": 34,
     "metadata": {},
     "output_type": "execute_result"
    }
   ],
   "source": [
    "len(data)"
   ]
  },
  {
   "cell_type": "code",
   "execution_count": 38,
   "id": "593117e8",
   "metadata": {},
   "outputs": [
    {
     "data": {
      "text/plain": [
       "'ichy i have complete mechanical engineering and waorking as recuriter in one of the famous company,im earning as much as im satisfied and also im persuing data analyst from edubridge to g'"
      ]
     },
     "execution_count": 38,
     "metadata": {},
     "output_type": "execute_result"
    }
   ],
   "source": [
    "data[24:-33]"
   ]
  },
  {
   "cell_type": "code",
   "execution_count": 39,
   "id": "bb458987",
   "metadata": {},
   "outputs": [
    {
     "name": "stdout",
     "output_type": "stream",
     "text": [
      "['this is one line.', 'this is second line.', 'This is third line.']\n"
     ]
    }
   ],
   "source": [
    "newstr='''this is one line.\n",
    "this is second line.\n",
    "This is third line.'''\n",
    "\n",
    "lines=newstr.split('\\n')\n",
    "print(lines)\n"
   ]
  },
  {
   "cell_type": "code",
   "execution_count": 40,
   "id": "1c481de2",
   "metadata": {},
   "outputs": [
    {
     "name": "stdout",
     "output_type": "stream",
     "text": [
      "3\n"
     ]
    }
   ],
   "source": [
    "count=0\n",
    "for i in lines:\n",
    "    count=count+1\n",
    "    \n",
    "print(count)\n"
   ]
  },
  {
   "cell_type": "code",
   "execution_count": 41,
   "id": "4d65b6a7",
   "metadata": {},
   "outputs": [
    {
     "data": {
      "text/plain": [
       "'This Is One Line.\\nThis Is Second Line.\\nThis Is Third Line.'"
      ]
     },
     "execution_count": 41,
     "metadata": {},
     "output_type": "execute_result"
    }
   ],
   "source": [
    "newstr.title()\n"
   ]
  },
  {
   "cell_type": "code",
   "execution_count": 42,
   "id": "9e65fb21",
   "metadata": {},
   "outputs": [
    {
     "data": {
      "text/plain": [
       "'This is one line.\\nthis is second line.\\nthis is third line.'"
      ]
     },
     "execution_count": 42,
     "metadata": {},
     "output_type": "execute_result"
    }
   ],
   "source": [
    "newstr.capitalize()\n"
   ]
  },
  {
   "cell_type": "code",
   "execution_count": 43,
   "id": "c181eb1b",
   "metadata": {},
   "outputs": [
    {
     "data": {
      "text/plain": [
       "'THIS IS ONE LINE.\\nTHIS IS SECOND LINE.\\nTHIS IS THIRD LINE.'"
      ]
     },
     "execution_count": 43,
     "metadata": {},
     "output_type": "execute_result"
    }
   ],
   "source": [
    "newstr.upper()\n"
   ]
  },
  {
   "cell_type": "code",
   "execution_count": 44,
   "id": "49aa7e91",
   "metadata": {},
   "outputs": [
    {
     "data": {
      "text/plain": [
       "'this is one line.\\nthis is second line.\\nthis is third line.'"
      ]
     },
     "execution_count": 44,
     "metadata": {},
     "output_type": "execute_result"
    }
   ],
   "source": [
    "newstr.lower()\n"
   ]
  },
  {
   "cell_type": "code",
   "execution_count": 45,
   "id": "edc363c7",
   "metadata": {},
   "outputs": [
    {
     "name": "stdout",
     "output_type": "stream",
     "text": [
      "This is one line.\n",
      "This is second line.\n",
      "This is Third line.\n"
     ]
    }
   ],
   "source": [
    "new2=newstr.replace(\"t\",\"T\")\n",
    "print(new2)\n"
   ]
  },
  {
   "cell_type": "code",
   "execution_count": 46,
   "id": "cce23044",
   "metadata": {},
   "outputs": [
    {
     "data": {
      "text/plain": [
       "'Ihis is one line.\\nIhis is second line.\\nIhis is Ihird line.'"
      ]
     },
     "execution_count": 46,
     "metadata": {},
     "output_type": "execute_result"
    }
   ],
   "source": [
    "new2.replace('T','I')\n"
   ]
  },
  {
   "cell_type": "code",
   "execution_count": 47,
   "id": "b91560aa",
   "metadata": {},
   "outputs": [
    {
     "data": {
      "text/plain": [
       "829"
      ]
     },
     "execution_count": 47,
     "metadata": {},
     "output_type": "execute_result"
    }
   ],
   "source": [
    "data= \"\"\"In computer programming, a string is traditionally a sequence of characters, either as a literal constant or as some kind of variable. The latter may allow its elements to be mutated and the length changed, or it may be fixed (after creation). A string is generally considered as a data type and is often implemented as an array data structure of bytes (or words) that stores a sequence of elements, typically characters, using some character encoding. String may also denote more general arrays or other sequence (or list) data types and structures.\n",
    "Depending on the programming language and precise data type used, a variable declared to be a string may either cause storage in memory to be statically allocated for a predetermined maximum length or employ dynamic allocation to allow it to hold a variable number of elements.\n",
    "\"\"\"\n",
    "len(data)"
   ]
  },
  {
   "cell_type": "code",
   "execution_count": 51,
   "id": "497e78f6",
   "metadata": {},
   "outputs": [
    {
     "data": {
      "text/plain": [
       "'In computer programming, a STRING is traditionally a sequence of characters, either as a literal constant or as some kind of variable. The latter may allow its elements to be mutated and the length changed, or it may be fixed (after creation). A STRING is generally considered as a data type and is often implemented as an array data structure of bytes (or words) that stores a sequence of elements, typically characters, using some character encoding. String may also denote more general arrays or other sequence (or list) data types and structures.\\nDepending on the programming language and precise data type used, a variable declared to be a STRING may either cause storage in memory to be statically allocated for a predetermined maximum length or employ dynamic allocation to allow it to hold a variable number of elements.\\n'"
      ]
     },
     "execution_count": 51,
     "metadata": {},
     "output_type": "execute_result"
    }
   ],
   "source": [
    "data= \"\"\"In computer programming, a string is traditionally a sequence of characters, either as a literal constant or as some kind of variable. The latter may allow its elements to be mutated and the length changed, or it may be fixed (after creation). A string is generally considered as a data type and is often implemented as an array data structure of bytes (or words) that stores a sequence of elements, typically characters, using some character encoding. String may also denote more general arrays or other sequence (or list) data types and structures.\n",
    "Depending on the programming language and precise data type used, a variable declared to be a string may either cause storage in memory to be statically allocated for a predetermined maximum length or employ dynamic allocation to allow it to hold a variable number of elements.\n",
    "\"\"\"\n",
    "data.replace(\"string\",\"STRING\")"
   ]
  },
  {
   "cell_type": "code",
   "execution_count": 52,
   "id": "6c177211",
   "metadata": {},
   "outputs": [
    {
     "data": {
      "text/plain": [
       "['In',\n",
       " 'computer',\n",
       " 'programming,',\n",
       " 'a',\n",
       " 'string',\n",
       " 'is',\n",
       " 'traditionally',\n",
       " 'a',\n",
       " 'sequence',\n",
       " 'of',\n",
       " 'characters,',\n",
       " 'either',\n",
       " 'as',\n",
       " 'a',\n",
       " 'literal',\n",
       " 'constant',\n",
       " 'or',\n",
       " 'as',\n",
       " 'some',\n",
       " 'kind',\n",
       " 'of',\n",
       " 'variable.',\n",
       " 'The',\n",
       " 'latter',\n",
       " 'may',\n",
       " 'allow',\n",
       " 'its',\n",
       " 'elements',\n",
       " 'to',\n",
       " 'be',\n",
       " 'mutated',\n",
       " 'and',\n",
       " 'the',\n",
       " 'length',\n",
       " 'changed,',\n",
       " 'or',\n",
       " 'it',\n",
       " 'may',\n",
       " 'be',\n",
       " 'fixed',\n",
       " '(after',\n",
       " 'creation).',\n",
       " 'A',\n",
       " 'string',\n",
       " 'is',\n",
       " 'generally',\n",
       " 'considered',\n",
       " 'as',\n",
       " 'a',\n",
       " 'data',\n",
       " 'type',\n",
       " 'and',\n",
       " 'is',\n",
       " 'often',\n",
       " 'implemented',\n",
       " 'as',\n",
       " 'an',\n",
       " 'array',\n",
       " 'data',\n",
       " 'structure',\n",
       " 'of',\n",
       " 'bytes',\n",
       " '(or',\n",
       " 'words)',\n",
       " 'that',\n",
       " 'stores',\n",
       " 'a',\n",
       " 'sequence',\n",
       " 'of',\n",
       " 'elements,',\n",
       " 'typically',\n",
       " 'characters,',\n",
       " 'using',\n",
       " 'some',\n",
       " 'character',\n",
       " 'encoding.',\n",
       " 'String',\n",
       " 'may',\n",
       " 'also',\n",
       " 'denote',\n",
       " 'more',\n",
       " 'general',\n",
       " 'arrays',\n",
       " 'or',\n",
       " 'other',\n",
       " 'sequence',\n",
       " '(or',\n",
       " 'list)',\n",
       " 'data',\n",
       " 'types',\n",
       " 'and',\n",
       " 'structures.',\n",
       " 'Depending',\n",
       " 'on',\n",
       " 'the',\n",
       " 'programming',\n",
       " 'language',\n",
       " 'and',\n",
       " 'precise',\n",
       " 'data',\n",
       " 'type',\n",
       " 'used,',\n",
       " 'a',\n",
       " 'variable',\n",
       " 'declared',\n",
       " 'to',\n",
       " 'be',\n",
       " 'a',\n",
       " 'string',\n",
       " 'may',\n",
       " 'either',\n",
       " 'cause',\n",
       " 'storage',\n",
       " 'in',\n",
       " 'memory',\n",
       " 'to',\n",
       " 'be',\n",
       " 'statically',\n",
       " 'allocated',\n",
       " 'for',\n",
       " 'a',\n",
       " 'predetermined',\n",
       " 'maximum',\n",
       " 'length',\n",
       " 'or',\n",
       " 'employ',\n",
       " 'dynamic',\n",
       " 'allocation',\n",
       " 'to',\n",
       " 'allow',\n",
       " 'it',\n",
       " 'to',\n",
       " 'hold',\n",
       " 'a',\n",
       " 'variable',\n",
       " 'number',\n",
       " 'of',\n",
       " 'elements.']"
      ]
     },
     "execution_count": 52,
     "metadata": {},
     "output_type": "execute_result"
    }
   ],
   "source": [
    "data= \"\"\"In computer programming, a string is traditionally a sequence of characters, either as a literal constant or as some kind of variable. The latter may allow its elements to be mutated and the length changed, or it may be fixed (after creation). A string is generally considered as a data type and is often implemented as an array data structure of bytes (or words) that stores a sequence of elements, typically characters, using some character encoding. String may also denote more general arrays or other sequence (or list) data types and structures.\n",
    "Depending on the programming language and precise data type used, a variable declared to be a string may either cause storage in memory to be statically allocated for a predetermined maximum length or employ dynamic allocation to allow it to hold a variable number of elements.\n",
    "\"\"\"\n",
    "data. split()"
   ]
  },
  {
   "cell_type": "code",
   "execution_count": 53,
   "id": "ebc59881",
   "metadata": {},
   "outputs": [
    {
     "data": {
      "text/plain": [
       "'In computer programming, a string in python is traditionally a sequence of characters, either as a literal constant or as some kind of variable. The latter may allow its elements to be mutated and the length changed, or it may be fixed (after creation). A string in python is generally considered as a data type and is often implemented as an array data structure of bytes (or words) that stores a sequence of elements, typically characters, using some character encoding. String may also denote more general arrays or other sequence (or list) data types and structures.\\nDepending on the programming language and precise data type used, a variable declared to be a string in python may either cause storage in memory to be statically allocated for a predetermined maximum length or employ dynamic allocation to allow it to hold a variable number of elements.\\n'"
      ]
     },
     "execution_count": 53,
     "metadata": {},
     "output_type": "execute_result"
    }
   ],
   "source": [
    "data= \"\"\"In computer programming, a string is traditionally a sequence of characters, either as a literal constant or as some kind of variable. The latter may allow its elements to be mutated and the length changed, or it may be fixed (after creation). A string is generally considered as a data type and is often implemented as an array data structure of bytes (or words) that stores a sequence of elements, typically characters, using some character encoding. String may also denote more general arrays or other sequence (or list) data types and structures.\n",
    "Depending on the programming language and precise data type used, a variable declared to be a string may either cause storage in memory to be statically allocated for a predetermined maximum length or employ dynamic allocation to allow it to hold a variable number of elements.\n",
    "\"\"\"\n",
    "data.replace(\"string\",\"string in python\")"
   ]
  },
  {
   "cell_type": "code",
   "execution_count": 54,
   "id": "54dee17d",
   "metadata": {},
   "outputs": [
    {
     "data": {
      "text/plain": [
       "'In computer programming, a ptring ip traditionally a pequence of characterp, either ap a literal conptant or ap pome kind of variable. The latter may allow itp elementp to be mutated and the length changed, or it may be fixed (after creation). A ptring ip generally conpidered ap a data type and ip often implemented ap an array data ptructure of bytep (or wordp) that ptorep a pequence of elementp, typically characterp, uping pome character encoding. String may alpo denote more general arrayp or other pequence (or lipt) data typep and ptructurep.\\nDepending on the programming language and precipe data type uped, a variable declared to be a ptring may either caupe ptorage in memory to be ptatically allocated for a predetermined maximum length or employ dynamic allocation to allow it to hold a variable number of elementp.\\n'"
      ]
     },
     "execution_count": 54,
     "metadata": {},
     "output_type": "execute_result"
    }
   ],
   "source": [
    "data= \"\"\"In computer programming, a string is traditionally a sequence of characters, either as a literal constant or as some kind of variable. The latter may allow its elements to be mutated and the length changed, or it may be fixed (after creation). A string is generally considered as a data type and is often implemented as an array data structure of bytes (or words) that stores a sequence of elements, typically characters, using some character encoding. String may also denote more general arrays or other sequence (or list) data types and structures.\n",
    "Depending on the programming language and precise data type used, a variable declared to be a string may either cause storage in memory to be statically allocated for a predetermined maximum length or employ dynamic allocation to allow it to hold a variable number of elements.\n",
    "\"\"\"\n",
    "data.replace(\"s\",\"p\")"
   ]
  },
  {
   "cell_type": "code",
   "execution_count": 10,
   "id": "b2a6262d",
   "metadata": {},
   "outputs": [
    {
     "name": "stdout",
     "output_type": "stream",
     "text": [
      "Kindly Enter Your Username And Password\n",
      "Enter Your Username: shreya\n",
      "Enter Your Password: dsfgb\n",
      "Access Denied. Sorry, Try again.\n",
      "Enter Your Username: shreya\n",
      "Enter Your Password: Shreya@25\n",
      "Access Granted!\n"
     ]
    }
   ],
   "source": [
    "#username and password\n",
    "print(\"Kindly Enter Your Username And Password\")\n",
    "count = 0\n",
    "while count<3:\n",
    "    username = input(\"Enter Your Username: \")\n",
    "    password = input(\"Enter Your Password: \")\n",
    "    if username=='shreya' and password=='Shreya@25':\n",
    "        print(\"Access Granted!\")\n",
    "        break\n",
    "    else:\n",
    "        print(\"Access Denied. Sorry, Try again.\")\n",
    "    count = count+1\n"
   ]
  },
  {
   "cell_type": "code",
   "execution_count": 11,
   "id": "29559bb2",
   "metadata": {},
   "outputs": [],
   "source": [
    "empty = [] #creation of empty list\n"
   ]
  },
  {
   "cell_type": "code",
   "execution_count": 12,
   "id": "db34c724",
   "metadata": {},
   "outputs": [],
   "source": [
    "num_list = [1,2,3,4,5] #numeric data\n",
    "char_list = [\"abc\",\"xyz\",\"pqr\",\"ijk\"] #character/string data\n",
    "com_list=[\"abc\",123,6.99,True] #hybrid/mixed data\n"
   ]
  },
  {
   "cell_type": "code",
   "execution_count": 13,
   "id": "7c27145e",
   "metadata": {},
   "outputs": [
    {
     "name": "stdout",
     "output_type": "stream",
     "text": [
      "[1, 2, 3, 4, 5]\n",
      "['abc', 'xyz', 'pqr', 'ijk']\n",
      "['abc', 123, 6.99, True]\n"
     ]
    }
   ],
   "source": [
    "print(num_list)\n",
    "print(char_list)\n",
    "print(com_list)\n"
   ]
  },
  {
   "cell_type": "code",
   "execution_count": 14,
   "id": "fb1fba3e",
   "metadata": {},
   "outputs": [
    {
     "data": {
      "text/plain": [
       "[123, 6.99]"
      ]
     },
     "execution_count": 14,
     "metadata": {},
     "output_type": "execute_result"
    }
   ],
   "source": [
    "com_list [1:3] #start 1: end 2(end value not inclusive)\n"
   ]
  },
  {
   "cell_type": "code",
   "execution_count": 15,
   "id": "649e3d0b",
   "metadata": {},
   "outputs": [
    {
     "data": {
      "text/plain": [
       "['abc', 123, 6.99, True]"
      ]
     },
     "execution_count": 15,
     "metadata": {},
     "output_type": "execute_result"
    }
   ],
   "source": [
    "com_list [:]"
   ]
  },
  {
   "cell_type": "code",
   "execution_count": 16,
   "id": "d0d6d65b",
   "metadata": {},
   "outputs": [
    {
     "data": {
      "text/plain": [
       "[123, 6.99, True]"
      ]
     },
     "execution_count": 16,
     "metadata": {},
     "output_type": "execute_result"
    }
   ],
   "source": [
    "com_list [1:]"
   ]
  },
  {
   "cell_type": "code",
   "execution_count": 17,
   "id": "47cc3282",
   "metadata": {},
   "outputs": [
    {
     "data": {
      "text/plain": [
       "['pqr', 'ijk']"
      ]
     },
     "execution_count": 17,
     "metadata": {},
     "output_type": "execute_result"
    }
   ],
   "source": [
    "char_list [2:4]"
   ]
  },
  {
   "cell_type": "code",
   "execution_count": 18,
   "id": "03b52a12",
   "metadata": {},
   "outputs": [
    {
     "data": {
      "text/plain": [
       "4"
      ]
     },
     "execution_count": 18,
     "metadata": {},
     "output_type": "execute_result"
    }
   ],
   "source": [
    "len(com_list)"
   ]
  },
  {
   "cell_type": "code",
   "execution_count": 19,
   "id": "b8e454ee",
   "metadata": {},
   "outputs": [],
   "source": [
    "items = ['idily','dosa','pongal','briyani','barbeque']\n"
   ]
  },
  {
   "cell_type": "code",
   "execution_count": 3,
   "id": "6120b446",
   "metadata": {},
   "outputs": [],
   "source": [
    "items = ['idily','dosa','pongal','briyani','barbeque']\n",
    "\n",
    "items[2]='vadai'"
   ]
  },
  {
   "cell_type": "code",
   "execution_count": 5,
   "id": "f352397b",
   "metadata": {},
   "outputs": [],
   "source": [
    "items = ['idily','dosa','pongal','briyani','barbeque']\n",
    "items.append(\"pizza\")\n"
   ]
  },
  {
   "cell_type": "code",
   "execution_count": 7,
   "id": "d169238a",
   "metadata": {},
   "outputs": [
    {
     "data": {
      "text/plain": [
       "['barbeque']"
      ]
     },
     "execution_count": 7,
     "metadata": {},
     "output_type": "execute_result"
    }
   ],
   "source": [
    "items = ['idily','dosa','pongal','briyani','barbeque']\n",
    "items [-1:]"
   ]
  },
  {
   "cell_type": "code",
   "execution_count": 11,
   "id": "b4a62618",
   "metadata": {},
   "outputs": [],
   "source": [
    "char_list = [\"abc\",\"xyz\",\"pqr\",\"ijk\"]\n",
    "\n"
   ]
  },
  {
   "cell_type": "code",
   "execution_count": 14,
   "id": "48da3fbb",
   "metadata": {},
   "outputs": [
    {
     "data": {
      "text/plain": [
       "['pqr', 'xyz']"
      ]
     },
     "execution_count": 14,
     "metadata": {},
     "output_type": "execute_result"
    }
   ],
   "source": [
    "char_list = [\"abc\",\"xyz\",\"pqr\",\"ijk\"]\n",
    "char_list[2:0:-1]\n"
   ]
  },
  {
   "cell_type": "code",
   "execution_count": 16,
   "id": "52124e30",
   "metadata": {},
   "outputs": [
    {
     "data": {
      "text/plain": [
       "['ijk', 'pqr', 'xyz', 'abc']"
      ]
     },
     "execution_count": 16,
     "metadata": {},
     "output_type": "execute_result"
    }
   ],
   "source": [
    "char_list[::-1]#reverse a string"
   ]
  },
  {
   "cell_type": "code",
   "execution_count": 18,
   "id": "8687d8b3",
   "metadata": {},
   "outputs": [
    {
     "data": {
      "text/plain": [
       "['idily',\n",
       " 'dosa',\n",
       " 'pongal',\n",
       " 'briyani',\n",
       " 'barbeque',\n",
       " ['veg nudgets', 'french fries'],\n",
       " ['veg nudgets', 'french fries']]"
      ]
     },
     "execution_count": 18,
     "metadata": {},
     "output_type": "execute_result"
    }
   ],
   "source": [
    "new_items=[\"veg nudgets\",\"french fries\"]\n",
    "items.append(new_items)\n",
    "items"
   ]
  },
  {
   "cell_type": "code",
   "execution_count": 19,
   "id": "a61bc110",
   "metadata": {},
   "outputs": [
    {
     "data": {
      "text/plain": [
       "['veg nudgets', 'french fries', 'idali sambar', 'dosa']"
      ]
     },
     "execution_count": 19,
     "metadata": {},
     "output_type": "execute_result"
    }
   ],
   "source": [
    "list3=new_items + [\"idali sambar\",\"dosa\"] #concatenation\n",
    "list3\n"
   ]
  },
  {
   "cell_type": "code",
   "execution_count": 20,
   "id": "cedbf6dc",
   "metadata": {},
   "outputs": [],
   "source": [
    "#index\n",
    "#append single\n",
    "#append directly list\n",
    "#append list variable\n",
    "#concatenation +\n"
   ]
  },
  {
   "cell_type": "code",
   "execution_count": 24,
   "id": "9daf72da",
   "metadata": {},
   "outputs": [
    {
     "name": "stdout",
     "output_type": "stream",
     "text": [
      "['apple', 'orange', 'grapes', ['carrot', 'potato', 'cabbage']]\n"
     ]
    }
   ],
   "source": [
    "items1=[\"apple\",\"orange\",\"grapes\"]\n",
    "items2=[\"carrot\",\"potato\",\"cabbage\"]\n",
    "items1.append(items2)\n",
    "print(items1)"
   ]
  },
  {
   "cell_type": "code",
   "execution_count": 30,
   "id": "e21fdd81",
   "metadata": {},
   "outputs": [
    {
     "data": {
      "text/plain": [
       "['apple', 'orange']"
      ]
     },
     "execution_count": 30,
     "metadata": {},
     "output_type": "execute_result"
    }
   ],
   "source": [
    "items1=[\"apple\",\"orange\",\"grapes\"]\n",
    "items1.remove(\"grapes\")\n",
    "items1"
   ]
  },
  {
   "cell_type": "code",
   "execution_count": 37,
   "id": "9819a6f0",
   "metadata": {},
   "outputs": [
    {
     "ename": "IndexError",
     "evalue": "pop from empty list",
     "output_type": "error",
     "traceback": [
      "\u001b[1;31m---------------------------------------------------------------------------\u001b[0m",
      "\u001b[1;31mIndexError\u001b[0m                                Traceback (most recent call last)",
      "Input \u001b[1;32mIn [37]\u001b[0m, in \u001b[0;36m<cell line: 1>\u001b[1;34m()\u001b[0m\n\u001b[1;32m----> 1\u001b[0m \u001b[43mitems1\u001b[49m\u001b[38;5;241;43m.\u001b[39;49m\u001b[43mpop\u001b[49m\u001b[43m(\u001b[49m\u001b[38;5;241;43m0\u001b[39;49m\u001b[43m)\u001b[49m\n\u001b[0;32m      2\u001b[0m items1\n",
      "\u001b[1;31mIndexError\u001b[0m: pop from empty list"
     ]
    }
   ],
   "source": [
    "items1.pop(0)\n",
    "items1"
   ]
  },
  {
   "cell_type": "code",
   "execution_count": 39,
   "id": "8608a2b8",
   "metadata": {},
   "outputs": [
    {
     "data": {
      "text/plain": [
       "7"
      ]
     },
     "execution_count": 39,
     "metadata": {},
     "output_type": "execute_result"
    }
   ],
   "source": [
    "length=len(items)\n",
    "length\n"
   ]
  },
  {
   "cell_type": "code",
   "execution_count": 41,
   "id": "5d9fcbf7",
   "metadata": {},
   "outputs": [
    {
     "ename": "NameError",
     "evalue": "name 'i' is not defined",
     "output_type": "error",
     "traceback": [
      "\u001b[1;31m---------------------------------------------------------------------------\u001b[0m",
      "\u001b[1;31mNameError\u001b[0m                                 Traceback (most recent call last)",
      "Input \u001b[1;32mIn [41]\u001b[0m, in \u001b[0;36m<cell line: 1>\u001b[1;34m()\u001b[0m\n\u001b[1;32m----> 1\u001b[0m \u001b[38;5;28mprint\u001b[39m(\u001b[43mi\u001b[49m)\n",
      "\u001b[1;31mNameError\u001b[0m: name 'i' is not defined"
     ]
    }
   ],
   "source": [
    "print(i)"
   ]
  },
  {
   "cell_type": "code",
   "execution_count": 42,
   "id": "f97331b8",
   "metadata": {},
   "outputs": [],
   "source": [
    "firstnames=[\"anisley\",\"ben\",\"chani\",\"depak\"]\n",
    "preferedsize=[\"small\",\"large\",\"medium\"]"
   ]
  },
  {
   "cell_type": "code",
   "execution_count": 45,
   "id": "69c1966c",
   "metadata": {},
   "outputs": [
    {
     "data": {
      "text/plain": [
       "['small', 'large', 'medium', 'medium']"
      ]
     },
     "execution_count": 45,
     "metadata": {},
     "output_type": "execute_result"
    }
   ],
   "source": [
    "#1-add depak size\n",
    "preferedsize=[\"small\",\"large\",\"medium\"]\n",
    "preferedsize.append(\"medium\")\n",
    "preferedsize"
   ]
  },
  {
   "cell_type": "code",
   "execution_count": 51,
   "id": "1e9000d5",
   "metadata": {},
   "outputs": [
    {
     "name": "stdout",
     "output_type": "stream",
     "text": [
      "['anisley', 'ben', 'chani', 'depak', ['small', 'large', 'medium']]\n"
     ]
    }
   ],
   "source": [
    "firstnames=[\"anisley\",\"ben\",\"chani\",\"depak\"]\n",
    "preferedsize=[\"small\",\"large\",\"medium\"]\n",
    "firstnames.append(preferedsize)\n",
    "print(firstnames)"
   ]
  }
 ],
 "metadata": {
  "kernelspec": {
   "display_name": "Python 3 (ipykernel)",
   "language": "python",
   "name": "python3"
  },
  "language_info": {
   "codemirror_mode": {
    "name": "ipython",
    "version": 3
   },
   "file_extension": ".py",
   "mimetype": "text/x-python",
   "name": "python",
   "nbconvert_exporter": "python",
   "pygments_lexer": "ipython3",
   "version": "3.9.12"
  }
 },
 "nbformat": 4,
 "nbformat_minor": 5
}
